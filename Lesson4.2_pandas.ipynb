{
 "cells": [
  {
   "cell_type": "markdown",
   "metadata": {},
   "source": [
    "<h1>Pandas</h1>"
   ]
  },
  {
   "cell_type": "code",
   "execution_count": 1,
   "metadata": {
    "scrolled": true
   },
   "outputs": [
    {
     "name": "stdout",
     "output_type": "stream",
     "text": [
      "Requirement already satisfied: pandas-datareader in c:\\users\\anatl\\anaconda3\\lib\\site-packages (0.10.0)\n",
      "Requirement already satisfied: pandas>=0.23 in c:\\users\\anatl\\anaconda3\\lib\\site-packages (from pandas-datareader) (1.3.4)\n",
      "Requirement already satisfied: requests>=2.19.0 in c:\\users\\anatl\\anaconda3\\lib\\site-packages (from pandas-datareader) (2.26.0)\n",
      "Requirement already satisfied: lxml in c:\\users\\anatl\\anaconda3\\lib\\site-packages (from pandas-datareader) (4.9.2)\n",
      "Requirement already satisfied: python-dateutil>=2.7.3 in c:\\users\\anatl\\anaconda3\\lib\\site-packages (from pandas>=0.23->pandas-datareader) (2.8.2)\n",
      "Requirement already satisfied: numpy>=1.17.3 in c:\\users\\anatl\\anaconda3\\lib\\site-packages (from pandas>=0.23->pandas-datareader) (1.24.1)\n",
      "Requirement already satisfied: pytz>=2017.3 in c:\\users\\anatl\\anaconda3\\lib\\site-packages (from pandas>=0.23->pandas-datareader) (2023.2)\n",
      "Requirement already satisfied: six>=1.5 in c:\\users\\anatl\\anaconda3\\lib\\site-packages (from python-dateutil>=2.7.3->pandas>=0.23->pandas-datareader) (1.16.0)\n",
      "Requirement already satisfied: idna<4,>=2.5 in c:\\users\\anatl\\anaconda3\\lib\\site-packages (from requests>=2.19.0->pandas-datareader) (3.2)\n",
      "Requirement already satisfied: urllib3<1.27,>=1.21.1 in c:\\users\\anatl\\anaconda3\\lib\\site-packages (from requests>=2.19.0->pandas-datareader) (1.26.7)\n",
      "Requirement already satisfied: charset-normalizer~=2.0.0 in c:\\users\\anatl\\anaconda3\\lib\\site-packages (from requests>=2.19.0->pandas-datareader) (2.0.4)\n",
      "Requirement already satisfied: certifi>=2017.4.17 in c:\\users\\anatl\\anaconda3\\lib\\site-packages (from requests>=2.19.0->pandas-datareader) (2021.10.8)\n",
      "Collecting html5lib==1.0b8\n",
      "  Using cached html5lib-1.0b8-py3-none-any.whl\n",
      "Requirement already satisfied: six in c:\\users\\anatl\\anaconda3\\lib\\site-packages (from html5lib==1.0b8) (1.16.0)\n",
      "Installing collected packages: html5lib\n",
      "  Attempting uninstall: html5lib\n",
      "    Found existing installation: html5lib 1.1\n",
      "    Uninstalling html5lib-1.1:\n",
      "      Successfully uninstalled html5lib-1.1\n",
      "Successfully installed html5lib-1.0b8\n"
     ]
    },
    {
     "name": "stderr",
     "output_type": "stream",
     "text": [
      "ERROR: pip's dependency resolver does not currently take into account all the packages that are installed. This behaviour is the source of the following dependency conflicts.\n",
      "yfinance 0.2.14 requires html5lib>=1.1, but you have html5lib 1.0b8 which is incompatible.\n"
     ]
    }
   ],
   "source": [
    "#installing pandas libraries\n",
    "!pip install pandas-datareader  \n",
    "# for reading files\n",
    "!pip install --upgrade html5lib==1.0b8  \n",
    "# for reading html\n",
    "\n",
    "#There is a bug in the latest version of html5lib so install an earlier version\n",
    "#Restart kernel after installing html5lib"
   ]
  },
  {
   "cell_type": "markdown",
   "metadata": {},
   "source": [
    "<h2>Imports</h2>"
   ]
  },
  {
   "cell_type": "code",
   "execution_count": 2,
   "metadata": {},
   "outputs": [],
   "source": [
    "import pandas as pd #pandas library\n",
    "from pandas_datareader import data #data readers (google, html, etc.)\n",
    "#The following line ensures that graphs are rendered in the notebook (and not in another window)\n",
    "%matplotlib inline \n",
    "import numpy as np\n",
    "import matplotlib.pyplot as plt #Plotting library\n",
    "import datetime as dt #datetime for timeseries support"
   ]
  },
  {
   "cell_type": "markdown",
   "metadata": {},
   "source": [
    "<h2>The structure of a dataframe</h2>"
   ]
  },
  {
   "cell_type": "code",
   "execution_count": 3,
   "metadata": {},
   "outputs": [],
   "source": [
    "d = pd.DataFrame([[1,2,3],[4,5,6]],columns=['A','B','C']) "
   ]
  },
  {
   "cell_type": "code",
   "execution_count": 4,
   "metadata": {},
   "outputs": [
    {
     "data": {
      "text/html": [
       "<div>\n",
       "<style scoped>\n",
       "    .dataframe tbody tr th:only-of-type {\n",
       "        vertical-align: middle;\n",
       "    }\n",
       "\n",
       "    .dataframe tbody tr th {\n",
       "        vertical-align: top;\n",
       "    }\n",
       "\n",
       "    .dataframe thead th {\n",
       "        text-align: right;\n",
       "    }\n",
       "</style>\n",
       "<table border=\"1\" class=\"dataframe\">\n",
       "  <thead>\n",
       "    <tr style=\"text-align: right;\">\n",
       "      <th></th>\n",
       "      <th>A</th>\n",
       "      <th>B</th>\n",
       "      <th>C</th>\n",
       "    </tr>\n",
       "  </thead>\n",
       "  <tbody>\n",
       "    <tr>\n",
       "      <th>0</th>\n",
       "      <td>1</td>\n",
       "      <td>2</td>\n",
       "      <td>3</td>\n",
       "    </tr>\n",
       "    <tr>\n",
       "      <th>1</th>\n",
       "      <td>4</td>\n",
       "      <td>5</td>\n",
       "      <td>6</td>\n",
       "    </tr>\n",
       "  </tbody>\n",
       "</table>\n",
       "</div>"
      ],
      "text/plain": [
       "   A  B  C\n",
       "0  1  2  3\n",
       "1  4  5  6"
      ]
     },
     "execution_count": 4,
     "metadata": {},
     "output_type": "execute_result"
    }
   ],
   "source": [
    "d"
   ]
  },
  {
   "cell_type": "markdown",
   "metadata": {},
   "source": [
    "<h3>Accessing columns and rows</h3>"
   ]
  },
  {
   "cell_type": "code",
   "execution_count": 5,
   "metadata": {},
   "outputs": [
    {
     "name": "stdout",
     "output_type": "stream",
     "text": [
      "2235372799408\n"
     ]
    },
    {
     "data": {
      "text/html": [
       "<div>\n",
       "<style scoped>\n",
       "    .dataframe tbody tr th:only-of-type {\n",
       "        vertical-align: middle;\n",
       "    }\n",
       "\n",
       "    .dataframe tbody tr th {\n",
       "        vertical-align: top;\n",
       "    }\n",
       "\n",
       "    .dataframe thead th {\n",
       "        text-align: right;\n",
       "    }\n",
       "</style>\n",
       "<table border=\"1\" class=\"dataframe\">\n",
       "  <thead>\n",
       "    <tr style=\"text-align: right;\">\n",
       "      <th></th>\n",
       "      <th>row_label</th>\n",
       "      <th>A</th>\n",
       "      <th>B</th>\n",
       "      <th>C</th>\n",
       "    </tr>\n",
       "  </thead>\n",
       "  <tbody>\n",
       "    <tr>\n",
       "      <th>0</th>\n",
       "      <td>r1</td>\n",
       "      <td>00</td>\n",
       "      <td>01</td>\n",
       "      <td>02</td>\n",
       "    </tr>\n",
       "    <tr>\n",
       "      <th>1</th>\n",
       "      <td>r2</td>\n",
       "      <td>10</td>\n",
       "      <td>11</td>\n",
       "      <td>12</td>\n",
       "    </tr>\n",
       "    <tr>\n",
       "      <th>2</th>\n",
       "      <td>r3</td>\n",
       "      <td>20</td>\n",
       "      <td>21</td>\n",
       "      <td>22</td>\n",
       "    </tr>\n",
       "  </tbody>\n",
       "</table>\n",
       "</div>"
      ],
      "text/plain": [
       "  row_label   A   B   C\n",
       "0        r1  00  01  02\n",
       "1        r2  10  11  12\n",
       "2        r3  20  21  22"
      ]
     },
     "execution_count": 5,
     "metadata": {},
     "output_type": "execute_result"
    }
   ],
   "source": [
    "df = pd.DataFrame([['r1','00','01','02'],['r2','10','11','12'],['r3','20','21','22']],columns=['row_label','A','B','C'])\n",
    "print(id(df))\n",
    "df\n"
   ]
  },
  {
   "cell_type": "code",
   "execution_count": 12,
   "metadata": {},
   "outputs": [
    {
     "name": "stdout",
     "output_type": "stream",
     "text": [
      "2235372799408\n"
     ]
    },
    {
     "data": {
      "text/html": [
       "<div>\n",
       "<style scoped>\n",
       "    .dataframe tbody tr th:only-of-type {\n",
       "        vertical-align: middle;\n",
       "    }\n",
       "\n",
       "    .dataframe tbody tr th {\n",
       "        vertical-align: top;\n",
       "    }\n",
       "\n",
       "    .dataframe thead th {\n",
       "        text-align: right;\n",
       "    }\n",
       "</style>\n",
       "<table border=\"1\" class=\"dataframe\">\n",
       "  <thead>\n",
       "    <tr style=\"text-align: right;\">\n",
       "      <th></th>\n",
       "      <th>A</th>\n",
       "      <th>B</th>\n",
       "      <th>C</th>\n",
       "    </tr>\n",
       "    <tr>\n",
       "      <th>row_label</th>\n",
       "      <th></th>\n",
       "      <th></th>\n",
       "      <th></th>\n",
       "    </tr>\n",
       "  </thead>\n",
       "  <tbody>\n",
       "    <tr>\n",
       "      <th>r1</th>\n",
       "      <td>00</td>\n",
       "      <td>01</td>\n",
       "      <td>02</td>\n",
       "    </tr>\n",
       "    <tr>\n",
       "      <th>r2</th>\n",
       "      <td>10</td>\n",
       "      <td>11</td>\n",
       "      <td>12</td>\n",
       "    </tr>\n",
       "    <tr>\n",
       "      <th>r3</th>\n",
       "      <td>20</td>\n",
       "      <td>21</td>\n",
       "      <td>22</td>\n",
       "    </tr>\n",
       "  </tbody>\n",
       "</table>\n",
       "</div>"
      ],
      "text/plain": [
       "            A   B   C\n",
       "row_label            \n",
       "r1         00  01  02\n",
       "r2         10  11  12\n",
       "r3         20  21  22"
      ]
     },
     "execution_count": 12,
     "metadata": {},
     "output_type": "execute_result"
    }
   ],
   "source": [
    "df.set_index('row_label',inplace=True) # inplace = True means that the dataframe is changed. if it was false - a new df is created\n",
    "print(id(df))\n",
    "df"
   ]
  },
  {
   "cell_type": "code",
   "execution_count": 7,
   "metadata": {},
   "outputs": [
    {
     "data": {
      "text/html": [
       "<div>\n",
       "<style scoped>\n",
       "    .dataframe tbody tr th:only-of-type {\n",
       "        vertical-align: middle;\n",
       "    }\n",
       "\n",
       "    .dataframe tbody tr th {\n",
       "        vertical-align: top;\n",
       "    }\n",
       "\n",
       "    .dataframe thead th {\n",
       "        text-align: right;\n",
       "    }\n",
       "</style>\n",
       "<table border=\"1\" class=\"dataframe\">\n",
       "  <thead>\n",
       "    <tr style=\"text-align: right;\">\n",
       "      <th></th>\n",
       "      <th>row_label</th>\n",
       "      <th>A</th>\n",
       "      <th>B</th>\n",
       "      <th>C</th>\n",
       "    </tr>\n",
       "  </thead>\n",
       "  <tbody>\n",
       "    <tr>\n",
       "      <th>0</th>\n",
       "      <td>r1</td>\n",
       "      <td>00</td>\n",
       "      <td>01</td>\n",
       "      <td>02</td>\n",
       "    </tr>\n",
       "    <tr>\n",
       "      <th>1</th>\n",
       "      <td>r2</td>\n",
       "      <td>10</td>\n",
       "      <td>11</td>\n",
       "      <td>12</td>\n",
       "    </tr>\n",
       "    <tr>\n",
       "      <th>2</th>\n",
       "      <td>r3</td>\n",
       "      <td>20</td>\n",
       "      <td>21</td>\n",
       "      <td>22</td>\n",
       "    </tr>\n",
       "  </tbody>\n",
       "</table>\n",
       "</div>"
      ],
      "text/plain": [
       "  row_label   A   B   C\n",
       "0        r1  00  01  02\n",
       "1        r2  10  11  12\n",
       "2        r3  20  21  22"
      ]
     },
     "execution_count": 7,
     "metadata": {},
     "output_type": "execute_result"
    }
   ],
   "source": [
    "df.reset_index(inplace=True)\n",
    "df"
   ]
  },
  {
   "cell_type": "markdown",
   "metadata": {},
   "source": [
    "<h3>Getting column data</h3>"
   ]
  },
  {
   "cell_type": "code",
   "execution_count": 8,
   "metadata": {},
   "outputs": [
    {
     "data": {
      "text/plain": [
       "0    01\n",
       "1    11\n",
       "2    21\n",
       "Name: B, dtype: object"
      ]
     },
     "execution_count": 8,
     "metadata": {},
     "output_type": "execute_result"
    }
   ],
   "source": [
    "df['B']"
   ]
  },
  {
   "cell_type": "code",
   "execution_count": 11,
   "metadata": {},
   "outputs": [
    {
     "name": "stdout",
     "output_type": "stream",
     "text": [
      "<class 'pandas.core.series.Series'>\n",
      "<class 'pandas.core.frame.DataFrame'>\n"
     ]
    }
   ],
   "source": [
    "print(type(df['B']))\n",
    "print(type(df))"
   ]
  },
  {
   "cell_type": "markdown",
   "metadata": {},
   "source": [
    "<h3>Getting row data</h3>"
   ]
  },
  {
   "cell_type": "code",
   "execution_count": 13,
   "metadata": {},
   "outputs": [
    {
     "data": {
      "text/plain": [
       "A    00\n",
       "B    01\n",
       "C    02\n",
       "Name: r1, dtype: object"
      ]
     },
     "execution_count": 13,
     "metadata": {},
     "output_type": "execute_result"
    }
   ],
   "source": [
    "df.loc['r1']  # a row of a DF is like an element of a dictionary"
   ]
  },
  {
   "cell_type": "code",
   "execution_count": 159,
   "metadata": {},
   "outputs": [
    {
     "data": {
      "text/plain": [
       "pandas.core.series.Series"
      ]
     },
     "execution_count": 159,
     "metadata": {},
     "output_type": "execute_result"
    }
   ],
   "source": [
    "type(df.loc['r1'])"
   ]
  },
  {
   "cell_type": "markdown",
   "metadata": {},
   "source": [
    "<h3>Getting a row by row number</h3>"
   ]
  },
  {
   "cell_type": "code",
   "execution_count": 14,
   "metadata": {},
   "outputs": [
    {
     "data": {
      "text/plain": [
       "A    00\n",
       "B    01\n",
       "C    02\n",
       "Name: r1, dtype: object"
      ]
     },
     "execution_count": 14,
     "metadata": {},
     "output_type": "execute_result"
    }
   ],
   "source": [
    "df.iloc[0] #this is faster than by row index"
   ]
  },
  {
   "cell_type": "markdown",
   "metadata": {},
   "source": [
    "<h3>Getting multiple columns<h3>"
   ]
  },
  {
   "cell_type": "code",
   "execution_count": 15,
   "metadata": {},
   "outputs": [
    {
     "data": {
      "text/html": [
       "<div>\n",
       "<style scoped>\n",
       "    .dataframe tbody tr th:only-of-type {\n",
       "        vertical-align: middle;\n",
       "    }\n",
       "\n",
       "    .dataframe tbody tr th {\n",
       "        vertical-align: top;\n",
       "    }\n",
       "\n",
       "    .dataframe thead th {\n",
       "        text-align: right;\n",
       "    }\n",
       "</style>\n",
       "<table border=\"1\" class=\"dataframe\">\n",
       "  <thead>\n",
       "    <tr style=\"text-align: right;\">\n",
       "      <th></th>\n",
       "      <th>B</th>\n",
       "      <th>A</th>\n",
       "    </tr>\n",
       "    <tr>\n",
       "      <th>row_label</th>\n",
       "      <th></th>\n",
       "      <th></th>\n",
       "    </tr>\n",
       "  </thead>\n",
       "  <tbody>\n",
       "    <tr>\n",
       "      <th>r1</th>\n",
       "      <td>01</td>\n",
       "      <td>00</td>\n",
       "    </tr>\n",
       "    <tr>\n",
       "      <th>r2</th>\n",
       "      <td>11</td>\n",
       "      <td>10</td>\n",
       "    </tr>\n",
       "    <tr>\n",
       "      <th>r3</th>\n",
       "      <td>21</td>\n",
       "      <td>20</td>\n",
       "    </tr>\n",
       "  </tbody>\n",
       "</table>\n",
       "</div>"
      ],
      "text/plain": [
       "            B   A\n",
       "row_label        \n",
       "r1         01  00\n",
       "r2         11  10\n",
       "r3         21  20"
      ]
     },
     "execution_count": 15,
     "metadata": {},
     "output_type": "execute_result"
    }
   ],
   "source": [
    "df[['B','A']] #Note that the column identifiers are in a list"
   ]
  },
  {
   "cell_type": "markdown",
   "metadata": {},
   "source": [
    "<h3>Getting a specific cell</h3>"
   ]
  },
  {
   "cell_type": "code",
   "execution_count": 16,
   "metadata": {},
   "outputs": [
    {
     "data": {
      "text/plain": [
       "'11'"
      ]
     },
     "execution_count": 16,
     "metadata": {},
     "output_type": "execute_result"
    }
   ],
   "source": [
    "df.loc['r2','B']"
   ]
  },
  {
   "cell_type": "code",
   "execution_count": 17,
   "metadata": {},
   "outputs": [
    {
     "data": {
      "text/plain": [
       "'11'"
      ]
     },
     "execution_count": 17,
     "metadata": {},
     "output_type": "execute_result"
    }
   ],
   "source": [
    "df.loc['r2']['B'] # chaining... the same result but not the same thing as in the cell above"
   ]
  },
  {
   "cell_type": "code",
   "execution_count": 18,
   "metadata": {},
   "outputs": [
    {
     "data": {
      "text/plain": [
       "2235075414576"
      ]
     },
     "execution_count": 18,
     "metadata": {},
     "output_type": "execute_result"
    }
   ],
   "source": [
    "id(df.loc['r2','B'])"
   ]
  },
  {
   "cell_type": "code",
   "execution_count": 19,
   "metadata": {},
   "outputs": [
    {
     "data": {
      "text/plain": [
       "2235075414576"
      ]
     },
     "execution_count": 19,
     "metadata": {},
     "output_type": "execute_result"
    }
   ],
   "source": [
    "id(df.loc['r2']['B'])"
   ]
  },
  {
   "cell_type": "markdown",
   "metadata": {},
   "source": [
    "<h3>Slicing</h3>"
   ]
  },
  {
   "cell_type": "code",
   "execution_count": 20,
   "metadata": {},
   "outputs": [
    {
     "data": {
      "text/html": [
       "<div>\n",
       "<style scoped>\n",
       "    .dataframe tbody tr th:only-of-type {\n",
       "        vertical-align: middle;\n",
       "    }\n",
       "\n",
       "    .dataframe tbody tr th {\n",
       "        vertical-align: top;\n",
       "    }\n",
       "\n",
       "    .dataframe thead th {\n",
       "        text-align: right;\n",
       "    }\n",
       "</style>\n",
       "<table border=\"1\" class=\"dataframe\">\n",
       "  <thead>\n",
       "    <tr style=\"text-align: right;\">\n",
       "      <th></th>\n",
       "      <th>A</th>\n",
       "      <th>B</th>\n",
       "      <th>C</th>\n",
       "    </tr>\n",
       "    <tr>\n",
       "      <th>row_label</th>\n",
       "      <th></th>\n",
       "      <th></th>\n",
       "      <th></th>\n",
       "    </tr>\n",
       "  </thead>\n",
       "  <tbody>\n",
       "    <tr>\n",
       "      <th>r1</th>\n",
       "      <td>00</td>\n",
       "      <td>01</td>\n",
       "      <td>02</td>\n",
       "    </tr>\n",
       "    <tr>\n",
       "      <th>r2</th>\n",
       "      <td>10</td>\n",
       "      <td>11</td>\n",
       "      <td>12</td>\n",
       "    </tr>\n",
       "  </tbody>\n",
       "</table>\n",
       "</div>"
      ],
      "text/plain": [
       "            A   B   C\n",
       "row_label            \n",
       "r1         00  01  02\n",
       "r2         10  11  12"
      ]
     },
     "execution_count": 20,
     "metadata": {},
     "output_type": "execute_result"
    }
   ],
   "source": [
    "df.loc['r1':'r2']"
   ]
  },
  {
   "cell_type": "code",
   "execution_count": 175,
   "metadata": {},
   "outputs": [
    {
     "data": {
      "text/html": [
       "<div>\n",
       "<style scoped>\n",
       "    .dataframe tbody tr th:only-of-type {\n",
       "        vertical-align: middle;\n",
       "    }\n",
       "\n",
       "    .dataframe tbody tr th {\n",
       "        vertical-align: top;\n",
       "    }\n",
       "\n",
       "    .dataframe thead th {\n",
       "        text-align: right;\n",
       "    }\n",
       "</style>\n",
       "<table border=\"1\" class=\"dataframe\">\n",
       "  <thead>\n",
       "    <tr style=\"text-align: right;\">\n",
       "      <th></th>\n",
       "      <th>B</th>\n",
       "      <th>C</th>\n",
       "    </tr>\n",
       "    <tr>\n",
       "      <th>row_label</th>\n",
       "      <th></th>\n",
       "      <th></th>\n",
       "    </tr>\n",
       "  </thead>\n",
       "  <tbody>\n",
       "    <tr>\n",
       "      <th>r1</th>\n",
       "      <td>01</td>\n",
       "      <td>02</td>\n",
       "    </tr>\n",
       "    <tr>\n",
       "      <th>r2</th>\n",
       "      <td>11</td>\n",
       "      <td>12</td>\n",
       "    </tr>\n",
       "  </tbody>\n",
       "</table>\n",
       "</div>"
      ],
      "text/plain": [
       "            B   C\n",
       "row_label        \n",
       "r1         01  02\n",
       "r2         11  12"
      ]
     },
     "execution_count": 175,
     "metadata": {},
     "output_type": "execute_result"
    }
   ],
   "source": [
    "df.loc['r1':'r2','B':'C']"
   ]
  },
  {
   "cell_type": "code",
   "execution_count": 21,
   "metadata": {},
   "outputs": [
    {
     "data": {
      "text/html": [
       "<div>\n",
       "<style scoped>\n",
       "    .dataframe tbody tr th:only-of-type {\n",
       "        vertical-align: middle;\n",
       "    }\n",
       "\n",
       "    .dataframe tbody tr th {\n",
       "        vertical-align: top;\n",
       "    }\n",
       "\n",
       "    .dataframe thead th {\n",
       "        text-align: right;\n",
       "    }\n",
       "</style>\n",
       "<table border=\"1\" class=\"dataframe\">\n",
       "  <thead>\n",
       "    <tr style=\"text-align: right;\">\n",
       "      <th></th>\n",
       "      <th>A</th>\n",
       "      <th>B</th>\n",
       "      <th>C</th>\n",
       "    </tr>\n",
       "    <tr>\n",
       "      <th>row_label</th>\n",
       "      <th></th>\n",
       "      <th></th>\n",
       "      <th></th>\n",
       "    </tr>\n",
       "  </thead>\n",
       "  <tbody>\n",
       "    <tr>\n",
       "      <th>r1</th>\n",
       "      <td>00</td>\n",
       "      <td>01</td>\n",
       "      <td>02</td>\n",
       "    </tr>\n",
       "    <tr>\n",
       "      <th>r2</th>\n",
       "      <td>10</td>\n",
       "      <td>11</td>\n",
       "      <td>12</td>\n",
       "    </tr>\n",
       "  </tbody>\n",
       "</table>\n",
       "</div>"
      ],
      "text/plain": [
       "            A   B   C\n",
       "row_label            \n",
       "r1         00  01  02\n",
       "r2         10  11  12"
      ]
     },
     "execution_count": 21,
     "metadata": {},
     "output_type": "execute_result"
    }
   ],
   "source": [
    "df.head(2)"
   ]
  },
  {
   "cell_type": "markdown",
   "metadata": {},
   "source": [
    "<h2>Pandas datareader</h2>\n",
    "<li>Access data from html tables on any web page</li>\n",
    "<li>Get data from google finance</li>\n",
    "<li>Get data from the federal reserve</li>"
   ]
  },
  {
   "cell_type": "markdown",
   "metadata": {},
   "source": [
    "<h3>HTML Tables</h3>\n",
    "<li>Pandas datareader can read a table in an html page into a dataframe\n",
    "<li>the read_html function returns a list of all dataframes with one dataframe for each html table on the page"
   ]
  },
  {
   "cell_type": "markdown",
   "metadata": {},
   "source": [
    "<table>\n",
    "    <tr><td>1</td><td>2</td></tr>\n",
    "    <tr><td>3</td><td>4</td></tr>\n",
    "</table>"
   ]
  },
  {
   "cell_type": "markdown",
   "metadata": {},
   "source": [
    "<h4>Example: Read the tables from an html page</h4>"
   ]
  },
  {
   "cell_type": "markdown",
   "metadata": {},
   "source": [
    "Unfortunately, the orginal bloomberg link doesn't work, here we use another website."
   ]
  },
  {
   "cell_type": "code",
   "execution_count": 5,
   "metadata": {},
   "outputs": [
    {
     "data": {
      "text/plain": [
       "[               US Dollar    1.00 USD  inv. 1.00 USD\n",
       " 0                   Euro    0.909729       1.099228\n",
       " 1          British Pound    0.805589       1.241328\n",
       " 2           Indian Rupee   81.845749       0.012218\n",
       " 3      Australian Dollar    1.492001       0.670241\n",
       " 4        Canadian Dollar    1.336915       0.747991\n",
       " 5       Singapore Dollar    1.331345       0.751120\n",
       " 6            Swiss Franc    0.894421       1.118041\n",
       " 7      Malaysian Ringgit    4.401680       0.227186\n",
       " 8           Japanese Yen  133.775737       0.007475\n",
       " 9  Chinese Yuan Renminbi    6.870658       0.145546,\n",
       "                 US Dollar      1.00 USD  inv. 1.00 USD\n",
       " 0          Argentine Peso  2.150983e+02       0.004649\n",
       " 1       Australian Dollar  1.492001e+00       0.670241\n",
       " 2          Bahraini Dinar  3.760000e-01       2.659574\n",
       " 3           Botswana Pula  1.310455e+01       0.076309\n",
       " 4          Brazilian Real  4.928312e+00       0.202909\n",
       " 5         Bruneian Dollar  1.331345e+00       0.751120\n",
       " 6           Bulgarian Lev  1.779276e+00       0.562026\n",
       " 7         Canadian Dollar  1.336915e+00       0.747991\n",
       " 8            Chilean Peso  7.973432e+02       0.001254\n",
       " 9   Chinese Yuan Renminbi  6.870658e+00       0.145546\n",
       " 10         Colombian Peso  4.409318e+03       0.000227\n",
       " 11           Czech Koruna  2.123116e+01       0.047101\n",
       " 12           Danish Krone  6.778190e+00       0.147532\n",
       " 13                   Euro  9.097290e-01       1.099228\n",
       " 14       Hong Kong Dollar  7.849834e+00       0.127391\n",
       " 15       Hungarian Forint  3.396607e+02       0.002944\n",
       " 16        Icelandic Krona  1.362149e+02       0.007341\n",
       " 17           Indian Rupee  8.184575e+01       0.012218\n",
       " 18      Indonesian Rupiah  1.477520e+04       0.000068\n",
       " 19           Iranian Rial  4.226538e+04       0.000024\n",
       " 20         Israeli Shekel  3.673366e+00       0.272230\n",
       " 21           Japanese Yen  1.337757e+02       0.007475\n",
       " 22      Kazakhstani Tenge  4.514765e+02       0.002215\n",
       " 23       South Korean Won  1.304677e+03       0.000766\n",
       " 24          Kuwaiti Dinar  3.061330e-01       3.266549\n",
       " 25           Libyan Dinar  4.777420e+00       0.209318\n",
       " 26      Malaysian Ringgit  4.401680e+00       0.227186\n",
       " 27        Mauritian Rupee  4.491799e+01       0.022263\n",
       " 28           Mexican Peso  1.802690e+01       0.055473\n",
       " 29         Nepalese Rupee  1.310146e+02       0.007633\n",
       " 30     New Zealand Dollar  1.611634e+00       0.620488\n",
       " 31        Norwegian Krone  1.038343e+01       0.096307\n",
       " 32             Omani Rial  3.848790e-01       2.598219\n",
       " 33        Pakistani Rupee  2.844153e+02       0.003516\n",
       " 34        Philippine Peso  5.532761e+01       0.018074\n",
       " 35           Polish Zloty  4.224440e+00       0.236718\n",
       " 36           Qatari Riyal  3.640000e+00       0.274725\n",
       " 37       Romanian New Leu  4.495746e+00       0.222432\n",
       " 38          Russian Ruble  8.227142e+01       0.012155\n",
       " 39    Saudi Arabian Riyal  3.750000e+00       0.266667\n",
       " 40       Singapore Dollar  1.331345e+00       0.751120\n",
       " 41     South African Rand  1.809841e+01       0.055253\n",
       " 42       Sri Lankan Rupee  3.232423e+02       0.003094\n",
       " 43          Swedish Krona  1.033191e+01       0.096787\n",
       " 44            Swiss Franc  8.944210e-01       1.118041\n",
       " 45      Taiwan New Dollar  3.050164e+01       0.032785\n",
       " 46              Thai Baht  3.435287e+01       0.029110\n",
       " 47     Trinidadian Dollar  6.786544e+00       0.147350\n",
       " 48           Turkish Lira  1.936910e+01       0.051629\n",
       " 49         Emirati Dirham  3.672500e+00       0.272294\n",
       " 50          British Pound  8.055890e-01       1.241328\n",
       " 51     Venezuelan Bolivar  2.448497e+06       0.000000]"
      ]
     },
     "execution_count": 5,
     "metadata": {},
     "output_type": "execute_result"
    }
   ],
   "source": [
    "df_list = pd.read_html('https://www.x-rates.com/table/?from=USD&amount=1')  # looks for table tags and returns a list of tables apearing in a url\n",
    "df_list # a list of dataframes - one for each table in the page\n",
    "# print(len(df_list))"
   ]
  },
  {
   "cell_type": "markdown",
   "metadata": {},
   "source": [
    "<h4>The page contains two tables</h4>"
   ]
  },
  {
   "cell_type": "code",
   "execution_count": 117,
   "metadata": {
    "scrolled": true
   },
   "outputs": [
    {
     "data": {
      "text/html": [
       "<div>\n",
       "<style scoped>\n",
       "    .dataframe tbody tr th:only-of-type {\n",
       "        vertical-align: middle;\n",
       "    }\n",
       "\n",
       "    .dataframe tbody tr th {\n",
       "        vertical-align: top;\n",
       "    }\n",
       "\n",
       "    .dataframe thead th {\n",
       "        text-align: right;\n",
       "    }\n",
       "</style>\n",
       "<table border=\"1\" class=\"dataframe\">\n",
       "  <thead>\n",
       "    <tr style=\"text-align: right;\">\n",
       "      <th></th>\n",
       "      <th>US Dollar</th>\n",
       "      <th>1.00 USD</th>\n",
       "      <th>inv. 1.00 USD</th>\n",
       "    </tr>\n",
       "  </thead>\n",
       "  <tbody>\n",
       "    <tr>\n",
       "      <th>0</th>\n",
       "      <td>Euro</td>\n",
       "      <td>0.927955</td>\n",
       "      <td>1.077638</td>\n",
       "    </tr>\n",
       "    <tr>\n",
       "      <th>1</th>\n",
       "      <td>British Pound</td>\n",
       "      <td>0.817772</td>\n",
       "      <td>1.222834</td>\n",
       "    </tr>\n",
       "    <tr>\n",
       "      <th>2</th>\n",
       "      <td>Indian Rupee</td>\n",
       "      <td>82.338807</td>\n",
       "      <td>0.012145</td>\n",
       "    </tr>\n",
       "    <tr>\n",
       "      <th>3</th>\n",
       "      <td>Australian Dollar</td>\n",
       "      <td>1.502937</td>\n",
       "      <td>0.665364</td>\n",
       "    </tr>\n",
       "    <tr>\n",
       "      <th>4</th>\n",
       "      <td>Canadian Dollar</td>\n",
       "      <td>1.378442</td>\n",
       "      <td>0.725457</td>\n",
       "    </tr>\n",
       "    <tr>\n",
       "      <th>5</th>\n",
       "      <td>Singapore Dollar</td>\n",
       "      <td>1.332577</td>\n",
       "      <td>0.750426</td>\n",
       "    </tr>\n",
       "    <tr>\n",
       "      <th>6</th>\n",
       "      <td>Swiss Franc</td>\n",
       "      <td>0.920232</td>\n",
       "      <td>1.086682</td>\n",
       "    </tr>\n",
       "    <tr>\n",
       "      <th>7</th>\n",
       "      <td>Malaysian Ringgit</td>\n",
       "      <td>4.427279</td>\n",
       "      <td>0.225872</td>\n",
       "    </tr>\n",
       "    <tr>\n",
       "      <th>8</th>\n",
       "      <td>Japanese Yen</td>\n",
       "      <td>130.731437</td>\n",
       "      <td>0.007649</td>\n",
       "    </tr>\n",
       "    <tr>\n",
       "      <th>9</th>\n",
       "      <td>Chinese Yuan Renminbi</td>\n",
       "      <td>6.867013</td>\n",
       "      <td>0.145624</td>\n",
       "    </tr>\n",
       "  </tbody>\n",
       "</table>\n",
       "</div>"
      ],
      "text/plain": [
       "               US Dollar    1.00 USD  inv. 1.00 USD\n",
       "0                   Euro    0.927955       1.077638\n",
       "1          British Pound    0.817772       1.222834\n",
       "2           Indian Rupee   82.338807       0.012145\n",
       "3      Australian Dollar    1.502937       0.665364\n",
       "4        Canadian Dollar    1.378442       0.725457\n",
       "5       Singapore Dollar    1.332577       0.750426\n",
       "6            Swiss Franc    0.920232       1.086682\n",
       "7      Malaysian Ringgit    4.427279       0.225872\n",
       "8           Japanese Yen  130.731437       0.007649\n",
       "9  Chinese Yuan Renminbi    6.867013       0.145624"
      ]
     },
     "execution_count": 117,
     "metadata": {},
     "output_type": "execute_result"
    }
   ],
   "source": [
    "df = df_list[0]\n",
    "df"
   ]
  },
  {
   "cell_type": "markdown",
   "metadata": {},
   "source": [
    "<h4>Note that the read_html function has automatically detected the header columns</h4>\n",
    "<h4>If an index is necessary, we need to explicitly specify it</h4>"
   ]
  },
  {
   "cell_type": "code",
   "execution_count": 118,
   "metadata": {},
   "outputs": [
    {
     "data": {
      "text/html": [
       "<div>\n",
       "<style scoped>\n",
       "    .dataframe tbody tr th:only-of-type {\n",
       "        vertical-align: middle;\n",
       "    }\n",
       "\n",
       "    .dataframe tbody tr th {\n",
       "        vertical-align: top;\n",
       "    }\n",
       "\n",
       "    .dataframe thead th {\n",
       "        text-align: right;\n",
       "    }\n",
       "</style>\n",
       "<table border=\"1\" class=\"dataframe\">\n",
       "  <thead>\n",
       "    <tr style=\"text-align: right;\">\n",
       "      <th></th>\n",
       "      <th>1.00 USD</th>\n",
       "      <th>inv. 1.00 USD</th>\n",
       "    </tr>\n",
       "    <tr>\n",
       "      <th>US Dollar</th>\n",
       "      <th></th>\n",
       "      <th></th>\n",
       "    </tr>\n",
       "  </thead>\n",
       "  <tbody>\n",
       "    <tr>\n",
       "      <th>Euro</th>\n",
       "      <td>0.927955</td>\n",
       "      <td>1.077638</td>\n",
       "    </tr>\n",
       "    <tr>\n",
       "      <th>British Pound</th>\n",
       "      <td>0.817772</td>\n",
       "      <td>1.222834</td>\n",
       "    </tr>\n",
       "    <tr>\n",
       "      <th>Indian Rupee</th>\n",
       "      <td>82.338807</td>\n",
       "      <td>0.012145</td>\n",
       "    </tr>\n",
       "    <tr>\n",
       "      <th>Australian Dollar</th>\n",
       "      <td>1.502937</td>\n",
       "      <td>0.665364</td>\n",
       "    </tr>\n",
       "    <tr>\n",
       "      <th>Canadian Dollar</th>\n",
       "      <td>1.378442</td>\n",
       "      <td>0.725457</td>\n",
       "    </tr>\n",
       "    <tr>\n",
       "      <th>Singapore Dollar</th>\n",
       "      <td>1.332577</td>\n",
       "      <td>0.750426</td>\n",
       "    </tr>\n",
       "    <tr>\n",
       "      <th>Swiss Franc</th>\n",
       "      <td>0.920232</td>\n",
       "      <td>1.086682</td>\n",
       "    </tr>\n",
       "    <tr>\n",
       "      <th>Malaysian Ringgit</th>\n",
       "      <td>4.427279</td>\n",
       "      <td>0.225872</td>\n",
       "    </tr>\n",
       "    <tr>\n",
       "      <th>Japanese Yen</th>\n",
       "      <td>130.731437</td>\n",
       "      <td>0.007649</td>\n",
       "    </tr>\n",
       "    <tr>\n",
       "      <th>Chinese Yuan Renminbi</th>\n",
       "      <td>6.867013</td>\n",
       "      <td>0.145624</td>\n",
       "    </tr>\n",
       "  </tbody>\n",
       "</table>\n",
       "</div>"
      ],
      "text/plain": [
       "                         1.00 USD  inv. 1.00 USD\n",
       "US Dollar                                       \n",
       "Euro                     0.927955       1.077638\n",
       "British Pound            0.817772       1.222834\n",
       "Indian Rupee            82.338807       0.012145\n",
       "Australian Dollar        1.502937       0.665364\n",
       "Canadian Dollar          1.378442       0.725457\n",
       "Singapore Dollar         1.332577       0.750426\n",
       "Swiss Franc              0.920232       1.086682\n",
       "Malaysian Ringgit        4.427279       0.225872\n",
       "Japanese Yen           130.731437       0.007649\n",
       "Chinese Yuan Renminbi    6.867013       0.145624"
      ]
     },
     "execution_count": 118,
     "metadata": {},
     "output_type": "execute_result"
    }
   ],
   "source": [
    "df.set_index('US Dollar',inplace=True)\n",
    "df"
   ]
  },
  {
   "cell_type": "markdown",
   "metadata": {},
   "source": [
    "<h4>Now we can use .loc to extract specific currency rates</h4>"
   ]
  },
  {
   "cell_type": "code",
   "execution_count": 119,
   "metadata": {},
   "outputs": [
    {
     "data": {
      "text/plain": [
       "0.927955"
      ]
     },
     "execution_count": 119,
     "metadata": {},
     "output_type": "execute_result"
    }
   ],
   "source": [
    "df.loc['Euro','1.00 USD']"
   ]
  },
  {
   "cell_type": "code",
   "execution_count": 112,
   "metadata": {},
   "outputs": [
    {
     "data": {
      "text/plain": [
       "US Dollar\n",
       "Euro                  0.927955\n",
       "British Pound         0.817772\n",
       "Indian Rupee         82.338807\n",
       "Australian Dollar     1.502937\n",
       "Canadian Dollar       1.378442\n",
       "Singapore Dollar      1.332577\n",
       "Swiss Franc           0.920232\n",
       "Name: 1.00 USD, dtype: float64"
      ]
     },
     "execution_count": 112,
     "metadata": {},
     "output_type": "execute_result"
    }
   ],
   "source": [
    "df.loc['Euro':'Swiss Franc','1.00 USD']"
   ]
  },
  {
   "cell_type": "markdown",
   "metadata": {},
   "source": [
    "<h3>Working with views and copies</h3>"
   ]
  },
  {
   "cell_type": "markdown",
   "metadata": {},
   "source": [
    "<h4>Chained indexing creates a copy and changes to the copy won't be reflected in the original dataframe\n",
    "it is slower and less accurate</h4>"
   ]
  },
  {
   "cell_type": "code",
   "execution_count": 122,
   "metadata": {},
   "outputs": [
    {
     "data": {
      "text/html": [
       "<div>\n",
       "<style scoped>\n",
       "    .dataframe tbody tr th:only-of-type {\n",
       "        vertical-align: middle;\n",
       "    }\n",
       "\n",
       "    .dataframe tbody tr th {\n",
       "        vertical-align: top;\n",
       "    }\n",
       "\n",
       "    .dataframe thead th {\n",
       "        text-align: right;\n",
       "    }\n",
       "</style>\n",
       "<table border=\"1\" class=\"dataframe\">\n",
       "  <thead>\n",
       "    <tr style=\"text-align: right;\">\n",
       "      <th></th>\n",
       "      <th>1.00 USD</th>\n",
       "      <th>inv. 1.00 USD</th>\n",
       "    </tr>\n",
       "    <tr>\n",
       "      <th>US Dollar</th>\n",
       "      <th></th>\n",
       "      <th></th>\n",
       "    </tr>\n",
       "  </thead>\n",
       "  <tbody>\n",
       "    <tr>\n",
       "      <th>Euro</th>\n",
       "      <td>0.920000</td>\n",
       "      <td>1.077638</td>\n",
       "    </tr>\n",
       "    <tr>\n",
       "      <th>British Pound</th>\n",
       "      <td>0.817772</td>\n",
       "      <td>1.222834</td>\n",
       "    </tr>\n",
       "    <tr>\n",
       "      <th>Indian Rupee</th>\n",
       "      <td>82.338807</td>\n",
       "      <td>0.012145</td>\n",
       "    </tr>\n",
       "    <tr>\n",
       "      <th>Australian Dollar</th>\n",
       "      <td>1.502937</td>\n",
       "      <td>0.665364</td>\n",
       "    </tr>\n",
       "    <tr>\n",
       "      <th>Canadian Dollar</th>\n",
       "      <td>1.378442</td>\n",
       "      <td>0.725457</td>\n",
       "    </tr>\n",
       "    <tr>\n",
       "      <th>Singapore Dollar</th>\n",
       "      <td>1.332577</td>\n",
       "      <td>0.750426</td>\n",
       "    </tr>\n",
       "    <tr>\n",
       "      <th>Swiss Franc</th>\n",
       "      <td>0.920232</td>\n",
       "      <td>1.086682</td>\n",
       "    </tr>\n",
       "    <tr>\n",
       "      <th>Malaysian Ringgit</th>\n",
       "      <td>4.427279</td>\n",
       "      <td>0.225872</td>\n",
       "    </tr>\n",
       "    <tr>\n",
       "      <th>Japanese Yen</th>\n",
       "      <td>130.731437</td>\n",
       "      <td>0.007649</td>\n",
       "    </tr>\n",
       "    <tr>\n",
       "      <th>Chinese Yuan Renminbi</th>\n",
       "      <td>6.867013</td>\n",
       "      <td>0.145624</td>\n",
       "    </tr>\n",
       "  </tbody>\n",
       "</table>\n",
       "</div>"
      ],
      "text/plain": [
       "                         1.00 USD  inv. 1.00 USD\n",
       "US Dollar                                       \n",
       "Euro                     0.920000       1.077638\n",
       "British Pound            0.817772       1.222834\n",
       "Indian Rupee            82.338807       0.012145\n",
       "Australian Dollar        1.502937       0.665364\n",
       "Canadian Dollar          1.378442       0.725457\n",
       "Singapore Dollar         1.332577       0.750426\n",
       "Swiss Franc              0.920232       1.086682\n",
       "Malaysian Ringgit        4.427279       0.225872\n",
       "Japanese Yen           130.731437       0.007649\n",
       "Chinese Yuan Renminbi    6.867013       0.145624"
      ]
     },
     "execution_count": 122,
     "metadata": {},
     "output_type": "execute_result"
    }
   ],
   "source": [
    "#eur_usd = df.loc['Euro']['1.00 USD'] #This is chained indexing - we are creating a copy of the dataframe\n",
    "df.loc['Euro']['1.00 USD'] = 0.92 #Here we are changing a value in the dataframe\n",
    "#this doesnt change the value of the dataframe\n",
    "df"
   ]
  },
  {
   "cell_type": "code",
   "execution_count": 121,
   "metadata": {},
   "outputs": [
    {
     "data": {
      "text/plain": [
       "US Dollar\n",
       "Euro                       1.000000\n",
       "British Pound              0.817772\n",
       "Indian Rupee              82.338807\n",
       "Australian Dollar          1.502937\n",
       "Canadian Dollar            1.378442\n",
       "Singapore Dollar           1.332577\n",
       "Swiss Franc                0.920232\n",
       "Malaysian Ringgit          4.427279\n",
       "Japanese Yen             130.731437\n",
       "Chinese Yuan Renminbi      6.867013\n",
       "Name: 1.00 USD, dtype: float64"
      ]
     },
     "execution_count": 121,
     "metadata": {},
     "output_type": "execute_result"
    }
   ],
   "source": [
    "df['1.00 USD']"
   ]
  },
  {
   "cell_type": "code",
   "execution_count": 123,
   "metadata": {},
   "outputs": [
    {
     "data": {
      "text/html": [
       "<div>\n",
       "<style scoped>\n",
       "    .dataframe tbody tr th:only-of-type {\n",
       "        vertical-align: middle;\n",
       "    }\n",
       "\n",
       "    .dataframe tbody tr th {\n",
       "        vertical-align: top;\n",
       "    }\n",
       "\n",
       "    .dataframe thead th {\n",
       "        text-align: right;\n",
       "    }\n",
       "</style>\n",
       "<table border=\"1\" class=\"dataframe\">\n",
       "  <thead>\n",
       "    <tr style=\"text-align: right;\">\n",
       "      <th></th>\n",
       "      <th>1.00 USD</th>\n",
       "      <th>inv. 1.00 USD</th>\n",
       "    </tr>\n",
       "    <tr>\n",
       "      <th>US Dollar</th>\n",
       "      <th></th>\n",
       "      <th></th>\n",
       "    </tr>\n",
       "  </thead>\n",
       "  <tbody>\n",
       "    <tr>\n",
       "      <th>Euro</th>\n",
       "      <td>0.920000</td>\n",
       "      <td>1.077638</td>\n",
       "    </tr>\n",
       "    <tr>\n",
       "      <th>British Pound</th>\n",
       "      <td>0.817772</td>\n",
       "      <td>1.222834</td>\n",
       "    </tr>\n",
       "    <tr>\n",
       "      <th>Indian Rupee</th>\n",
       "      <td>82.338807</td>\n",
       "      <td>0.012145</td>\n",
       "    </tr>\n",
       "    <tr>\n",
       "      <th>Australian Dollar</th>\n",
       "      <td>1.502937</td>\n",
       "      <td>0.665364</td>\n",
       "    </tr>\n",
       "    <tr>\n",
       "      <th>Canadian Dollar</th>\n",
       "      <td>1.378442</td>\n",
       "      <td>0.725457</td>\n",
       "    </tr>\n",
       "    <tr>\n",
       "      <th>Singapore Dollar</th>\n",
       "      <td>1.332577</td>\n",
       "      <td>0.750426</td>\n",
       "    </tr>\n",
       "    <tr>\n",
       "      <th>Swiss Franc</th>\n",
       "      <td>0.920232</td>\n",
       "      <td>1.086682</td>\n",
       "    </tr>\n",
       "    <tr>\n",
       "      <th>Malaysian Ringgit</th>\n",
       "      <td>4.427279</td>\n",
       "      <td>0.225872</td>\n",
       "    </tr>\n",
       "    <tr>\n",
       "      <th>Japanese Yen</th>\n",
       "      <td>130.731437</td>\n",
       "      <td>0.007649</td>\n",
       "    </tr>\n",
       "    <tr>\n",
       "      <th>Chinese Yuan Renminbi</th>\n",
       "      <td>6.867013</td>\n",
       "      <td>0.145624</td>\n",
       "    </tr>\n",
       "  </tbody>\n",
       "</table>\n",
       "</div>"
      ],
      "text/plain": [
       "                         1.00 USD  inv. 1.00 USD\n",
       "US Dollar                                       \n",
       "Euro                     0.920000       1.077638\n",
       "British Pound            0.817772       1.222834\n",
       "Indian Rupee            82.338807       0.012145\n",
       "Australian Dollar        1.502937       0.665364\n",
       "Canadian Dollar          1.378442       0.725457\n",
       "Singapore Dollar         1.332577       0.750426\n",
       "Swiss Franc              0.920232       1.086682\n",
       "Malaysian Ringgit        4.427279       0.225872\n",
       "Japanese Yen           130.731437       0.007649\n",
       "Chinese Yuan Renminbi    6.867013       0.145624"
      ]
     },
     "execution_count": 123,
     "metadata": {},
     "output_type": "execute_result"
    }
   ],
   "source": [
    "df"
   ]
  },
  {
   "cell_type": "code",
   "execution_count": 124,
   "metadata": {},
   "outputs": [
    {
     "data": {
      "text/html": [
       "<div>\n",
       "<style scoped>\n",
       "    .dataframe tbody tr th:only-of-type {\n",
       "        vertical-align: middle;\n",
       "    }\n",
       "\n",
       "    .dataframe tbody tr th {\n",
       "        vertical-align: top;\n",
       "    }\n",
       "\n",
       "    .dataframe thead th {\n",
       "        text-align: right;\n",
       "    }\n",
       "</style>\n",
       "<table border=\"1\" class=\"dataframe\">\n",
       "  <thead>\n",
       "    <tr style=\"text-align: right;\">\n",
       "      <th></th>\n",
       "      <th>1.00 USD</th>\n",
       "      <th>inv. 1.00 USD</th>\n",
       "    </tr>\n",
       "    <tr>\n",
       "      <th>US Dollar</th>\n",
       "      <th></th>\n",
       "      <th></th>\n",
       "    </tr>\n",
       "  </thead>\n",
       "  <tbody>\n",
       "    <tr>\n",
       "      <th>Euro</th>\n",
       "      <td>1.000000</td>\n",
       "      <td>1.077638</td>\n",
       "    </tr>\n",
       "    <tr>\n",
       "      <th>British Pound</th>\n",
       "      <td>0.817772</td>\n",
       "      <td>1.222834</td>\n",
       "    </tr>\n",
       "    <tr>\n",
       "      <th>Indian Rupee</th>\n",
       "      <td>82.338807</td>\n",
       "      <td>0.012145</td>\n",
       "    </tr>\n",
       "    <tr>\n",
       "      <th>Australian Dollar</th>\n",
       "      <td>1.502937</td>\n",
       "      <td>0.665364</td>\n",
       "    </tr>\n",
       "    <tr>\n",
       "      <th>Canadian Dollar</th>\n",
       "      <td>1.378442</td>\n",
       "      <td>0.725457</td>\n",
       "    </tr>\n",
       "    <tr>\n",
       "      <th>Singapore Dollar</th>\n",
       "      <td>1.332577</td>\n",
       "      <td>0.750426</td>\n",
       "    </tr>\n",
       "    <tr>\n",
       "      <th>Swiss Franc</th>\n",
       "      <td>0.920232</td>\n",
       "      <td>1.086682</td>\n",
       "    </tr>\n",
       "    <tr>\n",
       "      <th>Malaysian Ringgit</th>\n",
       "      <td>4.427279</td>\n",
       "      <td>0.225872</td>\n",
       "    </tr>\n",
       "    <tr>\n",
       "      <th>Japanese Yen</th>\n",
       "      <td>130.731437</td>\n",
       "      <td>0.007649</td>\n",
       "    </tr>\n",
       "    <tr>\n",
       "      <th>Chinese Yuan Renminbi</th>\n",
       "      <td>6.867013</td>\n",
       "      <td>0.145624</td>\n",
       "    </tr>\n",
       "  </tbody>\n",
       "</table>\n",
       "</div>"
      ],
      "text/plain": [
       "                         1.00 USD  inv. 1.00 USD\n",
       "US Dollar                                       \n",
       "Euro                     1.000000       1.077638\n",
       "British Pound            0.817772       1.222834\n",
       "Indian Rupee            82.338807       0.012145\n",
       "Australian Dollar        1.502937       0.665364\n",
       "Canadian Dollar          1.378442       0.725457\n",
       "Singapore Dollar         1.332577       0.750426\n",
       "Swiss Franc              0.920232       1.086682\n",
       "Malaysian Ringgit        4.427279       0.225872\n",
       "Japanese Yen           130.731437       0.007649\n",
       "Chinese Yuan Renminbi    6.867013       0.145624"
      ]
     },
     "execution_count": 124,
     "metadata": {},
     "output_type": "execute_result"
    }
   ],
   "source": [
    "df.loc['Euro','1.00 USD'] = 1.0 #this does change the value of the dataframe\n",
    "df"
   ]
  },
  {
   "cell_type": "code",
   "execution_count": 61,
   "metadata": {},
   "outputs": [
    {
     "name": "stdout",
     "output_type": "stream",
     "text": [
      "2235378393296\n"
     ]
    },
    {
     "data": {
      "text/html": [
       "<div>\n",
       "<style scoped>\n",
       "    .dataframe tbody tr th:only-of-type {\n",
       "        vertical-align: middle;\n",
       "    }\n",
       "\n",
       "    .dataframe tbody tr th {\n",
       "        vertical-align: top;\n",
       "    }\n",
       "\n",
       "    .dataframe thead th {\n",
       "        text-align: right;\n",
       "    }\n",
       "</style>\n",
       "<table border=\"1\" class=\"dataframe\">\n",
       "  <thead>\n",
       "    <tr style=\"text-align: right;\">\n",
       "      <th></th>\n",
       "      <th>row_label</th>\n",
       "      <th>A</th>\n",
       "      <th>B</th>\n",
       "      <th>C</th>\n",
       "    </tr>\n",
       "  </thead>\n",
       "  <tbody>\n",
       "    <tr>\n",
       "      <th>0</th>\n",
       "      <td>r1</td>\n",
       "      <td>00</td>\n",
       "      <td>01</td>\n",
       "      <td>02</td>\n",
       "    </tr>\n",
       "    <tr>\n",
       "      <th>1</th>\n",
       "      <td>r2</td>\n",
       "      <td>10</td>\n",
       "      <td>11</td>\n",
       "      <td>12</td>\n",
       "    </tr>\n",
       "    <tr>\n",
       "      <th>2</th>\n",
       "      <td>r3</td>\n",
       "      <td>20</td>\n",
       "      <td>21</td>\n",
       "      <td>22</td>\n",
       "    </tr>\n",
       "  </tbody>\n",
       "</table>\n",
       "</div>"
      ],
      "text/plain": [
       "  row_label   A   B   C\n",
       "0        r1  00  01  02\n",
       "1        r2  10  11  12\n",
       "2        r3  20  21  22"
      ]
     },
     "execution_count": 61,
     "metadata": {},
     "output_type": "execute_result"
    }
   ],
   "source": [
    "df = pd.DataFrame([['r1','00','01','02'],['r2','10','11','12'],['r3','20','21','22']],columns=['row_label','A','B','C'])\n",
    "print(id(df))\n",
    "df"
   ]
  },
  {
   "cell_type": "code",
   "execution_count": 62,
   "metadata": {},
   "outputs": [
    {
     "name": "stdout",
     "output_type": "stream",
     "text": [
      "2235378393296\n"
     ]
    }
   ],
   "source": [
    "df1 = df\n",
    "print(id(df1)) # the same ID"
   ]
  },
  {
   "cell_type": "markdown",
   "metadata": {},
   "source": [
    "<h2>Getting historical stock prices from Yahoo financs</h2>\n",
    "Usage: DataReader(ticker,source,startdate,enddate)<br>\n",
    "pandas_datareader is a Python package that provides a convenient way to access data from various online sources and load it into a Pandas DataFrame. It is built on top of Pandas and provides a consistent API for accessing data from different sources, such as Yahoo Finance, Google Finance, FRED, and others.\n",
    "\n",
    "Unfortunately, the Google finance datareader has stopped working because of the charge of Google's policy\n"
   ]
  },
  {
   "cell_type": "code",
   "execution_count": 6,
   "metadata": {},
   "outputs": [
    {
     "name": "stdout",
     "output_type": "stream",
     "text": [
      "[*********************100%***********************]  1 of 1 completed\n"
     ]
    }
   ],
   "source": [
    "from pandas_datareader import data\n",
    "import datetime as dt\n",
    "# !pip install yfinance\n",
    "# !pip install pathlib\n",
    "import yfinance as yfin\n",
    "\n",
    "start_time=dt.datetime(2022, 1, 1)\n",
    "end_time=dt.datetime.today()\n",
    "\n",
    "yfin.pdr_override()\n",
    "\n",
    "# df = data.get_data_yahoo('IBM', '2022-10-24', '2023-1-1')  \n",
    "df = data.get_data_yahoo('IBM', start_time, end_time)\n",
    "\n",
    "# df = data.DataReader('AAPL', 'yahoo', start_time, end_time) # input: ticker (company's symbol), source: could be google, world bank..., \n",
    "                                                              #start date and end date\n",
    "\n"
   ]
  },
  {
   "cell_type": "code",
   "execution_count": 144,
   "metadata": {},
   "outputs": [
    {
     "data": {
      "text/html": [
       "<div>\n",
       "<style scoped>\n",
       "    .dataframe tbody tr th:only-of-type {\n",
       "        vertical-align: middle;\n",
       "    }\n",
       "\n",
       "    .dataframe tbody tr th {\n",
       "        vertical-align: top;\n",
       "    }\n",
       "\n",
       "    .dataframe thead th {\n",
       "        text-align: right;\n",
       "    }\n",
       "</style>\n",
       "<table border=\"1\" class=\"dataframe\">\n",
       "  <thead>\n",
       "    <tr style=\"text-align: right;\">\n",
       "      <th></th>\n",
       "      <th>Open</th>\n",
       "      <th>High</th>\n",
       "      <th>Low</th>\n",
       "      <th>Close</th>\n",
       "      <th>Adj Close</th>\n",
       "      <th>Volume</th>\n",
       "    </tr>\n",
       "    <tr>\n",
       "      <th>Date</th>\n",
       "      <th></th>\n",
       "      <th></th>\n",
       "      <th></th>\n",
       "      <th></th>\n",
       "      <th></th>\n",
       "      <th></th>\n",
       "    </tr>\n",
       "  </thead>\n",
       "  <tbody>\n",
       "    <tr>\n",
       "      <th>2022-01-03</th>\n",
       "      <td>134.070007</td>\n",
       "      <td>136.289993</td>\n",
       "      <td>133.630005</td>\n",
       "      <td>136.039993</td>\n",
       "      <td>128.039185</td>\n",
       "      <td>4605900</td>\n",
       "    </tr>\n",
       "    <tr>\n",
       "      <th>2022-01-04</th>\n",
       "      <td>136.100006</td>\n",
       "      <td>139.949997</td>\n",
       "      <td>135.899994</td>\n",
       "      <td>138.020004</td>\n",
       "      <td>129.902786</td>\n",
       "      <td>7300000</td>\n",
       "    </tr>\n",
       "    <tr>\n",
       "      <th>2022-01-05</th>\n",
       "      <td>138.309998</td>\n",
       "      <td>142.199997</td>\n",
       "      <td>137.880005</td>\n",
       "      <td>138.220001</td>\n",
       "      <td>130.091003</td>\n",
       "      <td>8956900</td>\n",
       "    </tr>\n",
       "    <tr>\n",
       "      <th>2022-01-06</th>\n",
       "      <td>138.199997</td>\n",
       "      <td>138.410004</td>\n",
       "      <td>132.509995</td>\n",
       "      <td>135.339996</td>\n",
       "      <td>127.380371</td>\n",
       "      <td>9908100</td>\n",
       "    </tr>\n",
       "    <tr>\n",
       "      <th>2022-01-07</th>\n",
       "      <td>134.899994</td>\n",
       "      <td>135.660004</td>\n",
       "      <td>133.509995</td>\n",
       "      <td>134.830002</td>\n",
       "      <td>126.900375</td>\n",
       "      <td>5238100</td>\n",
       "    </tr>\n",
       "    <tr>\n",
       "      <th>...</th>\n",
       "      <td>...</td>\n",
       "      <td>...</td>\n",
       "      <td>...</td>\n",
       "      <td>...</td>\n",
       "      <td>...</td>\n",
       "      <td>...</td>\n",
       "    </tr>\n",
       "    <tr>\n",
       "      <th>2023-03-20</th>\n",
       "      <td>124.309998</td>\n",
       "      <td>126.160004</td>\n",
       "      <td>124.190002</td>\n",
       "      <td>125.940002</td>\n",
       "      <td>125.940002</td>\n",
       "      <td>4588300</td>\n",
       "    </tr>\n",
       "    <tr>\n",
       "      <th>2023-03-21</th>\n",
       "      <td>126.900002</td>\n",
       "      <td>127.150002</td>\n",
       "      <td>125.660004</td>\n",
       "      <td>126.570000</td>\n",
       "      <td>126.570000</td>\n",
       "      <td>3856300</td>\n",
       "    </tr>\n",
       "    <tr>\n",
       "      <th>2023-03-22</th>\n",
       "      <td>127.000000</td>\n",
       "      <td>127.220001</td>\n",
       "      <td>124.010002</td>\n",
       "      <td>124.050003</td>\n",
       "      <td>124.050003</td>\n",
       "      <td>3549000</td>\n",
       "    </tr>\n",
       "    <tr>\n",
       "      <th>2023-03-23</th>\n",
       "      <td>123.809998</td>\n",
       "      <td>124.930000</td>\n",
       "      <td>122.599998</td>\n",
       "      <td>123.370003</td>\n",
       "      <td>123.370003</td>\n",
       "      <td>4651900</td>\n",
       "    </tr>\n",
       "    <tr>\n",
       "      <th>2023-03-24</th>\n",
       "      <td>123.360001</td>\n",
       "      <td>125.400002</td>\n",
       "      <td>122.879997</td>\n",
       "      <td>125.290001</td>\n",
       "      <td>125.290001</td>\n",
       "      <td>3812300</td>\n",
       "    </tr>\n",
       "  </tbody>\n",
       "</table>\n",
       "<p>308 rows × 6 columns</p>\n",
       "</div>"
      ],
      "text/plain": [
       "                  Open        High         Low       Close   Adj Close  \\\n",
       "Date                                                                     \n",
       "2022-01-03  134.070007  136.289993  133.630005  136.039993  128.039185   \n",
       "2022-01-04  136.100006  139.949997  135.899994  138.020004  129.902786   \n",
       "2022-01-05  138.309998  142.199997  137.880005  138.220001  130.091003   \n",
       "2022-01-06  138.199997  138.410004  132.509995  135.339996  127.380371   \n",
       "2022-01-07  134.899994  135.660004  133.509995  134.830002  126.900375   \n",
       "...                ...         ...         ...         ...         ...   \n",
       "2023-03-20  124.309998  126.160004  124.190002  125.940002  125.940002   \n",
       "2023-03-21  126.900002  127.150002  125.660004  126.570000  126.570000   \n",
       "2023-03-22  127.000000  127.220001  124.010002  124.050003  124.050003   \n",
       "2023-03-23  123.809998  124.930000  122.599998  123.370003  123.370003   \n",
       "2023-03-24  123.360001  125.400002  122.879997  125.290001  125.290001   \n",
       "\n",
       "             Volume  \n",
       "Date                 \n",
       "2022-01-03  4605900  \n",
       "2022-01-04  7300000  \n",
       "2022-01-05  8956900  \n",
       "2022-01-06  9908100  \n",
       "2022-01-07  5238100  \n",
       "...             ...  \n",
       "2023-03-20  4588300  \n",
       "2023-03-21  3856300  \n",
       "2023-03-22  3549000  \n",
       "2023-03-23  4651900  \n",
       "2023-03-24  3812300  \n",
       "\n",
       "[308 rows x 6 columns]"
      ]
     },
     "execution_count": 144,
     "metadata": {},
     "output_type": "execute_result"
    }
   ],
   "source": [
    "df"
   ]
  },
  {
   "cell_type": "code",
   "execution_count": 7,
   "metadata": {},
   "outputs": [
    {
     "data": {
      "text/plain": [
       "(322, 6)"
      ]
     },
     "execution_count": 7,
     "metadata": {},
     "output_type": "execute_result"
    }
   ],
   "source": [
    "df.shape"
   ]
  },
  {
   "cell_type": "code",
   "execution_count": 8,
   "metadata": {},
   "outputs": [
    {
     "data": {
      "text/plain": [
       "2637701228768"
      ]
     },
     "execution_count": 8,
     "metadata": {},
     "output_type": "execute_result"
    }
   ],
   "source": [
    "id(df)"
   ]
  },
  {
   "cell_type": "code",
   "execution_count": 9,
   "metadata": {},
   "outputs": [
    {
     "data": {
      "text/plain": [
       "2637698702688"
      ]
     },
     "execution_count": 9,
     "metadata": {},
     "output_type": "execute_result"
    }
   ],
   "source": [
    "id(df.reset_index())"
   ]
  },
  {
   "cell_type": "code",
   "execution_count": 10,
   "metadata": {},
   "outputs": [],
   "source": [
    "df = df.reset_index()"
   ]
  },
  {
   "cell_type": "code",
   "execution_count": 11,
   "metadata": {
    "scrolled": true
   },
   "outputs": [
    {
     "data": {
      "text/html": [
       "<div>\n",
       "<style scoped>\n",
       "    .dataframe tbody tr th:only-of-type {\n",
       "        vertical-align: middle;\n",
       "    }\n",
       "\n",
       "    .dataframe tbody tr th {\n",
       "        vertical-align: top;\n",
       "    }\n",
       "\n",
       "    .dataframe thead th {\n",
       "        text-align: right;\n",
       "    }\n",
       "</style>\n",
       "<table border=\"1\" class=\"dataframe\">\n",
       "  <thead>\n",
       "    <tr style=\"text-align: right;\">\n",
       "      <th></th>\n",
       "      <th>Date</th>\n",
       "      <th>Open</th>\n",
       "      <th>High</th>\n",
       "      <th>Low</th>\n",
       "      <th>Close</th>\n",
       "      <th>Adj Close</th>\n",
       "      <th>Volume</th>\n",
       "    </tr>\n",
       "  </thead>\n",
       "  <tbody>\n",
       "    <tr>\n",
       "      <th>0</th>\n",
       "      <td>2022-01-03</td>\n",
       "      <td>134.070007</td>\n",
       "      <td>136.289993</td>\n",
       "      <td>133.630005</td>\n",
       "      <td>136.039993</td>\n",
       "      <td>128.039200</td>\n",
       "      <td>4605900</td>\n",
       "    </tr>\n",
       "    <tr>\n",
       "      <th>1</th>\n",
       "      <td>2022-01-04</td>\n",
       "      <td>136.100006</td>\n",
       "      <td>139.949997</td>\n",
       "      <td>135.899994</td>\n",
       "      <td>138.020004</td>\n",
       "      <td>129.902771</td>\n",
       "      <td>7300000</td>\n",
       "    </tr>\n",
       "    <tr>\n",
       "      <th>2</th>\n",
       "      <td>2022-01-05</td>\n",
       "      <td>138.309998</td>\n",
       "      <td>142.199997</td>\n",
       "      <td>137.880005</td>\n",
       "      <td>138.220001</td>\n",
       "      <td>130.091003</td>\n",
       "      <td>8956900</td>\n",
       "    </tr>\n",
       "    <tr>\n",
       "      <th>3</th>\n",
       "      <td>2022-01-06</td>\n",
       "      <td>138.199997</td>\n",
       "      <td>138.410004</td>\n",
       "      <td>132.509995</td>\n",
       "      <td>135.339996</td>\n",
       "      <td>127.380371</td>\n",
       "      <td>9908100</td>\n",
       "    </tr>\n",
       "    <tr>\n",
       "      <th>4</th>\n",
       "      <td>2022-01-07</td>\n",
       "      <td>134.899994</td>\n",
       "      <td>135.660004</td>\n",
       "      <td>133.509995</td>\n",
       "      <td>134.830002</td>\n",
       "      <td>126.900368</td>\n",
       "      <td>5238100</td>\n",
       "    </tr>\n",
       "    <tr>\n",
       "      <th>...</th>\n",
       "      <td>...</td>\n",
       "      <td>...</td>\n",
       "      <td>...</td>\n",
       "      <td>...</td>\n",
       "      <td>...</td>\n",
       "      <td>...</td>\n",
       "      <td>...</td>\n",
       "    </tr>\n",
       "    <tr>\n",
       "      <th>317</th>\n",
       "      <td>2023-04-10</td>\n",
       "      <td>129.830002</td>\n",
       "      <td>131.080002</td>\n",
       "      <td>129.240005</td>\n",
       "      <td>131.029999</td>\n",
       "      <td>131.029999</td>\n",
       "      <td>2614400</td>\n",
       "    </tr>\n",
       "    <tr>\n",
       "      <th>318</th>\n",
       "      <td>2023-04-11</td>\n",
       "      <td>130.580002</td>\n",
       "      <td>131.100006</td>\n",
       "      <td>130.179993</td>\n",
       "      <td>130.419998</td>\n",
       "      <td>130.419998</td>\n",
       "      <td>3132400</td>\n",
       "    </tr>\n",
       "    <tr>\n",
       "      <th>319</th>\n",
       "      <td>2023-04-12</td>\n",
       "      <td>130.399994</td>\n",
       "      <td>130.889999</td>\n",
       "      <td>128.169998</td>\n",
       "      <td>128.539993</td>\n",
       "      <td>128.539993</td>\n",
       "      <td>3957500</td>\n",
       "    </tr>\n",
       "    <tr>\n",
       "      <th>320</th>\n",
       "      <td>2023-04-13</td>\n",
       "      <td>128.009995</td>\n",
       "      <td>128.389999</td>\n",
       "      <td>126.000000</td>\n",
       "      <td>127.900002</td>\n",
       "      <td>127.900002</td>\n",
       "      <td>5620800</td>\n",
       "    </tr>\n",
       "    <tr>\n",
       "      <th>321</th>\n",
       "      <td>2023-04-14</td>\n",
       "      <td>128.460007</td>\n",
       "      <td>129.839996</td>\n",
       "      <td>127.309998</td>\n",
       "      <td>127.589996</td>\n",
       "      <td>127.589996</td>\n",
       "      <td>2218885</td>\n",
       "    </tr>\n",
       "  </tbody>\n",
       "</table>\n",
       "<p>322 rows × 7 columns</p>\n",
       "</div>"
      ],
      "text/plain": [
       "          Date        Open        High         Low       Close   Adj Close  \\\n",
       "0   2022-01-03  134.070007  136.289993  133.630005  136.039993  128.039200   \n",
       "1   2022-01-04  136.100006  139.949997  135.899994  138.020004  129.902771   \n",
       "2   2022-01-05  138.309998  142.199997  137.880005  138.220001  130.091003   \n",
       "3   2022-01-06  138.199997  138.410004  132.509995  135.339996  127.380371   \n",
       "4   2022-01-07  134.899994  135.660004  133.509995  134.830002  126.900368   \n",
       "..         ...         ...         ...         ...         ...         ...   \n",
       "317 2023-04-10  129.830002  131.080002  129.240005  131.029999  131.029999   \n",
       "318 2023-04-11  130.580002  131.100006  130.179993  130.419998  130.419998   \n",
       "319 2023-04-12  130.399994  130.889999  128.169998  128.539993  128.539993   \n",
       "320 2023-04-13  128.009995  128.389999  126.000000  127.900002  127.900002   \n",
       "321 2023-04-14  128.460007  129.839996  127.309998  127.589996  127.589996   \n",
       "\n",
       "      Volume  \n",
       "0    4605900  \n",
       "1    7300000  \n",
       "2    8956900  \n",
       "3    9908100  \n",
       "4    5238100  \n",
       "..       ...  \n",
       "317  2614400  \n",
       "318  3132400  \n",
       "319  3957500  \n",
       "320  5620800  \n",
       "321  2218885  \n",
       "\n",
       "[322 rows x 7 columns]"
      ]
     },
     "execution_count": 11,
     "metadata": {},
     "output_type": "execute_result"
    }
   ],
   "source": [
    "df"
   ]
  },
  {
   "cell_type": "code",
   "execution_count": 12,
   "metadata": {},
   "outputs": [
    {
     "data": {
      "text/html": [
       "<div>\n",
       "<style scoped>\n",
       "    .dataframe tbody tr th:only-of-type {\n",
       "        vertical-align: middle;\n",
       "    }\n",
       "\n",
       "    .dataframe tbody tr th {\n",
       "        vertical-align: top;\n",
       "    }\n",
       "\n",
       "    .dataframe thead th {\n",
       "        text-align: right;\n",
       "    }\n",
       "</style>\n",
       "<table border=\"1\" class=\"dataframe\">\n",
       "  <thead>\n",
       "    <tr style=\"text-align: right;\">\n",
       "      <th></th>\n",
       "      <th>Date</th>\n",
       "      <th>Open</th>\n",
       "      <th>High</th>\n",
       "      <th>Low</th>\n",
       "      <th>Close</th>\n",
       "      <th>Adj Close</th>\n",
       "      <th>Volume</th>\n",
       "    </tr>\n",
       "  </thead>\n",
       "  <tbody>\n",
       "    <tr>\n",
       "      <th>0</th>\n",
       "      <td>2022-01-03</td>\n",
       "      <td>134.070007</td>\n",
       "      <td>136.289993</td>\n",
       "      <td>133.630005</td>\n",
       "      <td>136.039993</td>\n",
       "      <td>128.039200</td>\n",
       "      <td>4605900</td>\n",
       "    </tr>\n",
       "    <tr>\n",
       "      <th>1</th>\n",
       "      <td>2022-01-04</td>\n",
       "      <td>136.100006</td>\n",
       "      <td>139.949997</td>\n",
       "      <td>135.899994</td>\n",
       "      <td>138.020004</td>\n",
       "      <td>129.902771</td>\n",
       "      <td>7300000</td>\n",
       "    </tr>\n",
       "    <tr>\n",
       "      <th>2</th>\n",
       "      <td>2022-01-05</td>\n",
       "      <td>138.309998</td>\n",
       "      <td>142.199997</td>\n",
       "      <td>137.880005</td>\n",
       "      <td>138.220001</td>\n",
       "      <td>130.091003</td>\n",
       "      <td>8956900</td>\n",
       "    </tr>\n",
       "    <tr>\n",
       "      <th>3</th>\n",
       "      <td>2022-01-06</td>\n",
       "      <td>138.199997</td>\n",
       "      <td>138.410004</td>\n",
       "      <td>132.509995</td>\n",
       "      <td>135.339996</td>\n",
       "      <td>127.380371</td>\n",
       "      <td>9908100</td>\n",
       "    </tr>\n",
       "    <tr>\n",
       "      <th>5</th>\n",
       "      <td>2022-01-10</td>\n",
       "      <td>134.470001</td>\n",
       "      <td>136.199997</td>\n",
       "      <td>133.380005</td>\n",
       "      <td>135.029999</td>\n",
       "      <td>127.088623</td>\n",
       "      <td>5432800</td>\n",
       "    </tr>\n",
       "    <tr>\n",
       "      <th>...</th>\n",
       "      <td>...</td>\n",
       "      <td>...</td>\n",
       "      <td>...</td>\n",
       "      <td>...</td>\n",
       "      <td>...</td>\n",
       "      <td>...</td>\n",
       "      <td>...</td>\n",
       "    </tr>\n",
       "    <tr>\n",
       "      <th>275</th>\n",
       "      <td>2023-02-07</td>\n",
       "      <td>135.669998</td>\n",
       "      <td>136.399994</td>\n",
       "      <td>134.449997</td>\n",
       "      <td>135.839996</td>\n",
       "      <td>134.191696</td>\n",
       "      <td>3737600</td>\n",
       "    </tr>\n",
       "    <tr>\n",
       "      <th>276</th>\n",
       "      <td>2023-02-08</td>\n",
       "      <td>135.710007</td>\n",
       "      <td>136.740005</td>\n",
       "      <td>135.160004</td>\n",
       "      <td>135.979996</td>\n",
       "      <td>134.330002</td>\n",
       "      <td>4593700</td>\n",
       "    </tr>\n",
       "    <tr>\n",
       "      <th>279</th>\n",
       "      <td>2023-02-13</td>\n",
       "      <td>136.000000</td>\n",
       "      <td>137.389999</td>\n",
       "      <td>135.850006</td>\n",
       "      <td>137.350006</td>\n",
       "      <td>137.350006</td>\n",
       "      <td>4403000</td>\n",
       "    </tr>\n",
       "    <tr>\n",
       "      <th>280</th>\n",
       "      <td>2023-02-14</td>\n",
       "      <td>137.050003</td>\n",
       "      <td>137.240005</td>\n",
       "      <td>135.050003</td>\n",
       "      <td>136.009995</td>\n",
       "      <td>136.009995</td>\n",
       "      <td>3202200</td>\n",
       "    </tr>\n",
       "    <tr>\n",
       "      <th>281</th>\n",
       "      <td>2023-02-15</td>\n",
       "      <td>135.199997</td>\n",
       "      <td>136.449997</td>\n",
       "      <td>135.070007</td>\n",
       "      <td>136.399994</td>\n",
       "      <td>136.399994</td>\n",
       "      <td>2506700</td>\n",
       "    </tr>\n",
       "  </tbody>\n",
       "</table>\n",
       "<p>141 rows × 7 columns</p>\n",
       "</div>"
      ],
      "text/plain": [
       "          Date        Open        High         Low       Close   Adj Close  \\\n",
       "0   2022-01-03  134.070007  136.289993  133.630005  136.039993  128.039200   \n",
       "1   2022-01-04  136.100006  139.949997  135.899994  138.020004  129.902771   \n",
       "2   2022-01-05  138.309998  142.199997  137.880005  138.220001  130.091003   \n",
       "3   2022-01-06  138.199997  138.410004  132.509995  135.339996  127.380371   \n",
       "5   2022-01-10  134.470001  136.199997  133.380005  135.029999  127.088623   \n",
       "..         ...         ...         ...         ...         ...         ...   \n",
       "275 2023-02-07  135.669998  136.399994  134.449997  135.839996  134.191696   \n",
       "276 2023-02-08  135.710007  136.740005  135.160004  135.979996  134.330002   \n",
       "279 2023-02-13  136.000000  137.389999  135.850006  137.350006  137.350006   \n",
       "280 2023-02-14  137.050003  137.240005  135.050003  136.009995  136.009995   \n",
       "281 2023-02-15  135.199997  136.449997  135.070007  136.399994  136.399994   \n",
       "\n",
       "      Volume  \n",
       "0    4605900  \n",
       "1    7300000  \n",
       "2    8956900  \n",
       "3    9908100  \n",
       "5    5432800  \n",
       "..       ...  \n",
       "275  3737600  \n",
       "276  4593700  \n",
       "279  4403000  \n",
       "280  3202200  \n",
       "281  2506700  \n",
       "\n",
       "[141 rows x 7 columns]"
      ]
     },
     "execution_count": 12,
     "metadata": {},
     "output_type": "execute_result"
    }
   ],
   "source": [
    "# myDate = dt.datetime(2020, 1, 1)\n",
    "# df[df['Date']>myDate]\n",
    "\n",
    "#df[df['High']>136]\n",
    "df[df.High>136]"
   ]
  },
  {
   "cell_type": "code",
   "execution_count": 13,
   "metadata": {},
   "outputs": [
    {
     "data": {
      "text/plain": [
       "0       True\n",
       "1       True\n",
       "2       True\n",
       "3       True\n",
       "4       True\n",
       "       ...  \n",
       "317    False\n",
       "318    False\n",
       "319    False\n",
       "320    False\n",
       "321    False\n",
       "Name: High, Length: 322, dtype: bool"
      ]
     },
     "execution_count": 13,
     "metadata": {},
     "output_type": "execute_result"
    }
   ],
   "source": [
    "df['High']>134"
   ]
  },
  {
   "cell_type": "code",
   "execution_count": 14,
   "metadata": {},
   "outputs": [
    {
     "data": {
      "text/plain": [
       "(array([  0,   1,   2,   3,   5,   8,  15,  16,  21,  22,  23,  24,  25,\n",
       "         26,  27,  74,  75,  76,  77,  78,  79,  80,  84,  85,  86,  87,\n",
       "         92,  93,  94, 100, 101, 102, 103, 104, 105, 106, 107, 108, 109,\n",
       "        110, 111, 112, 113, 114, 115, 116, 117, 118, 119, 120, 121, 122,\n",
       "        123, 124, 125, 126, 127, 128, 129, 130, 131, 132, 133, 134, 155,\n",
       "        156, 157, 158, 159, 160, 206, 207, 208, 209, 210, 211, 212, 213,\n",
       "        214, 215, 216, 217, 218, 219, 220, 221, 222, 223, 224, 225, 226,\n",
       "        227, 228, 229, 230, 231, 232, 233, 234, 235, 236, 237, 238, 239,\n",
       "        240, 241, 242, 243, 244, 245, 246, 247, 248, 249, 250, 251, 252,\n",
       "        253, 254, 255, 256, 257, 258, 259, 260, 261, 262, 263, 264, 265,\n",
       "        266, 267, 269, 272, 273, 274, 275, 276, 279, 280, 281], dtype=int64),)"
      ]
     },
     "execution_count": 14,
     "metadata": {},
     "output_type": "execute_result"
    }
   ],
   "source": [
    "np.where(df['High']>136)"
   ]
  },
  {
   "cell_type": "code",
   "execution_count": 15,
   "metadata": {},
   "outputs": [
    {
     "data": {
      "text/html": [
       "<div>\n",
       "<style scoped>\n",
       "    .dataframe tbody tr th:only-of-type {\n",
       "        vertical-align: middle;\n",
       "    }\n",
       "\n",
       "    .dataframe tbody tr th {\n",
       "        vertical-align: top;\n",
       "    }\n",
       "\n",
       "    .dataframe thead th {\n",
       "        text-align: right;\n",
       "    }\n",
       "</style>\n",
       "<table border=\"1\" class=\"dataframe\">\n",
       "  <thead>\n",
       "    <tr style=\"text-align: right;\">\n",
       "      <th></th>\n",
       "      <th>Date</th>\n",
       "      <th>Open</th>\n",
       "      <th>High</th>\n",
       "      <th>Low</th>\n",
       "      <th>Close</th>\n",
       "      <th>Adj Close</th>\n",
       "      <th>Volume</th>\n",
       "    </tr>\n",
       "  </thead>\n",
       "  <tbody>\n",
       "    <tr>\n",
       "      <th>0</th>\n",
       "      <td>2022-01-03</td>\n",
       "      <td>134.070007</td>\n",
       "      <td>136.289993</td>\n",
       "      <td>133.630005</td>\n",
       "      <td>136.039993</td>\n",
       "      <td>128.039200</td>\n",
       "      <td>4605900</td>\n",
       "    </tr>\n",
       "    <tr>\n",
       "      <th>1</th>\n",
       "      <td>2022-01-04</td>\n",
       "      <td>136.100006</td>\n",
       "      <td>139.949997</td>\n",
       "      <td>135.899994</td>\n",
       "      <td>138.020004</td>\n",
       "      <td>129.902771</td>\n",
       "      <td>7300000</td>\n",
       "    </tr>\n",
       "    <tr>\n",
       "      <th>2</th>\n",
       "      <td>2022-01-05</td>\n",
       "      <td>138.309998</td>\n",
       "      <td>142.199997</td>\n",
       "      <td>137.880005</td>\n",
       "      <td>138.220001</td>\n",
       "      <td>130.091003</td>\n",
       "      <td>8956900</td>\n",
       "    </tr>\n",
       "    <tr>\n",
       "      <th>3</th>\n",
       "      <td>2022-01-06</td>\n",
       "      <td>138.199997</td>\n",
       "      <td>138.410004</td>\n",
       "      <td>132.509995</td>\n",
       "      <td>135.339996</td>\n",
       "      <td>127.380371</td>\n",
       "      <td>9908100</td>\n",
       "    </tr>\n",
       "    <tr>\n",
       "      <th>5</th>\n",
       "      <td>2022-01-10</td>\n",
       "      <td>134.470001</td>\n",
       "      <td>136.199997</td>\n",
       "      <td>133.380005</td>\n",
       "      <td>135.029999</td>\n",
       "      <td>127.088623</td>\n",
       "      <td>5432800</td>\n",
       "    </tr>\n",
       "    <tr>\n",
       "      <th>...</th>\n",
       "      <td>...</td>\n",
       "      <td>...</td>\n",
       "      <td>...</td>\n",
       "      <td>...</td>\n",
       "      <td>...</td>\n",
       "      <td>...</td>\n",
       "      <td>...</td>\n",
       "    </tr>\n",
       "    <tr>\n",
       "      <th>275</th>\n",
       "      <td>2023-02-07</td>\n",
       "      <td>135.669998</td>\n",
       "      <td>136.399994</td>\n",
       "      <td>134.449997</td>\n",
       "      <td>135.839996</td>\n",
       "      <td>134.191696</td>\n",
       "      <td>3737600</td>\n",
       "    </tr>\n",
       "    <tr>\n",
       "      <th>276</th>\n",
       "      <td>2023-02-08</td>\n",
       "      <td>135.710007</td>\n",
       "      <td>136.740005</td>\n",
       "      <td>135.160004</td>\n",
       "      <td>135.979996</td>\n",
       "      <td>134.330002</td>\n",
       "      <td>4593700</td>\n",
       "    </tr>\n",
       "    <tr>\n",
       "      <th>279</th>\n",
       "      <td>2023-02-13</td>\n",
       "      <td>136.000000</td>\n",
       "      <td>137.389999</td>\n",
       "      <td>135.850006</td>\n",
       "      <td>137.350006</td>\n",
       "      <td>137.350006</td>\n",
       "      <td>4403000</td>\n",
       "    </tr>\n",
       "    <tr>\n",
       "      <th>280</th>\n",
       "      <td>2023-02-14</td>\n",
       "      <td>137.050003</td>\n",
       "      <td>137.240005</td>\n",
       "      <td>135.050003</td>\n",
       "      <td>136.009995</td>\n",
       "      <td>136.009995</td>\n",
       "      <td>3202200</td>\n",
       "    </tr>\n",
       "    <tr>\n",
       "      <th>281</th>\n",
       "      <td>2023-02-15</td>\n",
       "      <td>135.199997</td>\n",
       "      <td>136.449997</td>\n",
       "      <td>135.070007</td>\n",
       "      <td>136.399994</td>\n",
       "      <td>136.399994</td>\n",
       "      <td>2506700</td>\n",
       "    </tr>\n",
       "  </tbody>\n",
       "</table>\n",
       "<p>141 rows × 7 columns</p>\n",
       "</div>"
      ],
      "text/plain": [
       "          Date        Open        High         Low       Close   Adj Close  \\\n",
       "0   2022-01-03  134.070007  136.289993  133.630005  136.039993  128.039200   \n",
       "1   2022-01-04  136.100006  139.949997  135.899994  138.020004  129.902771   \n",
       "2   2022-01-05  138.309998  142.199997  137.880005  138.220001  130.091003   \n",
       "3   2022-01-06  138.199997  138.410004  132.509995  135.339996  127.380371   \n",
       "5   2022-01-10  134.470001  136.199997  133.380005  135.029999  127.088623   \n",
       "..         ...         ...         ...         ...         ...         ...   \n",
       "275 2023-02-07  135.669998  136.399994  134.449997  135.839996  134.191696   \n",
       "276 2023-02-08  135.710007  136.740005  135.160004  135.979996  134.330002   \n",
       "279 2023-02-13  136.000000  137.389999  135.850006  137.350006  137.350006   \n",
       "280 2023-02-14  137.050003  137.240005  135.050003  136.009995  136.009995   \n",
       "281 2023-02-15  135.199997  136.449997  135.070007  136.399994  136.399994   \n",
       "\n",
       "      Volume  \n",
       "0    4605900  \n",
       "1    7300000  \n",
       "2    8956900  \n",
       "3    9908100  \n",
       "5    5432800  \n",
       "..       ...  \n",
       "275  3737600  \n",
       "276  4593700  \n",
       "279  4403000  \n",
       "280  3202200  \n",
       "281  2506700  \n",
       "\n",
       "[141 rows x 7 columns]"
      ]
     },
     "execution_count": 15,
     "metadata": {},
     "output_type": "execute_result"
    }
   ],
   "source": [
    "(df.iloc[np.where(df['High']>136)])"
   ]
  },
  {
   "cell_type": "code",
   "execution_count": 31,
   "metadata": {},
   "outputs": [
    {
     "data": {
      "text/plain": [
       "2380902505776"
      ]
     },
     "execution_count": 31,
     "metadata": {},
     "output_type": "execute_result"
    }
   ],
   "source": [
    "id(df)"
   ]
  },
  {
   "cell_type": "code",
   "execution_count": 32,
   "metadata": {},
   "outputs": [
    {
     "data": {
      "text/plain": [
       "(308, 8)"
      ]
     },
     "execution_count": 32,
     "metadata": {},
     "output_type": "execute_result"
    }
   ],
   "source": [
    "df.shape"
   ]
  },
  {
   "cell_type": "markdown",
   "metadata": {},
   "source": [
    "<h2>Datareader documentation</h2>\n",
    "http://pandas-datareader.readthedocs.io/en/latest/</h2>"
   ]
  },
  {
   "cell_type": "markdown",
   "metadata": {},
   "source": [
    "<h3>Working with a timeseries data frame</h3>\n",
    "<li>The data is organized by time with the index serving as the timeline\n"
   ]
  },
  {
   "cell_type": "markdown",
   "metadata": {},
   "source": [
    "<h4>Creating new columns</h4>\n",
    "<li>Add a column to a dataframe\n",
    "<li>Base the elements of the column on some combination of data in the existing columns\n",
    "<h4>Example: Number of Days that the stock closed higher than it opened\n",
    "<li>We'll create a new column with the header \"UP\"\n",
    "<li>And use np.where to decide what to put in the column"
   ]
  },
  {
   "cell_type": "code",
   "execution_count": 149,
   "metadata": {},
   "outputs": [
    {
     "data": {
      "text/plain": [
       "0       True\n",
       "1       True\n",
       "2      False\n",
       "3      False\n",
       "4      False\n",
       "       ...  \n",
       "303     True\n",
       "304    False\n",
       "305    False\n",
       "306    False\n",
       "307     True\n",
       "Length: 308, dtype: bool"
      ]
     },
     "execution_count": 149,
     "metadata": {},
     "output_type": "execute_result"
    }
   ],
   "source": [
    "df['Close']>df['Open']"
   ]
  },
  {
   "cell_type": "code",
   "execution_count": 152,
   "metadata": {
    "scrolled": true
   },
   "outputs": [
    {
     "data": {
      "text/plain": [
       "array([1, 1, 0, 0, 0, 1, 1, 1, 1, 0, 0, 0, 0, 0, 1, 1, 0, 0, 1, 0, 1, 1,\n",
       "       1, 0, 0, 0, 0, 0, 0, 0, 0, 0, 0, 0, 0, 0, 1, 1, 1, 0, 1, 1, 1, 0,\n",
       "       0, 0, 0, 0, 0, 1, 1, 1, 1, 0, 1, 0, 1, 1, 1, 0, 1, 0, 1, 1, 0, 1,\n",
       "       0, 0, 0, 0, 1, 0, 0, 1, 1, 1, 0, 1, 0, 0, 0, 0, 1, 0, 1, 0, 1, 1,\n",
       "       0, 1, 1, 1, 1, 1, 0, 0, 0, 1, 1, 1, 1, 1, 1, 0, 1, 1, 0, 1, 0, 0,\n",
       "       0, 1, 1, 1, 1, 0, 1, 1, 1, 1, 1, 0, 0, 1, 1, 0, 1, 1, 0, 1, 0, 0,\n",
       "       1, 0, 0, 0, 0, 0, 1, 1, 0, 1, 1, 1, 1, 0, 1, 0, 1, 0, 0, 1, 1, 1,\n",
       "       1, 1, 1, 1, 0, 0, 0, 0, 1, 0, 1, 0, 0, 1, 0, 0, 1, 1, 1, 1, 0, 1,\n",
       "       0, 1, 1, 0, 0, 1, 0, 0, 0, 1, 0, 0, 1, 1, 1, 0, 0, 0, 1, 0, 1, 0,\n",
       "       0, 0, 1, 1, 1, 1, 1, 1, 0, 1, 1, 0, 0, 0, 1, 1, 1, 0, 1, 1, 1, 1,\n",
       "       1, 1, 1, 0, 1, 0, 1, 0, 1, 1, 0, 1, 0, 1, 0, 0, 0, 1, 1, 0, 0, 0,\n",
       "       0, 1, 1, 0, 1, 1, 0, 1, 1, 1, 1, 0, 1, 0, 1, 1, 1, 1, 0, 0, 1, 0,\n",
       "       1, 1, 1, 0, 0, 1, 0, 1, 1, 1, 1, 1, 1, 0, 1, 1, 0, 1, 0, 1, 0, 0,\n",
       "       0, 1, 0, 0, 0, 1, 1, 1, 0, 0, 0, 0, 1, 0, 1, 1, 0, 1, 0, 0, 0, 1])"
      ]
     },
     "execution_count": 152,
     "metadata": {},
     "output_type": "execute_result"
    }
   ],
   "source": [
    "np.where(df['Close']>df['Open'],1,0)"
   ]
  },
  {
   "cell_type": "code",
   "execution_count": 16,
   "metadata": {},
   "outputs": [
    {
     "data": {
      "text/html": [
       "<div>\n",
       "<style scoped>\n",
       "    .dataframe tbody tr th:only-of-type {\n",
       "        vertical-align: middle;\n",
       "    }\n",
       "\n",
       "    .dataframe tbody tr th {\n",
       "        vertical-align: top;\n",
       "    }\n",
       "\n",
       "    .dataframe thead th {\n",
       "        text-align: right;\n",
       "    }\n",
       "</style>\n",
       "<table border=\"1\" class=\"dataframe\">\n",
       "  <thead>\n",
       "    <tr style=\"text-align: right;\">\n",
       "      <th></th>\n",
       "      <th>Date</th>\n",
       "      <th>Open</th>\n",
       "      <th>High</th>\n",
       "      <th>Low</th>\n",
       "      <th>Close</th>\n",
       "      <th>Adj Close</th>\n",
       "      <th>Volume</th>\n",
       "      <th>DOWN</th>\n",
       "      <th>DOWN2</th>\n",
       "      <th>Close_Higher_than_140</th>\n",
       "      <th>Close_Higher_than_140_2</th>\n",
       "    </tr>\n",
       "  </thead>\n",
       "  <tbody>\n",
       "    <tr>\n",
       "      <th>0</th>\n",
       "      <td>2022-01-03</td>\n",
       "      <td>134.070007</td>\n",
       "      <td>136.289993</td>\n",
       "      <td>133.630005</td>\n",
       "      <td>136.039993</td>\n",
       "      <td>128.039200</td>\n",
       "      <td>4605900</td>\n",
       "      <td>0</td>\n",
       "      <td>0</td>\n",
       "      <td>0</td>\n",
       "      <td>0</td>\n",
       "    </tr>\n",
       "    <tr>\n",
       "      <th>1</th>\n",
       "      <td>2022-01-04</td>\n",
       "      <td>136.100006</td>\n",
       "      <td>139.949997</td>\n",
       "      <td>135.899994</td>\n",
       "      <td>138.020004</td>\n",
       "      <td>129.902771</td>\n",
       "      <td>7300000</td>\n",
       "      <td>0</td>\n",
       "      <td>0</td>\n",
       "      <td>0</td>\n",
       "      <td>0</td>\n",
       "    </tr>\n",
       "    <tr>\n",
       "      <th>2</th>\n",
       "      <td>2022-01-05</td>\n",
       "      <td>138.309998</td>\n",
       "      <td>142.199997</td>\n",
       "      <td>137.880005</td>\n",
       "      <td>138.220001</td>\n",
       "      <td>130.091003</td>\n",
       "      <td>8956900</td>\n",
       "      <td>1</td>\n",
       "      <td>1</td>\n",
       "      <td>0</td>\n",
       "      <td>0</td>\n",
       "    </tr>\n",
       "    <tr>\n",
       "      <th>3</th>\n",
       "      <td>2022-01-06</td>\n",
       "      <td>138.199997</td>\n",
       "      <td>138.410004</td>\n",
       "      <td>132.509995</td>\n",
       "      <td>135.339996</td>\n",
       "      <td>127.380371</td>\n",
       "      <td>9908100</td>\n",
       "      <td>1</td>\n",
       "      <td>1</td>\n",
       "      <td>0</td>\n",
       "      <td>0</td>\n",
       "    </tr>\n",
       "  </tbody>\n",
       "</table>\n",
       "</div>"
      ],
      "text/plain": [
       "        Date        Open        High         Low       Close   Adj Close  \\\n",
       "0 2022-01-03  134.070007  136.289993  133.630005  136.039993  128.039200   \n",
       "1 2022-01-04  136.100006  139.949997  135.899994  138.020004  129.902771   \n",
       "2 2022-01-05  138.309998  142.199997  137.880005  138.220001  130.091003   \n",
       "3 2022-01-06  138.199997  138.410004  132.509995  135.339996  127.380371   \n",
       "\n",
       "    Volume  DOWN  DOWN2  Close_Higher_than_140  Close_Higher_than_140_2  \n",
       "0  4605900     0      0                      0                        0  \n",
       "1  7300000     0      0                      0                        0  \n",
       "2  8956900     1      1                      0                        0  \n",
       "3  9908100     1      1                      0                        0  "
      ]
     },
     "execution_count": 16,
     "metadata": {},
     "output_type": "execute_result"
    }
   ],
   "source": [
    "def calcIsDown(row):\n",
    "    if row['Close']<row['Open']:\n",
    "        return 1\n",
    "    else:\n",
    "        return 0\n",
    "#1\n",
    "df['DOWN']= df.apply(lambda row: 1 if row['Close']<row['Open'] else 0 ,axis=1)\n",
    "#2 \n",
    "df['DOWN2']= df.apply(calcIsDown, axis=1)\n",
    "\n",
    "df['Close_Higher_than_140'] = np.where(df['Close']>140,1,0)\n",
    "df['Close_Higher_than_140_2'] = df['Close'].apply(lambda x: 1 if x>140 else 0)\n",
    "df.head(4)"
   ]
  },
  {
   "cell_type": "code",
   "execution_count": 157,
   "metadata": {},
   "outputs": [
    {
     "data": {
      "text/plain": [
       "0      0\n",
       "1      0\n",
       "2      0\n",
       "3      0\n",
       "4      0\n",
       "      ..\n",
       "303    0\n",
       "304    0\n",
       "305    0\n",
       "306    0\n",
       "307    0\n",
       "Name: Close, Length: 308, dtype: int64"
      ]
     },
     "execution_count": 157,
     "metadata": {},
     "output_type": "execute_result"
    }
   ],
   "source": [
    "df['Close'].apply(lambda x: 1 if x>140 else 0)"
   ]
  },
  {
   "cell_type": "code",
   "execution_count": 17,
   "metadata": {},
   "outputs": [
    {
     "data": {
      "text/html": [
       "<div>\n",
       "<style scoped>\n",
       "    .dataframe tbody tr th:only-of-type {\n",
       "        vertical-align: middle;\n",
       "    }\n",
       "\n",
       "    .dataframe tbody tr th {\n",
       "        vertical-align: top;\n",
       "    }\n",
       "\n",
       "    .dataframe thead th {\n",
       "        text-align: right;\n",
       "    }\n",
       "</style>\n",
       "<table border=\"1\" class=\"dataframe\">\n",
       "  <thead>\n",
       "    <tr style=\"text-align: right;\">\n",
       "      <th></th>\n",
       "      <th>Date</th>\n",
       "      <th>Open</th>\n",
       "      <th>High</th>\n",
       "      <th>Low</th>\n",
       "      <th>Close</th>\n",
       "      <th>Adj Close</th>\n",
       "      <th>Volume</th>\n",
       "      <th>DOWN</th>\n",
       "      <th>Close_Higher_than_140</th>\n",
       "      <th>Close_Higher_than_140_2</th>\n",
       "    </tr>\n",
       "  </thead>\n",
       "  <tbody>\n",
       "    <tr>\n",
       "      <th>0</th>\n",
       "      <td>2022-01-03</td>\n",
       "      <td>134.070007</td>\n",
       "      <td>136.289993</td>\n",
       "      <td>133.630005</td>\n",
       "      <td>136.039993</td>\n",
       "      <td>128.039200</td>\n",
       "      <td>4605900</td>\n",
       "      <td>0</td>\n",
       "      <td>0</td>\n",
       "      <td>0</td>\n",
       "    </tr>\n",
       "    <tr>\n",
       "      <th>1</th>\n",
       "      <td>2022-01-04</td>\n",
       "      <td>136.100006</td>\n",
       "      <td>139.949997</td>\n",
       "      <td>135.899994</td>\n",
       "      <td>138.020004</td>\n",
       "      <td>129.902771</td>\n",
       "      <td>7300000</td>\n",
       "      <td>0</td>\n",
       "      <td>0</td>\n",
       "      <td>0</td>\n",
       "    </tr>\n",
       "    <tr>\n",
       "      <th>2</th>\n",
       "      <td>2022-01-05</td>\n",
       "      <td>138.309998</td>\n",
       "      <td>142.199997</td>\n",
       "      <td>137.880005</td>\n",
       "      <td>138.220001</td>\n",
       "      <td>130.091003</td>\n",
       "      <td>8956900</td>\n",
       "      <td>1</td>\n",
       "      <td>0</td>\n",
       "      <td>0</td>\n",
       "    </tr>\n",
       "    <tr>\n",
       "      <th>3</th>\n",
       "      <td>2022-01-06</td>\n",
       "      <td>138.199997</td>\n",
       "      <td>138.410004</td>\n",
       "      <td>132.509995</td>\n",
       "      <td>135.339996</td>\n",
       "      <td>127.380371</td>\n",
       "      <td>9908100</td>\n",
       "      <td>1</td>\n",
       "      <td>0</td>\n",
       "      <td>0</td>\n",
       "    </tr>\n",
       "    <tr>\n",
       "      <th>4</th>\n",
       "      <td>2022-01-07</td>\n",
       "      <td>134.899994</td>\n",
       "      <td>135.660004</td>\n",
       "      <td>133.509995</td>\n",
       "      <td>134.830002</td>\n",
       "      <td>126.900368</td>\n",
       "      <td>5238100</td>\n",
       "      <td>1</td>\n",
       "      <td>0</td>\n",
       "      <td>0</td>\n",
       "    </tr>\n",
       "    <tr>\n",
       "      <th>...</th>\n",
       "      <td>...</td>\n",
       "      <td>...</td>\n",
       "      <td>...</td>\n",
       "      <td>...</td>\n",
       "      <td>...</td>\n",
       "      <td>...</td>\n",
       "      <td>...</td>\n",
       "      <td>...</td>\n",
       "      <td>...</td>\n",
       "      <td>...</td>\n",
       "    </tr>\n",
       "    <tr>\n",
       "      <th>317</th>\n",
       "      <td>2023-04-10</td>\n",
       "      <td>129.830002</td>\n",
       "      <td>131.080002</td>\n",
       "      <td>129.240005</td>\n",
       "      <td>131.029999</td>\n",
       "      <td>131.029999</td>\n",
       "      <td>2614400</td>\n",
       "      <td>0</td>\n",
       "      <td>0</td>\n",
       "      <td>0</td>\n",
       "    </tr>\n",
       "    <tr>\n",
       "      <th>318</th>\n",
       "      <td>2023-04-11</td>\n",
       "      <td>130.580002</td>\n",
       "      <td>131.100006</td>\n",
       "      <td>130.179993</td>\n",
       "      <td>130.419998</td>\n",
       "      <td>130.419998</td>\n",
       "      <td>3132400</td>\n",
       "      <td>1</td>\n",
       "      <td>0</td>\n",
       "      <td>0</td>\n",
       "    </tr>\n",
       "    <tr>\n",
       "      <th>319</th>\n",
       "      <td>2023-04-12</td>\n",
       "      <td>130.399994</td>\n",
       "      <td>130.889999</td>\n",
       "      <td>128.169998</td>\n",
       "      <td>128.539993</td>\n",
       "      <td>128.539993</td>\n",
       "      <td>3957500</td>\n",
       "      <td>1</td>\n",
       "      <td>0</td>\n",
       "      <td>0</td>\n",
       "    </tr>\n",
       "    <tr>\n",
       "      <th>320</th>\n",
       "      <td>2023-04-13</td>\n",
       "      <td>128.009995</td>\n",
       "      <td>128.389999</td>\n",
       "      <td>126.000000</td>\n",
       "      <td>127.900002</td>\n",
       "      <td>127.900002</td>\n",
       "      <td>5620800</td>\n",
       "      <td>1</td>\n",
       "      <td>0</td>\n",
       "      <td>0</td>\n",
       "    </tr>\n",
       "    <tr>\n",
       "      <th>321</th>\n",
       "      <td>2023-04-14</td>\n",
       "      <td>128.460007</td>\n",
       "      <td>129.839996</td>\n",
       "      <td>127.309998</td>\n",
       "      <td>127.589996</td>\n",
       "      <td>127.589996</td>\n",
       "      <td>2218885</td>\n",
       "      <td>1</td>\n",
       "      <td>0</td>\n",
       "      <td>0</td>\n",
       "    </tr>\n",
       "  </tbody>\n",
       "</table>\n",
       "<p>322 rows × 10 columns</p>\n",
       "</div>"
      ],
      "text/plain": [
       "          Date        Open        High         Low       Close   Adj Close  \\\n",
       "0   2022-01-03  134.070007  136.289993  133.630005  136.039993  128.039200   \n",
       "1   2022-01-04  136.100006  139.949997  135.899994  138.020004  129.902771   \n",
       "2   2022-01-05  138.309998  142.199997  137.880005  138.220001  130.091003   \n",
       "3   2022-01-06  138.199997  138.410004  132.509995  135.339996  127.380371   \n",
       "4   2022-01-07  134.899994  135.660004  133.509995  134.830002  126.900368   \n",
       "..         ...         ...         ...         ...         ...         ...   \n",
       "317 2023-04-10  129.830002  131.080002  129.240005  131.029999  131.029999   \n",
       "318 2023-04-11  130.580002  131.100006  130.179993  130.419998  130.419998   \n",
       "319 2023-04-12  130.399994  130.889999  128.169998  128.539993  128.539993   \n",
       "320 2023-04-13  128.009995  128.389999  126.000000  127.900002  127.900002   \n",
       "321 2023-04-14  128.460007  129.839996  127.309998  127.589996  127.589996   \n",
       "\n",
       "      Volume  DOWN  Close_Higher_than_140  Close_Higher_than_140_2  \n",
       "0    4605900     0                      0                        0  \n",
       "1    7300000     0                      0                        0  \n",
       "2    8956900     1                      0                        0  \n",
       "3    9908100     1                      0                        0  \n",
       "4    5238100     1                      0                        0  \n",
       "..       ...   ...                    ...                      ...  \n",
       "317  2614400     0                      0                        0  \n",
       "318  3132400     1                      0                        0  \n",
       "319  3957500     1                      0                        0  \n",
       "320  5620800     1                      0                        0  \n",
       "321  2218885     1                      0                        0  \n",
       "\n",
       "[322 rows x 10 columns]"
      ]
     },
     "execution_count": 17,
     "metadata": {},
     "output_type": "execute_result"
    }
   ],
   "source": [
    "df.drop(columns=['DOWN2'],inplace=True)\n",
    "df"
   ]
  },
  {
   "cell_type": "code",
   "execution_count": 37,
   "metadata": {},
   "outputs": [
    {
     "data": {
      "text/html": [
       "<div>\n",
       "<style scoped>\n",
       "    .dataframe tbody tr th:only-of-type {\n",
       "        vertical-align: middle;\n",
       "    }\n",
       "\n",
       "    .dataframe tbody tr th {\n",
       "        vertical-align: top;\n",
       "    }\n",
       "\n",
       "    .dataframe thead th {\n",
       "        text-align: right;\n",
       "    }\n",
       "</style>\n",
       "<table border=\"1\" class=\"dataframe\">\n",
       "  <thead>\n",
       "    <tr style=\"text-align: right;\">\n",
       "      <th></th>\n",
       "      <th>index</th>\n",
       "      <th>Date</th>\n",
       "      <th>Open</th>\n",
       "      <th>High</th>\n",
       "      <th>Low</th>\n",
       "      <th>Close</th>\n",
       "      <th>Adj Close</th>\n",
       "      <th>Volume</th>\n",
       "      <th>DOWN</th>\n",
       "      <th>Close_Higher_than_140</th>\n",
       "    </tr>\n",
       "  </thead>\n",
       "  <tbody>\n",
       "    <tr>\n",
       "      <th>0</th>\n",
       "      <td>0</td>\n",
       "      <td>2022-01-03</td>\n",
       "      <td>134.070007</td>\n",
       "      <td>136.289993</td>\n",
       "      <td>133.630005</td>\n",
       "      <td>136.039993</td>\n",
       "      <td>128.039200</td>\n",
       "      <td>4605900</td>\n",
       "      <td>0</td>\n",
       "      <td>0</td>\n",
       "    </tr>\n",
       "    <tr>\n",
       "      <th>1</th>\n",
       "      <td>1</td>\n",
       "      <td>2022-01-04</td>\n",
       "      <td>136.100006</td>\n",
       "      <td>139.949997</td>\n",
       "      <td>135.899994</td>\n",
       "      <td>138.020004</td>\n",
       "      <td>129.902771</td>\n",
       "      <td>7300000</td>\n",
       "      <td>0</td>\n",
       "      <td>0</td>\n",
       "    </tr>\n",
       "    <tr>\n",
       "      <th>2</th>\n",
       "      <td>2</td>\n",
       "      <td>2022-01-05</td>\n",
       "      <td>138.309998</td>\n",
       "      <td>142.199997</td>\n",
       "      <td>137.880005</td>\n",
       "      <td>138.220001</td>\n",
       "      <td>130.091003</td>\n",
       "      <td>8956900</td>\n",
       "      <td>1</td>\n",
       "      <td>0</td>\n",
       "    </tr>\n",
       "    <tr>\n",
       "      <th>3</th>\n",
       "      <td>3</td>\n",
       "      <td>2022-01-06</td>\n",
       "      <td>138.199997</td>\n",
       "      <td>138.410004</td>\n",
       "      <td>132.509995</td>\n",
       "      <td>135.339996</td>\n",
       "      <td>127.380386</td>\n",
       "      <td>9908100</td>\n",
       "      <td>1</td>\n",
       "      <td>0</td>\n",
       "    </tr>\n",
       "    <tr>\n",
       "      <th>4</th>\n",
       "      <td>4</td>\n",
       "      <td>2022-01-07</td>\n",
       "      <td>134.899994</td>\n",
       "      <td>135.660004</td>\n",
       "      <td>133.509995</td>\n",
       "      <td>134.830002</td>\n",
       "      <td>126.900383</td>\n",
       "      <td>5238100</td>\n",
       "      <td>1</td>\n",
       "      <td>0</td>\n",
       "    </tr>\n",
       "    <tr>\n",
       "      <th>...</th>\n",
       "      <td>...</td>\n",
       "      <td>...</td>\n",
       "      <td>...</td>\n",
       "      <td>...</td>\n",
       "      <td>...</td>\n",
       "      <td>...</td>\n",
       "      <td>...</td>\n",
       "      <td>...</td>\n",
       "      <td>...</td>\n",
       "      <td>...</td>\n",
       "    </tr>\n",
       "    <tr>\n",
       "      <th>303</th>\n",
       "      <td>303</td>\n",
       "      <td>2023-03-20</td>\n",
       "      <td>124.309998</td>\n",
       "      <td>126.160004</td>\n",
       "      <td>124.190002</td>\n",
       "      <td>125.940002</td>\n",
       "      <td>125.940002</td>\n",
       "      <td>4588300</td>\n",
       "      <td>0</td>\n",
       "      <td>0</td>\n",
       "    </tr>\n",
       "    <tr>\n",
       "      <th>304</th>\n",
       "      <td>304</td>\n",
       "      <td>2023-03-21</td>\n",
       "      <td>126.900002</td>\n",
       "      <td>127.150002</td>\n",
       "      <td>125.660004</td>\n",
       "      <td>126.570000</td>\n",
       "      <td>126.570000</td>\n",
       "      <td>3856300</td>\n",
       "      <td>1</td>\n",
       "      <td>0</td>\n",
       "    </tr>\n",
       "    <tr>\n",
       "      <th>305</th>\n",
       "      <td>305</td>\n",
       "      <td>2023-03-22</td>\n",
       "      <td>127.000000</td>\n",
       "      <td>127.220001</td>\n",
       "      <td>124.010002</td>\n",
       "      <td>124.050003</td>\n",
       "      <td>124.050003</td>\n",
       "      <td>3549000</td>\n",
       "      <td>1</td>\n",
       "      <td>0</td>\n",
       "    </tr>\n",
       "    <tr>\n",
       "      <th>306</th>\n",
       "      <td>306</td>\n",
       "      <td>2023-03-23</td>\n",
       "      <td>123.809998</td>\n",
       "      <td>124.930000</td>\n",
       "      <td>122.599998</td>\n",
       "      <td>123.370003</td>\n",
       "      <td>123.370003</td>\n",
       "      <td>4651900</td>\n",
       "      <td>1</td>\n",
       "      <td>0</td>\n",
       "    </tr>\n",
       "    <tr>\n",
       "      <th>307</th>\n",
       "      <td>307</td>\n",
       "      <td>2023-03-24</td>\n",
       "      <td>123.360001</td>\n",
       "      <td>125.400002</td>\n",
       "      <td>122.879997</td>\n",
       "      <td>125.290001</td>\n",
       "      <td>125.290001</td>\n",
       "      <td>3812300</td>\n",
       "      <td>0</td>\n",
       "      <td>0</td>\n",
       "    </tr>\n",
       "  </tbody>\n",
       "</table>\n",
       "<p>308 rows × 10 columns</p>\n",
       "</div>"
      ],
      "text/plain": [
       "     index       Date        Open        High         Low       Close  \\\n",
       "0        0 2022-01-03  134.070007  136.289993  133.630005  136.039993   \n",
       "1        1 2022-01-04  136.100006  139.949997  135.899994  138.020004   \n",
       "2        2 2022-01-05  138.309998  142.199997  137.880005  138.220001   \n",
       "3        3 2022-01-06  138.199997  138.410004  132.509995  135.339996   \n",
       "4        4 2022-01-07  134.899994  135.660004  133.509995  134.830002   \n",
       "..     ...        ...         ...         ...         ...         ...   \n",
       "303    303 2023-03-20  124.309998  126.160004  124.190002  125.940002   \n",
       "304    304 2023-03-21  126.900002  127.150002  125.660004  126.570000   \n",
       "305    305 2023-03-22  127.000000  127.220001  124.010002  124.050003   \n",
       "306    306 2023-03-23  123.809998  124.930000  122.599998  123.370003   \n",
       "307    307 2023-03-24  123.360001  125.400002  122.879997  125.290001   \n",
       "\n",
       "      Adj Close   Volume  DOWN  Close_Higher_than_140  \n",
       "0    128.039200  4605900     0                      0  \n",
       "1    129.902771  7300000     0                      0  \n",
       "2    130.091003  8956900     1                      0  \n",
       "3    127.380386  9908100     1                      0  \n",
       "4    126.900383  5238100     1                      0  \n",
       "..          ...      ...   ...                    ...  \n",
       "303  125.940002  4588300     0                      0  \n",
       "304  126.570000  3856300     1                      0  \n",
       "305  124.050003  3549000     1                      0  \n",
       "306  123.370003  4651900     1                      0  \n",
       "307  125.290001  3812300     0                      0  \n",
       "\n",
       "[308 rows x 10 columns]"
      ]
     },
     "execution_count": 37,
     "metadata": {},
     "output_type": "execute_result"
    }
   ],
   "source": [
    "#df=df.drop('ones',axis=1)\n",
    "#3\n",
    "df['DOWN'] = np.where(df['Close']>df['Open'],0,1)\n",
    "df"
   ]
  },
  {
   "cell_type": "code",
   "execution_count": 44,
   "metadata": {},
   "outputs": [
    {
     "data": {
      "text/html": [
       "<div>\n",
       "<style scoped>\n",
       "    .dataframe tbody tr th:only-of-type {\n",
       "        vertical-align: middle;\n",
       "    }\n",
       "\n",
       "    .dataframe tbody tr th {\n",
       "        vertical-align: top;\n",
       "    }\n",
       "\n",
       "    .dataframe thead th {\n",
       "        text-align: right;\n",
       "    }\n",
       "</style>\n",
       "<table border=\"1\" class=\"dataframe\">\n",
       "  <thead>\n",
       "    <tr style=\"text-align: right;\">\n",
       "      <th></th>\n",
       "      <th>index</th>\n",
       "      <th>Date</th>\n",
       "      <th>Open</th>\n",
       "      <th>High</th>\n",
       "      <th>Low</th>\n",
       "      <th>Close</th>\n",
       "      <th>Adj Close</th>\n",
       "      <th>Volume</th>\n",
       "      <th>DOWN</th>\n",
       "      <th>UP</th>\n",
       "    </tr>\n",
       "  </thead>\n",
       "  <tbody>\n",
       "    <tr>\n",
       "      <th>0</th>\n",
       "      <td>0</td>\n",
       "      <td>2022-01-03</td>\n",
       "      <td>134.070007</td>\n",
       "      <td>136.289993</td>\n",
       "      <td>133.630005</td>\n",
       "      <td>136.039993</td>\n",
       "      <td>128.039200</td>\n",
       "      <td>4605900</td>\n",
       "      <td>0</td>\n",
       "      <td>1</td>\n",
       "    </tr>\n",
       "    <tr>\n",
       "      <th>1</th>\n",
       "      <td>1</td>\n",
       "      <td>2022-01-04</td>\n",
       "      <td>136.100006</td>\n",
       "      <td>139.949997</td>\n",
       "      <td>135.899994</td>\n",
       "      <td>138.020004</td>\n",
       "      <td>129.902771</td>\n",
       "      <td>7300000</td>\n",
       "      <td>0</td>\n",
       "      <td>1</td>\n",
       "    </tr>\n",
       "    <tr>\n",
       "      <th>2</th>\n",
       "      <td>2</td>\n",
       "      <td>2022-01-05</td>\n",
       "      <td>138.309998</td>\n",
       "      <td>142.199997</td>\n",
       "      <td>137.880005</td>\n",
       "      <td>138.220001</td>\n",
       "      <td>130.091003</td>\n",
       "      <td>8956900</td>\n",
       "      <td>1</td>\n",
       "      <td>0</td>\n",
       "    </tr>\n",
       "    <tr>\n",
       "      <th>3</th>\n",
       "      <td>3</td>\n",
       "      <td>2022-01-06</td>\n",
       "      <td>138.199997</td>\n",
       "      <td>138.410004</td>\n",
       "      <td>132.509995</td>\n",
       "      <td>135.339996</td>\n",
       "      <td>127.380386</td>\n",
       "      <td>9908100</td>\n",
       "      <td>1</td>\n",
       "      <td>0</td>\n",
       "    </tr>\n",
       "    <tr>\n",
       "      <th>4</th>\n",
       "      <td>4</td>\n",
       "      <td>2022-01-07</td>\n",
       "      <td>134.899994</td>\n",
       "      <td>135.660004</td>\n",
       "      <td>133.509995</td>\n",
       "      <td>134.830002</td>\n",
       "      <td>126.900383</td>\n",
       "      <td>5238100</td>\n",
       "      <td>1</td>\n",
       "      <td>0</td>\n",
       "    </tr>\n",
       "    <tr>\n",
       "      <th>...</th>\n",
       "      <td>...</td>\n",
       "      <td>...</td>\n",
       "      <td>...</td>\n",
       "      <td>...</td>\n",
       "      <td>...</td>\n",
       "      <td>...</td>\n",
       "      <td>...</td>\n",
       "      <td>...</td>\n",
       "      <td>...</td>\n",
       "      <td>...</td>\n",
       "    </tr>\n",
       "    <tr>\n",
       "      <th>303</th>\n",
       "      <td>303</td>\n",
       "      <td>2023-03-20</td>\n",
       "      <td>124.309998</td>\n",
       "      <td>126.160004</td>\n",
       "      <td>124.190002</td>\n",
       "      <td>125.940002</td>\n",
       "      <td>125.940002</td>\n",
       "      <td>4588300</td>\n",
       "      <td>0</td>\n",
       "      <td>1</td>\n",
       "    </tr>\n",
       "    <tr>\n",
       "      <th>304</th>\n",
       "      <td>304</td>\n",
       "      <td>2023-03-21</td>\n",
       "      <td>126.900002</td>\n",
       "      <td>127.150002</td>\n",
       "      <td>125.660004</td>\n",
       "      <td>126.570000</td>\n",
       "      <td>126.570000</td>\n",
       "      <td>3856300</td>\n",
       "      <td>1</td>\n",
       "      <td>0</td>\n",
       "    </tr>\n",
       "    <tr>\n",
       "      <th>305</th>\n",
       "      <td>305</td>\n",
       "      <td>2023-03-22</td>\n",
       "      <td>127.000000</td>\n",
       "      <td>127.220001</td>\n",
       "      <td>124.010002</td>\n",
       "      <td>124.050003</td>\n",
       "      <td>124.050003</td>\n",
       "      <td>3549000</td>\n",
       "      <td>1</td>\n",
       "      <td>0</td>\n",
       "    </tr>\n",
       "    <tr>\n",
       "      <th>306</th>\n",
       "      <td>306</td>\n",
       "      <td>2023-03-23</td>\n",
       "      <td>123.809998</td>\n",
       "      <td>124.930000</td>\n",
       "      <td>122.599998</td>\n",
       "      <td>123.370003</td>\n",
       "      <td>123.370003</td>\n",
       "      <td>4651900</td>\n",
       "      <td>1</td>\n",
       "      <td>0</td>\n",
       "    </tr>\n",
       "    <tr>\n",
       "      <th>307</th>\n",
       "      <td>307</td>\n",
       "      <td>2023-03-24</td>\n",
       "      <td>123.360001</td>\n",
       "      <td>125.400002</td>\n",
       "      <td>122.879997</td>\n",
       "      <td>125.290001</td>\n",
       "      <td>125.290001</td>\n",
       "      <td>3812300</td>\n",
       "      <td>0</td>\n",
       "      <td>1</td>\n",
       "    </tr>\n",
       "  </tbody>\n",
       "</table>\n",
       "<p>308 rows × 10 columns</p>\n",
       "</div>"
      ],
      "text/plain": [
       "     index       Date        Open        High         Low       Close  \\\n",
       "0        0 2022-01-03  134.070007  136.289993  133.630005  136.039993   \n",
       "1        1 2022-01-04  136.100006  139.949997  135.899994  138.020004   \n",
       "2        2 2022-01-05  138.309998  142.199997  137.880005  138.220001   \n",
       "3        3 2022-01-06  138.199997  138.410004  132.509995  135.339996   \n",
       "4        4 2022-01-07  134.899994  135.660004  133.509995  134.830002   \n",
       "..     ...        ...         ...         ...         ...         ...   \n",
       "303    303 2023-03-20  124.309998  126.160004  124.190002  125.940002   \n",
       "304    304 2023-03-21  126.900002  127.150002  125.660004  126.570000   \n",
       "305    305 2023-03-22  127.000000  127.220001  124.010002  124.050003   \n",
       "306    306 2023-03-23  123.809998  124.930000  122.599998  123.370003   \n",
       "307    307 2023-03-24  123.360001  125.400002  122.879997  125.290001   \n",
       "\n",
       "      Adj Close   Volume  DOWN  UP  \n",
       "0    128.039200  4605900     0   1  \n",
       "1    129.902771  7300000     0   1  \n",
       "2    130.091003  8956900     1   0  \n",
       "3    127.380386  9908100     1   0  \n",
       "4    126.900383  5238100     1   0  \n",
       "..          ...      ...   ...  ..  \n",
       "303  125.940002  4588300     0   1  \n",
       "304  126.570000  3856300     1   0  \n",
       "305  124.050003  3549000     1   0  \n",
       "306  123.370003  4651900     1   0  \n",
       "307  125.290001  3812300     0   1  \n",
       "\n",
       "[308 rows x 10 columns]"
      ]
     },
     "execution_count": 44,
     "metadata": {},
     "output_type": "execute_result"
    }
   ],
   "source": [
    "df['UP']=np.where(df['Close']>df['Open'],1,0)\n",
    "\n",
    "df['UP2']=df['Close']>df['Open']\n",
    "\n",
    "df\n"
   ]
  },
  {
   "cell_type": "code",
   "execution_count": 43,
   "metadata": {},
   "outputs": [],
   "source": [
    "df.drop(columns=['UP2','Close_Higher_than_140'],inplace=True)\n"
   ]
  },
  {
   "cell_type": "markdown",
   "metadata": {},
   "source": [
    "<h3>Get summary statistics</h3>\n",
    "<li>The \"describe\" function returns a dataframe containing summary stats for all numerical columns\n",
    "<li>Columns containing non-numerical data are ignored"
   ]
  },
  {
   "cell_type": "code",
   "execution_count": 45,
   "metadata": {},
   "outputs": [
    {
     "data": {
      "text/html": [
       "<div>\n",
       "<style scoped>\n",
       "    .dataframe tbody tr th:only-of-type {\n",
       "        vertical-align: middle;\n",
       "    }\n",
       "\n",
       "    .dataframe tbody tr th {\n",
       "        vertical-align: top;\n",
       "    }\n",
       "\n",
       "    .dataframe thead th {\n",
       "        text-align: right;\n",
       "    }\n",
       "</style>\n",
       "<table border=\"1\" class=\"dataframe\">\n",
       "  <thead>\n",
       "    <tr style=\"text-align: right;\">\n",
       "      <th></th>\n",
       "      <th>index</th>\n",
       "      <th>Date</th>\n",
       "      <th>Open</th>\n",
       "      <th>High</th>\n",
       "      <th>Low</th>\n",
       "      <th>Close</th>\n",
       "      <th>Adj Close</th>\n",
       "      <th>Volume</th>\n",
       "      <th>DOWN</th>\n",
       "      <th>UP</th>\n",
       "    </tr>\n",
       "  </thead>\n",
       "  <tbody>\n",
       "    <tr>\n",
       "      <th>0</th>\n",
       "      <td>0</td>\n",
       "      <td>2022-01-03</td>\n",
       "      <td>134.070007</td>\n",
       "      <td>136.289993</td>\n",
       "      <td>133.630005</td>\n",
       "      <td>136.039993</td>\n",
       "      <td>128.039200</td>\n",
       "      <td>4605900</td>\n",
       "      <td>0</td>\n",
       "      <td>1</td>\n",
       "    </tr>\n",
       "    <tr>\n",
       "      <th>1</th>\n",
       "      <td>1</td>\n",
       "      <td>2022-01-04</td>\n",
       "      <td>136.100006</td>\n",
       "      <td>139.949997</td>\n",
       "      <td>135.899994</td>\n",
       "      <td>138.020004</td>\n",
       "      <td>129.902771</td>\n",
       "      <td>7300000</td>\n",
       "      <td>0</td>\n",
       "      <td>1</td>\n",
       "    </tr>\n",
       "    <tr>\n",
       "      <th>2</th>\n",
       "      <td>2</td>\n",
       "      <td>2022-01-05</td>\n",
       "      <td>138.309998</td>\n",
       "      <td>142.199997</td>\n",
       "      <td>137.880005</td>\n",
       "      <td>138.220001</td>\n",
       "      <td>130.091003</td>\n",
       "      <td>8956900</td>\n",
       "      <td>1</td>\n",
       "      <td>0</td>\n",
       "    </tr>\n",
       "    <tr>\n",
       "      <th>3</th>\n",
       "      <td>3</td>\n",
       "      <td>2022-01-06</td>\n",
       "      <td>138.199997</td>\n",
       "      <td>138.410004</td>\n",
       "      <td>132.509995</td>\n",
       "      <td>135.339996</td>\n",
       "      <td>127.380386</td>\n",
       "      <td>9908100</td>\n",
       "      <td>1</td>\n",
       "      <td>0</td>\n",
       "    </tr>\n",
       "    <tr>\n",
       "      <th>4</th>\n",
       "      <td>4</td>\n",
       "      <td>2022-01-07</td>\n",
       "      <td>134.899994</td>\n",
       "      <td>135.660004</td>\n",
       "      <td>133.509995</td>\n",
       "      <td>134.830002</td>\n",
       "      <td>126.900383</td>\n",
       "      <td>5238100</td>\n",
       "      <td>1</td>\n",
       "      <td>0</td>\n",
       "    </tr>\n",
       "    <tr>\n",
       "      <th>...</th>\n",
       "      <td>...</td>\n",
       "      <td>...</td>\n",
       "      <td>...</td>\n",
       "      <td>...</td>\n",
       "      <td>...</td>\n",
       "      <td>...</td>\n",
       "      <td>...</td>\n",
       "      <td>...</td>\n",
       "      <td>...</td>\n",
       "      <td>...</td>\n",
       "    </tr>\n",
       "    <tr>\n",
       "      <th>303</th>\n",
       "      <td>303</td>\n",
       "      <td>2023-03-20</td>\n",
       "      <td>124.309998</td>\n",
       "      <td>126.160004</td>\n",
       "      <td>124.190002</td>\n",
       "      <td>125.940002</td>\n",
       "      <td>125.940002</td>\n",
       "      <td>4588300</td>\n",
       "      <td>0</td>\n",
       "      <td>1</td>\n",
       "    </tr>\n",
       "    <tr>\n",
       "      <th>304</th>\n",
       "      <td>304</td>\n",
       "      <td>2023-03-21</td>\n",
       "      <td>126.900002</td>\n",
       "      <td>127.150002</td>\n",
       "      <td>125.660004</td>\n",
       "      <td>126.570000</td>\n",
       "      <td>126.570000</td>\n",
       "      <td>3856300</td>\n",
       "      <td>1</td>\n",
       "      <td>0</td>\n",
       "    </tr>\n",
       "    <tr>\n",
       "      <th>305</th>\n",
       "      <td>305</td>\n",
       "      <td>2023-03-22</td>\n",
       "      <td>127.000000</td>\n",
       "      <td>127.220001</td>\n",
       "      <td>124.010002</td>\n",
       "      <td>124.050003</td>\n",
       "      <td>124.050003</td>\n",
       "      <td>3549000</td>\n",
       "      <td>1</td>\n",
       "      <td>0</td>\n",
       "    </tr>\n",
       "    <tr>\n",
       "      <th>306</th>\n",
       "      <td>306</td>\n",
       "      <td>2023-03-23</td>\n",
       "      <td>123.809998</td>\n",
       "      <td>124.930000</td>\n",
       "      <td>122.599998</td>\n",
       "      <td>123.370003</td>\n",
       "      <td>123.370003</td>\n",
       "      <td>4651900</td>\n",
       "      <td>1</td>\n",
       "      <td>0</td>\n",
       "    </tr>\n",
       "    <tr>\n",
       "      <th>307</th>\n",
       "      <td>307</td>\n",
       "      <td>2023-03-24</td>\n",
       "      <td>123.360001</td>\n",
       "      <td>125.400002</td>\n",
       "      <td>122.879997</td>\n",
       "      <td>125.290001</td>\n",
       "      <td>125.290001</td>\n",
       "      <td>3812300</td>\n",
       "      <td>0</td>\n",
       "      <td>1</td>\n",
       "    </tr>\n",
       "  </tbody>\n",
       "</table>\n",
       "<p>308 rows × 10 columns</p>\n",
       "</div>"
      ],
      "text/plain": [
       "     index       Date        Open        High         Low       Close  \\\n",
       "0        0 2022-01-03  134.070007  136.289993  133.630005  136.039993   \n",
       "1        1 2022-01-04  136.100006  139.949997  135.899994  138.020004   \n",
       "2        2 2022-01-05  138.309998  142.199997  137.880005  138.220001   \n",
       "3        3 2022-01-06  138.199997  138.410004  132.509995  135.339996   \n",
       "4        4 2022-01-07  134.899994  135.660004  133.509995  134.830002   \n",
       "..     ...        ...         ...         ...         ...         ...   \n",
       "303    303 2023-03-20  124.309998  126.160004  124.190002  125.940002   \n",
       "304    304 2023-03-21  126.900002  127.150002  125.660004  126.570000   \n",
       "305    305 2023-03-22  127.000000  127.220001  124.010002  124.050003   \n",
       "306    306 2023-03-23  123.809998  124.930000  122.599998  123.370003   \n",
       "307    307 2023-03-24  123.360001  125.400002  122.879997  125.290001   \n",
       "\n",
       "      Adj Close   Volume  DOWN  UP  \n",
       "0    128.039200  4605900     0   1  \n",
       "1    129.902771  7300000     0   1  \n",
       "2    130.091003  8956900     1   0  \n",
       "3    127.380386  9908100     1   0  \n",
       "4    126.900383  5238100     1   0  \n",
       "..          ...      ...   ...  ..  \n",
       "303  125.940002  4588300     0   1  \n",
       "304  126.570000  3856300     1   0  \n",
       "305  124.050003  3549000     1   0  \n",
       "306  123.370003  4651900     1   0  \n",
       "307  125.290001  3812300     0   1  \n",
       "\n",
       "[308 rows x 10 columns]"
      ]
     },
     "execution_count": 45,
     "metadata": {},
     "output_type": "execute_result"
    }
   ],
   "source": [
    "df"
   ]
  },
  {
   "cell_type": "code",
   "execution_count": 46,
   "metadata": {},
   "outputs": [
    {
     "data": {
      "text/html": [
       "<div>\n",
       "<style scoped>\n",
       "    .dataframe tbody tr th:only-of-type {\n",
       "        vertical-align: middle;\n",
       "    }\n",
       "\n",
       "    .dataframe tbody tr th {\n",
       "        vertical-align: top;\n",
       "    }\n",
       "\n",
       "    .dataframe thead th {\n",
       "        text-align: right;\n",
       "    }\n",
       "</style>\n",
       "<table border=\"1\" class=\"dataframe\">\n",
       "  <thead>\n",
       "    <tr style=\"text-align: right;\">\n",
       "      <th></th>\n",
       "      <th>index</th>\n",
       "      <th>Open</th>\n",
       "      <th>High</th>\n",
       "      <th>Low</th>\n",
       "      <th>Close</th>\n",
       "      <th>Adj Close</th>\n",
       "      <th>Volume</th>\n",
       "      <th>DOWN</th>\n",
       "      <th>UP</th>\n",
       "    </tr>\n",
       "  </thead>\n",
       "  <tbody>\n",
       "    <tr>\n",
       "      <th>count</th>\n",
       "      <td>308.000000</td>\n",
       "      <td>308.000000</td>\n",
       "      <td>308.000000</td>\n",
       "      <td>308.000000</td>\n",
       "      <td>308.000000</td>\n",
       "      <td>308.000000</td>\n",
       "      <td>3.080000e+02</td>\n",
       "      <td>308.000000</td>\n",
       "      <td>308.000000</td>\n",
       "    </tr>\n",
       "    <tr>\n",
       "      <th>mean</th>\n",
       "      <td>153.500000</td>\n",
       "      <td>133.677532</td>\n",
       "      <td>134.949221</td>\n",
       "      <td>132.383864</td>\n",
       "      <td>133.729968</td>\n",
       "      <td>129.847027</td>\n",
       "      <td>5.051809e+06</td>\n",
       "      <td>0.470779</td>\n",
       "      <td>0.529221</td>\n",
       "    </tr>\n",
       "    <tr>\n",
       "      <th>std</th>\n",
       "      <td>89.056162</td>\n",
       "      <td>7.115453</td>\n",
       "      <td>7.149197</td>\n",
       "      <td>7.165085</td>\n",
       "      <td>7.193305</td>\n",
       "      <td>7.806424</td>\n",
       "      <td>3.278406e+06</td>\n",
       "      <td>0.499958</td>\n",
       "      <td>0.499958</td>\n",
       "    </tr>\n",
       "    <tr>\n",
       "      <th>min</th>\n",
       "      <td>0.000000</td>\n",
       "      <td>116.099998</td>\n",
       "      <td>118.809998</td>\n",
       "      <td>115.550003</td>\n",
       "      <td>117.570000</td>\n",
       "      <td>114.774948</td>\n",
       "      <td>2.075200e+06</td>\n",
       "      <td>0.000000</td>\n",
       "      <td>0.000000</td>\n",
       "    </tr>\n",
       "    <tr>\n",
       "      <th>25%</th>\n",
       "      <td>76.750000</td>\n",
       "      <td>128.397495</td>\n",
       "      <td>129.315006</td>\n",
       "      <td>127.264997</td>\n",
       "      <td>128.412498</td>\n",
       "      <td>124.076588</td>\n",
       "      <td>3.523125e+06</td>\n",
       "      <td>0.000000</td>\n",
       "      <td>0.000000</td>\n",
       "    </tr>\n",
       "    <tr>\n",
       "      <th>50%</th>\n",
       "      <td>153.500000</td>\n",
       "      <td>133.769997</td>\n",
       "      <td>135.165001</td>\n",
       "      <td>132.270004</td>\n",
       "      <td>133.889999</td>\n",
       "      <td>129.126282</td>\n",
       "      <td>4.303200e+06</td>\n",
       "      <td>0.000000</td>\n",
       "      <td>1.000000</td>\n",
       "    </tr>\n",
       "    <tr>\n",
       "      <th>75%</th>\n",
       "      <td>230.250000</td>\n",
       "      <td>138.234997</td>\n",
       "      <td>139.889996</td>\n",
       "      <td>136.987503</td>\n",
       "      <td>138.387497</td>\n",
       "      <td>135.006763</td>\n",
       "      <td>5.402350e+06</td>\n",
       "      <td>1.000000</td>\n",
       "      <td>1.000000</td>\n",
       "    </tr>\n",
       "    <tr>\n",
       "      <th>max</th>\n",
       "      <td>307.000000</td>\n",
       "      <td>150.470001</td>\n",
       "      <td>153.210007</td>\n",
       "      <td>149.949997</td>\n",
       "      <td>150.570007</td>\n",
       "      <td>148.742966</td>\n",
       "      <td>3.739980e+07</td>\n",
       "      <td>1.000000</td>\n",
       "      <td>1.000000</td>\n",
       "    </tr>\n",
       "  </tbody>\n",
       "</table>\n",
       "</div>"
      ],
      "text/plain": [
       "            index        Open        High         Low       Close   Adj Close  \\\n",
       "count  308.000000  308.000000  308.000000  308.000000  308.000000  308.000000   \n",
       "mean   153.500000  133.677532  134.949221  132.383864  133.729968  129.847027   \n",
       "std     89.056162    7.115453    7.149197    7.165085    7.193305    7.806424   \n",
       "min      0.000000  116.099998  118.809998  115.550003  117.570000  114.774948   \n",
       "25%     76.750000  128.397495  129.315006  127.264997  128.412498  124.076588   \n",
       "50%    153.500000  133.769997  135.165001  132.270004  133.889999  129.126282   \n",
       "75%    230.250000  138.234997  139.889996  136.987503  138.387497  135.006763   \n",
       "max    307.000000  150.470001  153.210007  149.949997  150.570007  148.742966   \n",
       "\n",
       "             Volume        DOWN          UP  \n",
       "count  3.080000e+02  308.000000  308.000000  \n",
       "mean   5.051809e+06    0.470779    0.529221  \n",
       "std    3.278406e+06    0.499958    0.499958  \n",
       "min    2.075200e+06    0.000000    0.000000  \n",
       "25%    3.523125e+06    0.000000    0.000000  \n",
       "50%    4.303200e+06    0.000000    1.000000  \n",
       "75%    5.402350e+06    1.000000    1.000000  \n",
       "max    3.739980e+07    1.000000    1.000000  "
      ]
     },
     "execution_count": 46,
     "metadata": {},
     "output_type": "execute_result"
    }
   ],
   "source": [
    "stats = df.describe()\n",
    "stats"
   ]
  },
  {
   "cell_type": "markdown",
   "metadata": {},
   "source": [
    "<h4>Calculate the percentage of days that the stock has closed higher than its open</h4>"
   ]
  },
  {
   "cell_type": "code",
   "execution_count": 47,
   "metadata": {},
   "outputs": [
    {
     "data": {
      "text/plain": [
       "308"
      ]
     },
     "execution_count": 47,
     "metadata": {},
     "output_type": "execute_result"
    }
   ],
   "source": [
    "df['UP'].count()"
   ]
  },
  {
   "cell_type": "code",
   "execution_count": 48,
   "metadata": {},
   "outputs": [
    {
     "data": {
      "text/plain": [
       "0.5292207792207793"
      ]
     },
     "execution_count": 48,
     "metadata": {},
     "output_type": "execute_result"
    }
   ],
   "source": [
    "df['UP'].sum()/df['UP'].count()"
   ]
  },
  {
   "cell_type": "code",
   "execution_count": 49,
   "metadata": {},
   "outputs": [
    {
     "data": {
      "text/plain": [
       "0.5292207792207793"
      ]
     },
     "execution_count": 49,
     "metadata": {},
     "output_type": "execute_result"
    }
   ],
   "source": [
    "df['UP'].mean()"
   ]
  },
  {
   "cell_type": "code",
   "execution_count": 50,
   "metadata": {},
   "outputs": [
    {
     "data": {
      "text/plain": [
       "Index(['index', 'Date', 'Open', 'High', 'Low', 'Close', 'Adj Close', 'Volume',\n",
       "       'DOWN', 'UP'],\n",
       "      dtype='object')"
      ]
     },
     "execution_count": 50,
     "metadata": {},
     "output_type": "execute_result"
    }
   ],
   "source": [
    "df.columns"
   ]
  },
  {
   "cell_type": "markdown",
   "metadata": {},
   "source": [
    "<h4>Calculate percent changes</h4>\n",
    "<li>The function pct_change computes a percent change between successive rows (times in  timeseries data)\n",
    "<li>Defaults to a single time delta\n",
    "<li>With an argument, the time delta can be changed"
   ]
  },
  {
   "cell_type": "code",
   "execution_count": 51,
   "metadata": {},
   "outputs": [
    {
     "data": {
      "text/plain": [
       "0      136.039993\n",
       "1      138.020004\n",
       "2      138.220001\n",
       "3      135.339996\n",
       "4      134.830002\n",
       "          ...    \n",
       "303    125.940002\n",
       "304    126.570000\n",
       "305    124.050003\n",
       "306    123.370003\n",
       "307    125.290001\n",
       "Name: Close, Length: 308, dtype: float64"
      ]
     },
     "execution_count": 51,
     "metadata": {},
     "output_type": "execute_result"
    }
   ],
   "source": [
    "df['Close']"
   ]
  },
  {
   "cell_type": "code",
   "execution_count": 52,
   "metadata": {},
   "outputs": [
    {
     "data": {
      "text/plain": [
       "0             NaN\n",
       "1      136.039993\n",
       "2      138.020004\n",
       "3      138.220001\n",
       "4      135.339996\n",
       "          ...    \n",
       "303    123.690002\n",
       "304    125.940002\n",
       "305    126.570000\n",
       "306    124.050003\n",
       "307    123.370003\n",
       "Name: Close, Length: 308, dtype: float64"
      ]
     },
     "execution_count": 52,
     "metadata": {},
     "output_type": "execute_result"
    }
   ],
   "source": [
    "df.Close.shift(periods=1)"
   ]
  },
  {
   "cell_type": "code",
   "execution_count": 53,
   "metadata": {},
   "outputs": [
    {
     "data": {
      "text/plain": [
       "0           NaN\n",
       "1      0.014555\n",
       "2      0.001449\n",
       "3     -0.020836\n",
       "4     -0.003768\n",
       "         ...   \n",
       "303    0.018191\n",
       "304    0.005002\n",
       "305   -0.019910\n",
       "306   -0.005482\n",
       "307    0.015563\n",
       "Name: Close, Length: 308, dtype: float64"
      ]
     },
     "execution_count": 53,
     "metadata": {},
     "output_type": "execute_result"
    }
   ],
   "source": [
    "df['Close'].pct_change() #One timeperiod percent change"
   ]
  },
  {
   "cell_type": "code",
   "execution_count": 55,
   "metadata": {},
   "outputs": [
    {
     "data": {
      "text/plain": [
       "0           NaN\n",
       "1           NaN\n",
       "2           NaN\n",
       "3           NaN\n",
       "4           NaN\n",
       "         ...   \n",
       "303   -0.017552\n",
       "304   -0.018304\n",
       "305   -0.043119\n",
       "306   -0.052385\n",
       "307   -0.023080\n",
       "Name: Close, Length: 308, dtype: float64"
      ]
     },
     "execution_count": 55,
     "metadata": {},
     "output_type": "execute_result"
    }
   ],
   "source": [
    "n=13\n",
    "df['Close'].pct_change(n) #n timeperiods percent change"
   ]
  },
  {
   "cell_type": "code",
   "execution_count": 58,
   "metadata": {},
   "outputs": [],
   "source": [
    "# Another way to calculate changes is using shift of a column:\n",
    "df['Low_prev'] = df.Low.shift(1)\n",
    "df['Low_change'] = (df.Low - df.Low_prev)/df.Low_prev\n"
   ]
  },
  {
   "cell_type": "code",
   "execution_count": 59,
   "metadata": {},
   "outputs": [
    {
     "data": {
      "text/html": [
       "<div>\n",
       "<style scoped>\n",
       "    .dataframe tbody tr th:only-of-type {\n",
       "        vertical-align: middle;\n",
       "    }\n",
       "\n",
       "    .dataframe tbody tr th {\n",
       "        vertical-align: top;\n",
       "    }\n",
       "\n",
       "    .dataframe thead th {\n",
       "        text-align: right;\n",
       "    }\n",
       "</style>\n",
       "<table border=\"1\" class=\"dataframe\">\n",
       "  <thead>\n",
       "    <tr style=\"text-align: right;\">\n",
       "      <th></th>\n",
       "      <th>index</th>\n",
       "      <th>Date</th>\n",
       "      <th>Open</th>\n",
       "      <th>High</th>\n",
       "      <th>Low</th>\n",
       "      <th>Close</th>\n",
       "      <th>Adj Close</th>\n",
       "      <th>Volume</th>\n",
       "      <th>DOWN</th>\n",
       "      <th>UP</th>\n",
       "      <th>Low_prev</th>\n",
       "      <th>Low_change</th>\n",
       "    </tr>\n",
       "  </thead>\n",
       "  <tbody>\n",
       "    <tr>\n",
       "      <th>0</th>\n",
       "      <td>0</td>\n",
       "      <td>2022-01-03</td>\n",
       "      <td>134.070007</td>\n",
       "      <td>136.289993</td>\n",
       "      <td>133.630005</td>\n",
       "      <td>136.039993</td>\n",
       "      <td>128.039200</td>\n",
       "      <td>4605900</td>\n",
       "      <td>0</td>\n",
       "      <td>1</td>\n",
       "      <td>NaN</td>\n",
       "      <td>NaN</td>\n",
       "    </tr>\n",
       "    <tr>\n",
       "      <th>1</th>\n",
       "      <td>1</td>\n",
       "      <td>2022-01-04</td>\n",
       "      <td>136.100006</td>\n",
       "      <td>139.949997</td>\n",
       "      <td>135.899994</td>\n",
       "      <td>138.020004</td>\n",
       "      <td>129.902771</td>\n",
       "      <td>7300000</td>\n",
       "      <td>0</td>\n",
       "      <td>1</td>\n",
       "      <td>133.630005</td>\n",
       "      <td>0.016987</td>\n",
       "    </tr>\n",
       "    <tr>\n",
       "      <th>2</th>\n",
       "      <td>2</td>\n",
       "      <td>2022-01-05</td>\n",
       "      <td>138.309998</td>\n",
       "      <td>142.199997</td>\n",
       "      <td>137.880005</td>\n",
       "      <td>138.220001</td>\n",
       "      <td>130.091003</td>\n",
       "      <td>8956900</td>\n",
       "      <td>1</td>\n",
       "      <td>0</td>\n",
       "      <td>135.899994</td>\n",
       "      <td>0.014570</td>\n",
       "    </tr>\n",
       "    <tr>\n",
       "      <th>3</th>\n",
       "      <td>3</td>\n",
       "      <td>2022-01-06</td>\n",
       "      <td>138.199997</td>\n",
       "      <td>138.410004</td>\n",
       "      <td>132.509995</td>\n",
       "      <td>135.339996</td>\n",
       "      <td>127.380386</td>\n",
       "      <td>9908100</td>\n",
       "      <td>1</td>\n",
       "      <td>0</td>\n",
       "      <td>137.880005</td>\n",
       "      <td>-0.038947</td>\n",
       "    </tr>\n",
       "    <tr>\n",
       "      <th>4</th>\n",
       "      <td>4</td>\n",
       "      <td>2022-01-07</td>\n",
       "      <td>134.899994</td>\n",
       "      <td>135.660004</td>\n",
       "      <td>133.509995</td>\n",
       "      <td>134.830002</td>\n",
       "      <td>126.900383</td>\n",
       "      <td>5238100</td>\n",
       "      <td>1</td>\n",
       "      <td>0</td>\n",
       "      <td>132.509995</td>\n",
       "      <td>0.007547</td>\n",
       "    </tr>\n",
       "  </tbody>\n",
       "</table>\n",
       "</div>"
      ],
      "text/plain": [
       "   index       Date        Open        High         Low       Close  \\\n",
       "0      0 2022-01-03  134.070007  136.289993  133.630005  136.039993   \n",
       "1      1 2022-01-04  136.100006  139.949997  135.899994  138.020004   \n",
       "2      2 2022-01-05  138.309998  142.199997  137.880005  138.220001   \n",
       "3      3 2022-01-06  138.199997  138.410004  132.509995  135.339996   \n",
       "4      4 2022-01-07  134.899994  135.660004  133.509995  134.830002   \n",
       "\n",
       "    Adj Close   Volume  DOWN  UP    Low_prev  Low_change  \n",
       "0  128.039200  4605900     0   1         NaN         NaN  \n",
       "1  129.902771  7300000     0   1  133.630005    0.016987  \n",
       "2  130.091003  8956900     1   0  135.899994    0.014570  \n",
       "3  127.380386  9908100     1   0  137.880005   -0.038947  \n",
       "4  126.900383  5238100     1   0  132.509995    0.007547  "
      ]
     },
     "execution_count": 59,
     "metadata": {},
     "output_type": "execute_result"
    }
   ],
   "source": [
    "df.head()"
   ]
  },
  {
   "cell_type": "markdown",
   "metadata": {},
   "source": [
    "<h3>NaN support</h3>\n",
    "Pandas functions can ignore NaNs"
   ]
  },
  {
   "cell_type": "code",
   "execution_count": 60,
   "metadata": {},
   "outputs": [
    {
     "data": {
      "text/plain": [
       "-0.0017791740787950641"
      ]
     },
     "execution_count": 60,
     "metadata": {},
     "output_type": "execute_result"
    }
   ],
   "source": [
    "n=13\n",
    "df['Close'].pct_change(n).mean()"
   ]
  },
  {
   "cell_type": "markdown",
   "metadata": {},
   "source": [
    "<h3>Rolling windows</h3>\n",
    "<li>\"rolling\" function extracts rolling windows\n",
    "<li>For example, the 21 period rolling window of the 13 period percent change "
   ]
  },
  {
   "cell_type": "code",
   "execution_count": 295,
   "metadata": {},
   "outputs": [
    {
     "data": {
      "text/plain": [
       "Rolling [window=21,center=False,axis=0,method=single]"
      ]
     },
     "execution_count": 295,
     "metadata": {},
     "output_type": "execute_result"
    }
   ],
   "source": [
    "df.Close.rolling(21)"
   ]
  },
  {
   "cell_type": "markdown",
   "metadata": {},
   "source": [
    "<h4>Calculate something on the rolling windows</h4>"
   ]
  },
  {
   "cell_type": "markdown",
   "metadata": {},
   "source": [
    "<h4>Example: mean (the 21 day moving average of the 13 day percent change)"
   ]
  },
  {
   "cell_type": "code",
   "execution_count": 61,
   "metadata": {},
   "outputs": [
    {
     "data": {
      "text/plain": [
       "0     136.039993\n",
       "1     138.020004\n",
       "2     138.220001\n",
       "3     135.339996\n",
       "4     134.830002\n",
       "5     135.029999\n",
       "6     132.869995\n",
       "7     133.589996\n",
       "8     134.759995\n",
       "9     134.210007\n",
       "10    132.940002\n",
       "11    131.580002\n",
       "12    130.820007\n",
       "13    129.350006\n",
       "14    128.820007\n",
       "15    136.100006\n",
       "16    134.259995\n",
       "17    132.520004\n",
       "18    134.500000\n",
       "19    133.570007\n",
       "20    135.529999\n",
       "21    137.250000\n",
       "22    137.779999\n",
       "23    137.149994\n",
       "24    137.240005\n",
       "Name: Close, dtype: float64"
      ]
     },
     "execution_count": 61,
     "metadata": {},
     "output_type": "execute_result"
    }
   ],
   "source": [
    "df['Close'][0:25]"
   ]
  },
  {
   "cell_type": "code",
   "execution_count": 62,
   "metadata": {},
   "outputs": [
    {
     "data": {
      "text/plain": [
       "0            NaN\n",
       "1            NaN\n",
       "2            NaN\n",
       "3            NaN\n",
       "4            NaN\n",
       "5            NaN\n",
       "6            NaN\n",
       "7            NaN\n",
       "8            NaN\n",
       "9            NaN\n",
       "10           NaN\n",
       "11           NaN\n",
       "12           NaN\n",
       "13           NaN\n",
       "14           NaN\n",
       "15           NaN\n",
       "16           NaN\n",
       "17           NaN\n",
       "18           NaN\n",
       "19           NaN\n",
       "20    133.947620\n",
       "21    134.005240\n",
       "22    133.993811\n",
       "23    133.942858\n",
       "24    134.033335\n",
       "Name: Close, dtype: float64"
      ]
     },
     "execution_count": 62,
     "metadata": {},
     "output_type": "execute_result"
    }
   ],
   "source": [
    "n=1\n",
    "df['Close'].rolling(21).mean()[0:25]"
   ]
  },
  {
   "cell_type": "markdown",
   "metadata": {},
   "source": [
    "<h4>Calculate several moving averages and graph them</h4>"
   ]
  },
  {
   "cell_type": "code",
   "execution_count": 63,
   "metadata": {},
   "outputs": [],
   "source": [
    "ma_8 = df['Close'].pct_change(n).rolling(window=8).mean()\n",
    "ma_13= df['Close'].pct_change(n).rolling(window=13).mean()\n",
    "ma_21= df['Close'].pct_change(n).rolling(window=21).mean()\n",
    "ma_30= df['Close'].pct_change(n).rolling(window=30).mean()\n",
    "ma_60= df['Close'].pct_change(n).rolling(window=60).mean()"
   ]
  },
  {
   "cell_type": "code",
   "execution_count": 64,
   "metadata": {},
   "outputs": [
    {
     "data": {
      "text/plain": [
       "0          NaN\n",
       "1          NaN\n",
       "2          NaN\n",
       "3          NaN\n",
       "4          NaN\n",
       "5          NaN\n",
       "6          NaN\n",
       "7          NaN\n",
       "8    -0.001117\n",
       "9    -0.003447\n",
       "10   -0.004811\n",
       "11   -0.003485\n",
       "12   -0.003736\n",
       "13   -0.005326\n",
       "14   -0.003838\n",
       "Name: Close, dtype: float64"
      ]
     },
     "execution_count": 64,
     "metadata": {},
     "output_type": "execute_result"
    }
   ],
   "source": [
    "ma_8[0:15]"
   ]
  },
  {
   "cell_type": "code",
   "execution_count": 65,
   "metadata": {},
   "outputs": [
    {
     "data": {
      "text/plain": [
       "pandas.core.series.Series"
      ]
     },
     "execution_count": 65,
     "metadata": {},
     "output_type": "execute_result"
    }
   ],
   "source": [
    "type(ma_30)"
   ]
  },
  {
   "cell_type": "code",
   "execution_count": 66,
   "metadata": {},
   "outputs": [
    {
     "data": {
      "text/plain": [
       "0          NaN\n",
       "1          NaN\n",
       "2          NaN\n",
       "3          NaN\n",
       "4          NaN\n",
       "5          NaN\n",
       "6          NaN\n",
       "7          NaN\n",
       "8          NaN\n",
       "9          NaN\n",
       "10         NaN\n",
       "11         NaN\n",
       "12         NaN\n",
       "13   -0.003825\n",
       "14   -0.005260\n",
       "15   -0.001024\n",
       "16   -0.000461\n",
       "17   -0.001168\n",
       "18   -0.000133\n",
       "19    0.000566\n",
       "Name: Close, dtype: float64"
      ]
     },
     "execution_count": 66,
     "metadata": {},
     "output_type": "execute_result"
    }
   ],
   "source": [
    "ma_13[0:20]"
   ]
  },
  {
   "cell_type": "code",
   "execution_count": 69,
   "metadata": {},
   "outputs": [
    {
     "data": {
      "text/plain": [
       "<AxesSubplot:>"
      ]
     },
     "execution_count": 69,
     "metadata": {},
     "output_type": "execute_result"
    },
    {
     "data": {
      "image/png": "[encoded data removed]",
      "text/plain": [
       "<Figure size 432x288 with 1 Axes>"
      ]
     },
     "metadata": {
      "needs_background": "light"
     },
     "output_type": "display_data"
    }
   ],
   "source": [
    "ma_8.plot(color='b')\n",
    "ma_30.plot(color='r')\n",
    "ma_60.plot(color='g')"
   ]
  },
  {
   "cell_type": "markdown",
   "metadata": {},
   "source": [
    "<h2>Linear regression with pandas</h2>\n",
    "<h4>Example: TAN is the ticker for a solar ETF  fund. FSLR, SPWR are tickers of companies that build or lease solar panels. Each has a different business model. We'll use pandas to study the risk reward tradeoff between the 3 investments and also see how correlated they are</h4>"
   ]
  },
  {
   "cell_type": "code",
   "execution_count": 91,
   "metadata": {},
   "outputs": [
    {
     "name": "stdout",
     "output_type": "stream",
     "text": [
      "[*********************100%***********************]  3 of 3 completed\n"
     ]
    },
    {
     "data": {
      "text/html": [
       "<div>\n",
       "<style scoped>\n",
       "    .dataframe tbody tr th:only-of-type {\n",
       "        vertical-align: middle;\n",
       "    }\n",
       "\n",
       "    .dataframe tbody tr th {\n",
       "        vertical-align: top;\n",
       "    }\n",
       "\n",
       "    .dataframe thead th {\n",
       "        text-align: right;\n",
       "    }\n",
       "</style>\n",
       "<table border=\"1\" class=\"dataframe\">\n",
       "  <thead>\n",
       "    <tr style=\"text-align: right;\">\n",
       "      <th></th>\n",
       "      <th>FSLR</th>\n",
       "      <th>SPWR</th>\n",
       "      <th>TAN</th>\n",
       "    </tr>\n",
       "    <tr>\n",
       "      <th>Date</th>\n",
       "      <th></th>\n",
       "      <th></th>\n",
       "      <th></th>\n",
       "    </tr>\n",
       "  </thead>\n",
       "  <tbody>\n",
       "    <tr>\n",
       "      <th>2022-01-03</th>\n",
       "      <td>88.580002</td>\n",
       "      <td>21.549999</td>\n",
       "      <td>78.489998</td>\n",
       "    </tr>\n",
       "    <tr>\n",
       "      <th>2022-01-04</th>\n",
       "      <td>87.279999</td>\n",
       "      <td>21.530001</td>\n",
       "      <td>76.320000</td>\n",
       "    </tr>\n",
       "    <tr>\n",
       "      <th>2022-01-05</th>\n",
       "      <td>83.510002</td>\n",
       "      <td>19.780001</td>\n",
       "      <td>71.209999</td>\n",
       "    </tr>\n",
       "    <tr>\n",
       "      <th>2022-01-06</th>\n",
       "      <td>83.970001</td>\n",
       "      <td>19.150000</td>\n",
       "      <td>70.629997</td>\n",
       "    </tr>\n",
       "    <tr>\n",
       "      <th>2022-01-07</th>\n",
       "      <td>84.680000</td>\n",
       "      <td>19.379999</td>\n",
       "      <td>70.750000</td>\n",
       "    </tr>\n",
       "    <tr>\n",
       "      <th>...</th>\n",
       "      <td>...</td>\n",
       "      <td>...</td>\n",
       "      <td>...</td>\n",
       "    </tr>\n",
       "    <tr>\n",
       "      <th>2023-03-20</th>\n",
       "      <td>204.679993</td>\n",
       "      <td>12.690000</td>\n",
       "      <td>70.510002</td>\n",
       "    </tr>\n",
       "    <tr>\n",
       "      <th>2023-03-21</th>\n",
       "      <td>209.250000</td>\n",
       "      <td>13.690000</td>\n",
       "      <td>74.080002</td>\n",
       "    </tr>\n",
       "    <tr>\n",
       "      <th>2023-03-22</th>\n",
       "      <td>205.009995</td>\n",
       "      <td>12.770000</td>\n",
       "      <td>72.489998</td>\n",
       "    </tr>\n",
       "    <tr>\n",
       "      <th>2023-03-23</th>\n",
       "      <td>210.190002</td>\n",
       "      <td>12.600000</td>\n",
       "      <td>73.580002</td>\n",
       "    </tr>\n",
       "    <tr>\n",
       "      <th>2023-03-24</th>\n",
       "      <td>211.100006</td>\n",
       "      <td>12.410000</td>\n",
       "      <td>72.980003</td>\n",
       "    </tr>\n",
       "  </tbody>\n",
       "</table>\n",
       "<p>308 rows × 3 columns</p>\n",
       "</div>"
      ],
      "text/plain": [
       "                  FSLR       SPWR        TAN\n",
       "Date                                        \n",
       "2022-01-03   88.580002  21.549999  78.489998\n",
       "2022-01-04   87.279999  21.530001  76.320000\n",
       "2022-01-05   83.510002  19.780001  71.209999\n",
       "2022-01-06   83.970001  19.150000  70.629997\n",
       "2022-01-07   84.680000  19.379999  70.750000\n",
       "...                ...        ...        ...\n",
       "2023-03-20  204.679993  12.690000  70.510002\n",
       "2023-03-21  209.250000  13.690000  74.080002\n",
       "2023-03-22  205.009995  12.770000  72.489998\n",
       "2023-03-23  210.190002  12.600000  73.580002\n",
       "2023-03-24  211.100006  12.410000  72.980003\n",
       "\n",
       "[308 rows x 3 columns]"
      ]
     },
     "execution_count": 91,
     "metadata": {},
     "output_type": "execute_result"
    }
   ],
   "source": [
    "start_time=dt.datetime(2022, 1, 1)\n",
    "end_time=dt.datetime.today()\n",
    "\n",
    "# yfin.pdr_override()\n",
    "\n",
    "solar_df = data.get_data_yahoo(['FSLR', 'TAN','SPWR'], start_time, end_time)['Close']\n",
    "\n",
    "# solar_df = data.DataReader(['FSLR', 'TAN','SPWR'],'yahoo', start=start,end=end)['Close']\n",
    "solar_df"
   ]
  },
  {
   "cell_type": "code",
   "execution_count": 92,
   "metadata": {},
   "outputs": [],
   "source": [
    "#digitalProd_df\n",
    "solar_df['FSLR_change'] = solar_df['FSLR'].pct_change()\n"
   ]
  },
  {
   "cell_type": "code",
   "execution_count": 93,
   "metadata": {},
   "outputs": [
    {
     "data": {
      "text/html": [
       "<div>\n",
       "<style scoped>\n",
       "    .dataframe tbody tr th:only-of-type {\n",
       "        vertical-align: middle;\n",
       "    }\n",
       "\n",
       "    .dataframe tbody tr th {\n",
       "        vertical-align: top;\n",
       "    }\n",
       "\n",
       "    .dataframe thead th {\n",
       "        text-align: right;\n",
       "    }\n",
       "</style>\n",
       "<table border=\"1\" class=\"dataframe\">\n",
       "  <thead>\n",
       "    <tr style=\"text-align: right;\">\n",
       "      <th></th>\n",
       "      <th>FSLR</th>\n",
       "      <th>SPWR</th>\n",
       "      <th>TAN</th>\n",
       "      <th>FSLR_change</th>\n",
       "    </tr>\n",
       "    <tr>\n",
       "      <th>Date</th>\n",
       "      <th></th>\n",
       "      <th></th>\n",
       "      <th></th>\n",
       "      <th></th>\n",
       "    </tr>\n",
       "  </thead>\n",
       "  <tbody>\n",
       "    <tr>\n",
       "      <th>2022-01-03</th>\n",
       "      <td>88.580002</td>\n",
       "      <td>21.549999</td>\n",
       "      <td>78.489998</td>\n",
       "      <td>NaN</td>\n",
       "    </tr>\n",
       "    <tr>\n",
       "      <th>2022-01-04</th>\n",
       "      <td>87.279999</td>\n",
       "      <td>21.530001</td>\n",
       "      <td>76.320000</td>\n",
       "      <td>-0.014676</td>\n",
       "    </tr>\n",
       "    <tr>\n",
       "      <th>2022-01-05</th>\n",
       "      <td>83.510002</td>\n",
       "      <td>19.780001</td>\n",
       "      <td>71.209999</td>\n",
       "      <td>-0.043194</td>\n",
       "    </tr>\n",
       "    <tr>\n",
       "      <th>2022-01-06</th>\n",
       "      <td>83.970001</td>\n",
       "      <td>19.150000</td>\n",
       "      <td>70.629997</td>\n",
       "      <td>0.005508</td>\n",
       "    </tr>\n",
       "    <tr>\n",
       "      <th>2022-01-07</th>\n",
       "      <td>84.680000</td>\n",
       "      <td>19.379999</td>\n",
       "      <td>70.750000</td>\n",
       "      <td>0.008455</td>\n",
       "    </tr>\n",
       "    <tr>\n",
       "      <th>...</th>\n",
       "      <td>...</td>\n",
       "      <td>...</td>\n",
       "      <td>...</td>\n",
       "      <td>...</td>\n",
       "    </tr>\n",
       "    <tr>\n",
       "      <th>2023-03-20</th>\n",
       "      <td>204.679993</td>\n",
       "      <td>12.690000</td>\n",
       "      <td>70.510002</td>\n",
       "      <td>0.025348</td>\n",
       "    </tr>\n",
       "    <tr>\n",
       "      <th>2023-03-21</th>\n",
       "      <td>209.250000</td>\n",
       "      <td>13.690000</td>\n",
       "      <td>74.080002</td>\n",
       "      <td>0.022328</td>\n",
       "    </tr>\n",
       "    <tr>\n",
       "      <th>2023-03-22</th>\n",
       "      <td>205.009995</td>\n",
       "      <td>12.770000</td>\n",
       "      <td>72.489998</td>\n",
       "      <td>-0.020263</td>\n",
       "    </tr>\n",
       "    <tr>\n",
       "      <th>2023-03-23</th>\n",
       "      <td>210.190002</td>\n",
       "      <td>12.600000</td>\n",
       "      <td>73.580002</td>\n",
       "      <td>0.025267</td>\n",
       "    </tr>\n",
       "    <tr>\n",
       "      <th>2023-03-24</th>\n",
       "      <td>211.100006</td>\n",
       "      <td>12.410000</td>\n",
       "      <td>72.980003</td>\n",
       "      <td>0.004329</td>\n",
       "    </tr>\n",
       "  </tbody>\n",
       "</table>\n",
       "<p>308 rows × 4 columns</p>\n",
       "</div>"
      ],
      "text/plain": [
       "                  FSLR       SPWR        TAN  FSLR_change\n",
       "Date                                                     \n",
       "2022-01-03   88.580002  21.549999  78.489998          NaN\n",
       "2022-01-04   87.279999  21.530001  76.320000    -0.014676\n",
       "2022-01-05   83.510002  19.780001  71.209999    -0.043194\n",
       "2022-01-06   83.970001  19.150000  70.629997     0.005508\n",
       "2022-01-07   84.680000  19.379999  70.750000     0.008455\n",
       "...                ...        ...        ...          ...\n",
       "2023-03-20  204.679993  12.690000  70.510002     0.025348\n",
       "2023-03-21  209.250000  13.690000  74.080002     0.022328\n",
       "2023-03-22  205.009995  12.770000  72.489998    -0.020263\n",
       "2023-03-23  210.190002  12.600000  73.580002     0.025267\n",
       "2023-03-24  211.100006  12.410000  72.980003     0.004329\n",
       "\n",
       "[308 rows x 4 columns]"
      ]
     },
     "execution_count": 93,
     "metadata": {},
     "output_type": "execute_result"
    }
   ],
   "source": [
    "solar_df"
   ]
  },
  {
   "cell_type": "markdown",
   "metadata": {},
   "source": [
    "<h4>Let's calculate returns (the 1 day percent change)</h4>"
   ]
  },
  {
   "cell_type": "code",
   "execution_count": 94,
   "metadata": {},
   "outputs": [
    {
     "data": {
      "text/html": [
       "<div>\n",
       "<style scoped>\n",
       "    .dataframe tbody tr th:only-of-type {\n",
       "        vertical-align: middle;\n",
       "    }\n",
       "\n",
       "    .dataframe tbody tr th {\n",
       "        vertical-align: top;\n",
       "    }\n",
       "\n",
       "    .dataframe thead th {\n",
       "        text-align: right;\n",
       "    }\n",
       "</style>\n",
       "<table border=\"1\" class=\"dataframe\">\n",
       "  <thead>\n",
       "    <tr style=\"text-align: right;\">\n",
       "      <th></th>\n",
       "      <th>FSLR</th>\n",
       "      <th>SPWR</th>\n",
       "      <th>TAN</th>\n",
       "      <th>FSLR_change</th>\n",
       "    </tr>\n",
       "    <tr>\n",
       "      <th>Date</th>\n",
       "      <th></th>\n",
       "      <th></th>\n",
       "      <th></th>\n",
       "      <th></th>\n",
       "    </tr>\n",
       "  </thead>\n",
       "  <tbody>\n",
       "    <tr>\n",
       "      <th>2022-01-03</th>\n",
       "      <td>NaN</td>\n",
       "      <td>NaN</td>\n",
       "      <td>NaN</td>\n",
       "      <td>NaN</td>\n",
       "    </tr>\n",
       "    <tr>\n",
       "      <th>2022-01-04</th>\n",
       "      <td>-0.014676</td>\n",
       "      <td>-0.000928</td>\n",
       "      <td>-0.027647</td>\n",
       "      <td>NaN</td>\n",
       "    </tr>\n",
       "    <tr>\n",
       "      <th>2022-01-05</th>\n",
       "      <td>-0.043194</td>\n",
       "      <td>-0.081282</td>\n",
       "      <td>-0.066955</td>\n",
       "      <td>1.943185</td>\n",
       "    </tr>\n",
       "    <tr>\n",
       "      <th>2022-01-06</th>\n",
       "      <td>0.005508</td>\n",
       "      <td>-0.031850</td>\n",
       "      <td>-0.008145</td>\n",
       "      <td>-1.127524</td>\n",
       "    </tr>\n",
       "    <tr>\n",
       "      <th>2022-01-07</th>\n",
       "      <td>0.008455</td>\n",
       "      <td>0.012010</td>\n",
       "      <td>0.001699</td>\n",
       "      <td>0.535024</td>\n",
       "    </tr>\n",
       "    <tr>\n",
       "      <th>...</th>\n",
       "      <td>...</td>\n",
       "      <td>...</td>\n",
       "      <td>...</td>\n",
       "      <td>...</td>\n",
       "    </tr>\n",
       "    <tr>\n",
       "      <th>2023-03-20</th>\n",
       "      <td>0.025348</td>\n",
       "      <td>0.025869</td>\n",
       "      <td>0.015848</td>\n",
       "      <td>-1.754454</td>\n",
       "    </tr>\n",
       "    <tr>\n",
       "      <th>2023-03-21</th>\n",
       "      <td>0.022328</td>\n",
       "      <td>0.078802</td>\n",
       "      <td>0.050631</td>\n",
       "      <td>-0.119164</td>\n",
       "    </tr>\n",
       "    <tr>\n",
       "      <th>2023-03-22</th>\n",
       "      <td>-0.020263</td>\n",
       "      <td>-0.067202</td>\n",
       "      <td>-0.021463</td>\n",
       "      <td>-1.907527</td>\n",
       "    </tr>\n",
       "    <tr>\n",
       "      <th>2023-03-23</th>\n",
       "      <td>0.025267</td>\n",
       "      <td>-0.013312</td>\n",
       "      <td>0.015037</td>\n",
       "      <td>-2.246966</td>\n",
       "    </tr>\n",
       "    <tr>\n",
       "      <th>2023-03-24</th>\n",
       "      <td>0.004329</td>\n",
       "      <td>-0.015079</td>\n",
       "      <td>-0.008154</td>\n",
       "      <td>-0.828653</td>\n",
       "    </tr>\n",
       "  </tbody>\n",
       "</table>\n",
       "<p>308 rows × 4 columns</p>\n",
       "</div>"
      ],
      "text/plain": [
       "                FSLR      SPWR       TAN  FSLR_change\n",
       "Date                                                 \n",
       "2022-01-03       NaN       NaN       NaN          NaN\n",
       "2022-01-04 -0.014676 -0.000928 -0.027647          NaN\n",
       "2022-01-05 -0.043194 -0.081282 -0.066955     1.943185\n",
       "2022-01-06  0.005508 -0.031850 -0.008145    -1.127524\n",
       "2022-01-07  0.008455  0.012010  0.001699     0.535024\n",
       "...              ...       ...       ...          ...\n",
       "2023-03-20  0.025348  0.025869  0.015848    -1.754454\n",
       "2023-03-21  0.022328  0.078802  0.050631    -0.119164\n",
       "2023-03-22 -0.020263 -0.067202 -0.021463    -1.907527\n",
       "2023-03-23  0.025267 -0.013312  0.015037    -2.246966\n",
       "2023-03-24  0.004329 -0.015079 -0.008154    -0.828653\n",
       "\n",
       "[308 rows x 4 columns]"
      ]
     },
     "execution_count": 94,
     "metadata": {},
     "output_type": "execute_result"
    }
   ],
   "source": [
    "# rets = digitalProd_df.pct_change()\n",
    "\n",
    "rets = solar_df.pct_change()\n",
    "rets"
   ]
  },
  {
   "cell_type": "markdown",
   "metadata": {},
   "source": [
    "<h4>Let's visualize the relationship between each stock and the ETF</h4>"
   ]
  },
  {
   "cell_type": "code",
   "execution_count": 95,
   "metadata": {},
   "outputs": [
    {
     "data": {
      "text/plain": [
       "<matplotlib.collections.PathCollection at 0x22a60522520>"
      ]
     },
     "execution_count": 95,
     "metadata": {},
     "output_type": "execute_result"
    },
    {
     "data": {
      "image/png": "[encoded data removed]",
      "text/plain": [
       "<Figure size 432x288 with 1 Axes>"
      ]
     },
     "metadata": {
      "needs_background": "light"
     },
     "output_type": "display_data"
    }
   ],
   "source": [
    "import matplotlib.pyplot as plt\n",
    "#plt.scatter(rets['AAPL'],rets['SMSN.L'])\n",
    "\n",
    "plt.scatter(rets.FSLR,rets.TAN)"
   ]
  },
  {
   "cell_type": "code",
   "execution_count": null,
   "metadata": {},
   "outputs": [],
   "source": [
    "#plt.scatter(rets.RGSE,rets.TAN)"
   ]
  },
  {
   "cell_type": "code",
   "execution_count": 96,
   "metadata": {},
   "outputs": [
    {
     "data": {
      "text/plain": [
       "<matplotlib.collections.PathCollection at 0x22a60199f40>"
      ]
     },
     "execution_count": 96,
     "metadata": {},
     "output_type": "execute_result"
    },
    {
     "data": {
      "image/png": "[encoded data removed]",
      "text/plain": [
       "<Figure size 432x288 with 1 Axes>"
      ]
     },
     "metadata": {
      "needs_background": "light"
     },
     "output_type": "display_data"
    }
   ],
   "source": [
    "plt.scatter(rets.SPWR,rets.TAN)"
   ]
  },
  {
   "cell_type": "markdown",
   "metadata": {},
   "source": [
    "<h4>The correlation matrix</h4>"
   ]
  },
  {
   "cell_type": "code",
   "execution_count": 97,
   "metadata": {},
   "outputs": [
    {
     "data": {
      "text/html": [
       "<div>\n",
       "<style scoped>\n",
       "    .dataframe tbody tr th:only-of-type {\n",
       "        vertical-align: middle;\n",
       "    }\n",
       "\n",
       "    .dataframe tbody tr th {\n",
       "        vertical-align: top;\n",
       "    }\n",
       "\n",
       "    .dataframe thead th {\n",
       "        text-align: right;\n",
       "    }\n",
       "</style>\n",
       "<table border=\"1\" class=\"dataframe\">\n",
       "  <thead>\n",
       "    <tr style=\"text-align: right;\">\n",
       "      <th></th>\n",
       "      <th>FSLR</th>\n",
       "      <th>SPWR</th>\n",
       "      <th>TAN</th>\n",
       "      <th>FSLR_change</th>\n",
       "    </tr>\n",
       "  </thead>\n",
       "  <tbody>\n",
       "    <tr>\n",
       "      <th>FSLR</th>\n",
       "      <td>1.000000</td>\n",
       "      <td>0.680707</td>\n",
       "      <td>0.767990</td>\n",
       "      <td>-0.056102</td>\n",
       "    </tr>\n",
       "    <tr>\n",
       "      <th>SPWR</th>\n",
       "      <td>0.680707</td>\n",
       "      <td>1.000000</td>\n",
       "      <td>0.869195</td>\n",
       "      <td>-0.068889</td>\n",
       "    </tr>\n",
       "    <tr>\n",
       "      <th>TAN</th>\n",
       "      <td>0.767990</td>\n",
       "      <td>0.869195</td>\n",
       "      <td>1.000000</td>\n",
       "      <td>-0.056738</td>\n",
       "    </tr>\n",
       "    <tr>\n",
       "      <th>FSLR_change</th>\n",
       "      <td>-0.056102</td>\n",
       "      <td>-0.068889</td>\n",
       "      <td>-0.056738</td>\n",
       "      <td>1.000000</td>\n",
       "    </tr>\n",
       "  </tbody>\n",
       "</table>\n",
       "</div>"
      ],
      "text/plain": [
       "                 FSLR      SPWR       TAN  FSLR_change\n",
       "FSLR         1.000000  0.680707  0.767990    -0.056102\n",
       "SPWR         0.680707  1.000000  0.869195    -0.068889\n",
       "TAN          0.767990  0.869195  1.000000    -0.056738\n",
       "FSLR_change -0.056102 -0.068889 -0.056738     1.000000"
      ]
     },
     "execution_count": 97,
     "metadata": {},
     "output_type": "execute_result"
    }
   ],
   "source": [
    "solar_corr = rets.corr()\n",
    "(solar_corr)"
   ]
  },
  {
   "cell_type": "markdown",
   "metadata": {},
   "source": [
    "<h3>Basic risk analysis</h3>\n",
    "<h4>We'll plot the mean and std or returns for each ticker to get a sense of the risk return profile</h4>"
   ]
  },
  {
   "cell_type": "code",
   "execution_count": 122,
   "metadata": {},
   "outputs": [
    {
     "name": "stdout",
     "output_type": "stream",
     "text": [
      "Symbols\n",
      "FSLR           0.000657\n",
      "TAN            0.000572\n",
      "SPWR           0.000214\n",
      "FSLR_change    0.478075\n",
      "dtype: float64\n",
      "Symbols\n",
      "FSLR            0.023064\n",
      "TAN             0.016852\n",
      "SPWR            0.033452\n",
      "FSLR_change    12.623191\n",
      "dtype: float64\n"
     ]
    }
   ],
   "source": [
    "print(rets.mean())\n",
    "print(rets.std())"
   ]
  },
  {
   "cell_type": "code",
   "execution_count": 98,
   "metadata": {
    "scrolled": true
   },
   "outputs": [
    {
     "data": {
      "image/png": "[encoded data removed]",
      "text/plain": [
       "<Figure size 432x288 with 1 Axes>"
      ]
     },
     "metadata": {
      "needs_background": "light"
     },
     "output_type": "display_data"
    }
   ],
   "source": [
    "# plt.scatter(rets[['FSLR','TAN','SPWR']].mean(), rets[['FSLR','TAN','SPWR']].std())\n",
    "plt.scatter(rets[['FSLR','TAN','SPWR']].mean(), rets[['FSLR','TAN','SPWR']].std())\n",
    "plt.xlabel('Expected returns')\n",
    "plt.ylabel('Standard deviations')\n",
    "plt.show()"
   ]
  },
  {
   "cell_type": "code",
   "execution_count": 99,
   "metadata": {},
   "outputs": [
    {
     "data": {
      "image/png": "[encoded data removed]",
      "text/plain": [
       "<Figure size 432x288 with 1 Axes>"
      ]
     },
     "metadata": {
      "needs_background": "light"
     },
     "output_type": "display_data"
    }
   ],
   "source": [
    "#plt.scatter(rets[['FSLR','TAN','SPWR']].mean(), rets[['FSLR','TAN','SPWR']].std())\n",
    "plt.scatter(rets[['FSLR','TAN','SPWR']].mean(), rets[['FSLR','TAN','SPWR']].std())\n",
    "plt.xlabel('Expected returns')\n",
    "plt.ylabel('Standard deviations')\n",
    "for label, x, y in zip(rets.columns, rets.mean(), rets.std()):\n",
    "    plt.annotate(  # adding annotation to the diagram\n",
    "        label, \n",
    "        xy = (x, y), xytext = (20, -20),\n",
    "        textcoords = 'offset points', ha = 'right', va = 'bottom',\n",
    "        bbox = dict(boxstyle = 'round,pad=0.5', fc = 'yellow', alpha = 0.5), # alpha - the intensity of the color\n",
    "        arrowprops = dict(arrowstyle = '->', connectionstyle = 'arc3,rad=2')\n",
    "    )\n",
    "#plt.xlim(0.0,0.0015)\n",
    "\n",
    "plt.show()\n"
   ]
  },
  {
   "cell_type": "code",
   "execution_count": 229,
   "metadata": {},
   "outputs": [
    {
     "data": {
      "text/plain": [
       "[('FSLR', 0.0006569761725659778, 0.023064446564513646),\n",
       " ('TAN', 0.0005716152286967802, 0.016851964121580597),\n",
       " ('SPWR', 0.0002139386655404213, 0.033451894136634866),\n",
       " ('FSLR_change', 0.478074766369697, 12.62319144682584)]"
      ]
     },
     "execution_count": 229,
     "metadata": {},
     "output_type": "execute_result"
    }
   ],
   "source": [
    "list(zip(rets.columns, rets.mean(), rets.std()))"
   ]
  },
  {
   "cell_type": "markdown",
   "metadata": {},
   "source": [
    "<h2>Regressions</h2>\n",
    "http://statsmodels.sourceforge.net/"
   ]
  },
  {
   "cell_type": "markdown",
   "metadata": {},
   "source": [
    "<h3>Steps for regression</h3>\n",
    "<li>Construct y (dependent variable series)\n",
    "<li>Construct matrix (dataframe) of X (independent variable series)\n",
    "<li>Add intercept\n",
    "<li>Model the regression\n",
    "<li>Get the results\n",
    "<h3>The statsmodels library contains various regression packages. We'll use the OLS (Ordinary Least Squares) model"
   ]
  },
  {
   "cell_type": "code",
   "execution_count": 100,
   "metadata": {},
   "outputs": [
    {
     "name": "stderr",
     "output_type": "stream",
     "text": [
      "C:\\Users\\anatl\\anaconda3\\lib\\site-packages\\scipy\\__init__.py:146: UserWarning: A NumPy version >=1.16.5 and <1.23.0 is required for this version of SciPy (detected version 1.24.1\n",
      "  warnings.warn(f\"A NumPy version >={np_minversion} and <{np_maxversion}\"\n"
     ]
    }
   ],
   "source": [
    "import numpy as np\n",
    "import statsmodels.api as sm"
   ]
  },
  {
   "cell_type": "code",
   "execution_count": 103,
   "metadata": {},
   "outputs": [
    {
     "name": "stdout",
     "output_type": "stream",
     "text": [
      "                            OLS Regression Results                            \n",
      "==============================================================================\n",
      "Dep. Variable:                    TAN   R-squared:                       0.714\n",
      "Model:                            OLS   Adj. R-squared:                  0.712\n",
      "Method:                 Least Squares   F-statistic:                     380.0\n",
      "Date:                Sat, 25 Mar 2023   Prob (F-statistic):           1.55e-83\n",
      "Time:                        23:47:08   Log-Likelihood:                -841.03\n",
      "No. Observations:                 308   AIC:                             1688.\n",
      "Df Residuals:                     305   BIC:                             1699.\n",
      "Df Model:                           2                                         \n",
      "Covariance Type:            nonrobust                                         \n",
      "==============================================================================\n",
      "                 coef    std err          t      P>|t|      [0.025      0.975]\n",
      "------------------------------------------------------------------------------\n",
      "const         40.4494      1.265     31.968      0.000      37.960      42.939\n",
      "FSLR           0.0737      0.005     15.377      0.000       0.064       0.083\n",
      "SPWR           1.3206      0.060     22.030      0.000       1.203       1.439\n",
      "==============================================================================\n",
      "Omnibus:                        8.457   Durbin-Watson:                   0.080\n",
      "Prob(Omnibus):                  0.015   Jarque-Bera (JB):                4.982\n",
      "Skew:                           0.116   Prob(JB):                       0.0828\n",
      "Kurtosis:                       2.422   Cond. No.                         745.\n",
      "==============================================================================\n",
      "\n",
      "Notes:\n",
      "[1] Standard Errors assume that the covariance matrix of the errors is correctly specified.\n"
     ]
    }
   ],
   "source": [
    "\n",
    "X=solar_df[['FSLR','SPWR']]\n",
    "X = sm.add_constant(X) #adds a column of ones\n",
    "y=solar_df['TAN']\n",
    "model = sm.OLS(y,X,missing='drop') # https://en.wikipedia.org/wiki/Ordinary_least_squares \n",
    "                                    # drop - removes rows with missing values\n",
    "result = model.fit() # finds the model parameters\n",
    "print(result.summary())"
   ]
  },
  {
   "cell_type": "code",
   "execution_count": 104,
   "metadata": {},
   "outputs": [
    {
     "data": {
      "text/html": [
       "<div>\n",
       "<style scoped>\n",
       "    .dataframe tbody tr th:only-of-type {\n",
       "        vertical-align: middle;\n",
       "    }\n",
       "\n",
       "    .dataframe tbody tr th {\n",
       "        vertical-align: top;\n",
       "    }\n",
       "\n",
       "    .dataframe thead th {\n",
       "        text-align: right;\n",
       "    }\n",
       "</style>\n",
       "<table border=\"1\" class=\"dataframe\">\n",
       "  <thead>\n",
       "    <tr style=\"text-align: right;\">\n",
       "      <th></th>\n",
       "      <th>const</th>\n",
       "      <th>FSLR</th>\n",
       "      <th>SPWR</th>\n",
       "    </tr>\n",
       "    <tr>\n",
       "      <th>Date</th>\n",
       "      <th></th>\n",
       "      <th></th>\n",
       "      <th></th>\n",
       "    </tr>\n",
       "  </thead>\n",
       "  <tbody>\n",
       "    <tr>\n",
       "      <th>2022-01-03</th>\n",
       "      <td>1.0</td>\n",
       "      <td>88.580002</td>\n",
       "      <td>21.549999</td>\n",
       "    </tr>\n",
       "    <tr>\n",
       "      <th>2022-01-04</th>\n",
       "      <td>1.0</td>\n",
       "      <td>87.279999</td>\n",
       "      <td>21.530001</td>\n",
       "    </tr>\n",
       "    <tr>\n",
       "      <th>2022-01-05</th>\n",
       "      <td>1.0</td>\n",
       "      <td>83.510002</td>\n",
       "      <td>19.780001</td>\n",
       "    </tr>\n",
       "    <tr>\n",
       "      <th>2022-01-06</th>\n",
       "      <td>1.0</td>\n",
       "      <td>83.970001</td>\n",
       "      <td>19.150000</td>\n",
       "    </tr>\n",
       "    <tr>\n",
       "      <th>2022-01-07</th>\n",
       "      <td>1.0</td>\n",
       "      <td>84.680000</td>\n",
       "      <td>19.379999</td>\n",
       "    </tr>\n",
       "    <tr>\n",
       "      <th>...</th>\n",
       "      <td>...</td>\n",
       "      <td>...</td>\n",
       "      <td>...</td>\n",
       "    </tr>\n",
       "    <tr>\n",
       "      <th>2023-03-20</th>\n",
       "      <td>1.0</td>\n",
       "      <td>204.679993</td>\n",
       "      <td>12.690000</td>\n",
       "    </tr>\n",
       "    <tr>\n",
       "      <th>2023-03-21</th>\n",
       "      <td>1.0</td>\n",
       "      <td>209.250000</td>\n",
       "      <td>13.690000</td>\n",
       "    </tr>\n",
       "    <tr>\n",
       "      <th>2023-03-22</th>\n",
       "      <td>1.0</td>\n",
       "      <td>205.009995</td>\n",
       "      <td>12.770000</td>\n",
       "    </tr>\n",
       "    <tr>\n",
       "      <th>2023-03-23</th>\n",
       "      <td>1.0</td>\n",
       "      <td>210.190002</td>\n",
       "      <td>12.600000</td>\n",
       "    </tr>\n",
       "    <tr>\n",
       "      <th>2023-03-24</th>\n",
       "      <td>1.0</td>\n",
       "      <td>211.100006</td>\n",
       "      <td>12.410000</td>\n",
       "    </tr>\n",
       "  </tbody>\n",
       "</table>\n",
       "<p>308 rows × 3 columns</p>\n",
       "</div>"
      ],
      "text/plain": [
       "            const        FSLR       SPWR\n",
       "Date                                    \n",
       "2022-01-03    1.0   88.580002  21.549999\n",
       "2022-01-04    1.0   87.279999  21.530001\n",
       "2022-01-05    1.0   83.510002  19.780001\n",
       "2022-01-06    1.0   83.970001  19.150000\n",
       "2022-01-07    1.0   84.680000  19.379999\n",
       "...           ...         ...        ...\n",
       "2023-03-20    1.0  204.679993  12.690000\n",
       "2023-03-21    1.0  209.250000  13.690000\n",
       "2023-03-22    1.0  205.009995  12.770000\n",
       "2023-03-23    1.0  210.190002  12.600000\n",
       "2023-03-24    1.0  211.100006  12.410000\n",
       "\n",
       "[308 rows x 3 columns]"
      ]
     },
     "execution_count": 104,
     "metadata": {},
     "output_type": "execute_result"
    }
   ],
   "source": [
    "X"
   ]
  },
  {
   "cell_type": "code",
   "execution_count": 105,
   "metadata": {},
   "outputs": [
    {
     "data": {
      "text/plain": [
       "Date\n",
       "2022-01-03    78.489998\n",
       "2022-01-04    76.320000\n",
       "2022-01-05    71.209999\n",
       "2022-01-06    70.629997\n",
       "2022-01-07    70.750000\n",
       "                ...    \n",
       "2023-03-20    70.510002\n",
       "2023-03-21    74.080002\n",
       "2023-03-22    72.489998\n",
       "2023-03-23    73.580002\n",
       "2023-03-24    72.980003\n",
       "Name: TAN, Length: 308, dtype: float64"
      ]
     },
     "execution_count": 105,
     "metadata": {},
     "output_type": "execute_result"
    }
   ],
   "source": [
    "y"
   ]
  },
  {
   "cell_type": "markdown",
   "metadata": {},
   "source": [
    "<h4>Finally plot the fitted line with the actual y values"
   ]
  },
  {
   "cell_type": "code",
   "execution_count": 129,
   "metadata": {},
   "outputs": [
    {
     "data": {
      "text/plain": [
       "<matplotlib.legend.Legend at 0x205a7eebb50>"
      ]
     },
     "execution_count": 129,
     "metadata": {},
     "output_type": "execute_result"
    },
    {
     "data": {
      "image/png": "[encoded data removed]",
      "text/plain": [
       "<Figure size 576x432 with 1 Axes>"
      ]
     },
     "metadata": {
      "needs_background": "light"
     },
     "output_type": "display_data"
    }
   ],
   "source": [
    "fig, ax = plt.subplots(figsize=(8,6)) # Create just a figure and only one subplot\n",
    "ax.plot(y, color='r', label='actual')\n",
    "ax.plot(result.fittedvalues, label='predicted')\n",
    "ax.legend(loc=\"lower right\") #\"upper right\"\n"
   ]
  },
  {
   "cell_type": "code",
   "execution_count": 106,
   "metadata": {},
   "outputs": [
    {
     "data": {
      "text/plain": [
       "<statsmodels.regression.linear_model.RegressionResultsWrapper at 0x22a62594a00>"
      ]
     },
     "execution_count": 106,
     "metadata": {},
     "output_type": "execute_result"
    }
   ],
   "source": [
    "result"
   ]
  },
  {
   "cell_type": "code",
   "execution_count": 107,
   "metadata": {},
   "outputs": [
    {
     "data": {
      "text/plain": [
       "Date\n",
       "2022-01-03    75.441123\n",
       "2022-01-04    75.318849\n",
       "2022-01-05    72.729726\n",
       "2022-01-06    71.931642\n",
       "2022-01-07    72.287745\n",
       "                ...    \n",
       "2023-03-20    72.301541\n",
       "2023-03-21    73.959176\n",
       "2023-03-22    72.431527\n",
       "2023-03-23    72.588996\n",
       "2023-03-24    72.405178\n",
       "Length: 308, dtype: float64"
      ]
     },
     "execution_count": 107,
     "metadata": {},
     "output_type": "execute_result"
    }
   ],
   "source": [
    "result.fittedvalues"
   ]
  }
 ],
 "metadata": {
  "kernelspec": {
   "display_name": "Python 3 (ipykernel)",
   "language": "python",
   "name": "python3"
  },
  "language_info": {
   "codemirror_mode": {
    "name": "ipython",
    "version": 3
   },
   "file_extension": ".py",
   "mimetype": "text/x-python",
   "name": "python",
   "nbconvert_exporter": "python",
   "pygments_lexer": "ipython3",
   "version": "3.9.7"
  }
 },
 "nbformat": 4,
 "nbformat_minor": 2
}
