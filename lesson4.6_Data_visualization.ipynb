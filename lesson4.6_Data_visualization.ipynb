{
 "cells": [
  {
   "cell_type": "markdown",
   "metadata": {},
   "source": [
    "<h1>Data setup</h1>\n",
    "<h2>Use our function to read the data file</h2>"
   ]
  },
  {
   "cell_type": "code",
   "execution_count": 13,
   "metadata": {},
   "outputs": [],
   "source": [
    "# path = \"C:\\\\Users\\\\anatl\\\\JupyterNotebooks\\\\IntroToDataScience\\\\\" \n",
    "# datafile = path + \"lesson4.3_MELBOURNE_HOUSE_PRICES_LESS.csv\"\n",
    "# data = pd.read_csv(path+\"Melborne_real_estate_GEO.csv\")\n",
    "\n",
    "datafile = \"https://raw.githubusercontent.com/goldanat/Intro2DataScience/main/resources/lesson4.3_MELBOURNE_HOUSE_PRICES_LESS.csv\"\n",
    "\n",
    "geo_data_file = \"https://raw.githubusercontent.com/goldanat/Intro2DataScience/main/resources/Melborne_real_estate_GEO.csv\""
   ]
  },
  {
   "cell_type": "code",
   "execution_count": 7,
   "metadata": {},
   "outputs": [],
   "source": [
    "api_key = 'AIz........................5D3E' "
   ]
  },
  {
   "cell_type": "code",
   "execution_count": 2,
   "metadata": {},
   "outputs": [],
   "source": [
    "import pandas as pd\n",
    "import matplotlib\n",
    "import numpy as np\n",
    "import json"
   ]
  },
  {
   "cell_type": "code",
   "execution_count": 3,
   "metadata": {},
   "outputs": [],
   "source": [
    "def read_real_estate_data(datafile):\n",
    "    import pandas as pd\n",
    "    import numpy as np\n",
    "    #Add the fix_zip function\n",
    "    def fix_postcode(input_postcode):\n",
    "        try:\n",
    "            input_postcode = int(float(input_postcode))\n",
    "        except:\n",
    "            try:\n",
    "                input_postcode = int(input_postcode.split('-')[0])\n",
    "            except:\n",
    "                return np.NaN\n",
    "        if input_postcode < 1000 or input_postcode > 9999:\n",
    "            return np.NaN\n",
    "        return str(input_postcode)\n",
    "    \n",
    "    #Read the file\n",
    "    df = pd.read_csv(datafile)\n",
    "    \n",
    "    #fix the zip\n",
    "    df['Postcode'] = df['Postcode'].apply(fix_postcode)\n",
    "    \n",
    "    #drop all rows that have any nans in them (note the easier syntax!)\n",
    "    \n",
    "    df = df.dropna(how='any')    \n",
    "    \n",
    "    #Convert times to datetime and create a processing time column\n",
    "    df['Avg_room_num'] = df.groupby('CouncilArea')['Rooms'].transform('mean')\n",
    "    df['Rel_room_num'] = df.apply(lambda row: row.Rooms/row.Avg_room_num, axis=1) #data['Rooms']/data['Avg_room_num']\n",
    "    \n",
    "    import datetime\n",
    "    df['Date'] = df['Date'].apply(lambda x:datetime.datetime.strptime(x,'%d/%m/%Y'))    \n",
    "   \n",
    "    return df\n",
    "    "
   ]
  },
  {
   "cell_type": "code",
   "execution_count": 4,
   "metadata": {
    "scrolled": false
   },
   "outputs": [
    {
     "data": {
      "text/html": [
       "<div>\n",
       "<style scoped>\n",
       "    .dataframe tbody tr th:only-of-type {\n",
       "        vertical-align: middle;\n",
       "    }\n",
       "\n",
       "    .dataframe tbody tr th {\n",
       "        vertical-align: top;\n",
       "    }\n",
       "\n",
       "    .dataframe thead th {\n",
       "        text-align: right;\n",
       "    }\n",
       "</style>\n",
       "<table border=\"1\" class=\"dataframe\">\n",
       "  <thead>\n",
       "    <tr style=\"text-align: right;\">\n",
       "      <th></th>\n",
       "      <th>Suburb</th>\n",
       "      <th>Address</th>\n",
       "      <th>Rooms</th>\n",
       "      <th>Type</th>\n",
       "      <th>Price</th>\n",
       "      <th>Method</th>\n",
       "      <th>SellerG</th>\n",
       "      <th>Date</th>\n",
       "      <th>Postcode</th>\n",
       "      <th>Regionname</th>\n",
       "      <th>Propertycount</th>\n",
       "      <th>Distance</th>\n",
       "      <th>CouncilArea</th>\n",
       "      <th>Avg_room_num</th>\n",
       "      <th>Rel_room_num</th>\n",
       "    </tr>\n",
       "  </thead>\n",
       "  <tbody>\n",
       "    <tr>\n",
       "      <th>0</th>\n",
       "      <td>Abbotsford</td>\n",
       "      <td>49 Lithgow St</td>\n",
       "      <td>3</td>\n",
       "      <td>h</td>\n",
       "      <td>1490000.0</td>\n",
       "      <td>S</td>\n",
       "      <td>Jellis</td>\n",
       "      <td>2017-04-01</td>\n",
       "      <td>3067</td>\n",
       "      <td>Northern Metropolitan</td>\n",
       "      <td>4019</td>\n",
       "      <td>3.0</td>\n",
       "      <td>Yarra City Council</td>\n",
       "      <td>2.346970</td>\n",
       "      <td>1.278244</td>\n",
       "    </tr>\n",
       "    <tr>\n",
       "      <th>1</th>\n",
       "      <td>Abbotsford</td>\n",
       "      <td>59A Turner St</td>\n",
       "      <td>3</td>\n",
       "      <td>h</td>\n",
       "      <td>1220000.0</td>\n",
       "      <td>S</td>\n",
       "      <td>Marshall</td>\n",
       "      <td>2017-04-01</td>\n",
       "      <td>3067</td>\n",
       "      <td>Northern Metropolitan</td>\n",
       "      <td>4019</td>\n",
       "      <td>3.0</td>\n",
       "      <td>Yarra City Council</td>\n",
       "      <td>2.346970</td>\n",
       "      <td>1.278244</td>\n",
       "    </tr>\n",
       "    <tr>\n",
       "      <th>2</th>\n",
       "      <td>Abbotsford</td>\n",
       "      <td>119B Yarra St</td>\n",
       "      <td>3</td>\n",
       "      <td>h</td>\n",
       "      <td>1420000.0</td>\n",
       "      <td>S</td>\n",
       "      <td>Nelson</td>\n",
       "      <td>2017-04-01</td>\n",
       "      <td>3067</td>\n",
       "      <td>Northern Metropolitan</td>\n",
       "      <td>4019</td>\n",
       "      <td>3.0</td>\n",
       "      <td>Yarra City Council</td>\n",
       "      <td>2.346970</td>\n",
       "      <td>1.278244</td>\n",
       "    </tr>\n",
       "    <tr>\n",
       "      <th>3</th>\n",
       "      <td>Aberfeldie</td>\n",
       "      <td>68 Vida St</td>\n",
       "      <td>3</td>\n",
       "      <td>h</td>\n",
       "      <td>1515000.0</td>\n",
       "      <td>S</td>\n",
       "      <td>Barry</td>\n",
       "      <td>2017-04-01</td>\n",
       "      <td>3040</td>\n",
       "      <td>Western Metropolitan</td>\n",
       "      <td>1543</td>\n",
       "      <td>7.5</td>\n",
       "      <td>Moonee Valley City Council</td>\n",
       "      <td>3.003236</td>\n",
       "      <td>0.998922</td>\n",
       "    </tr>\n",
       "    <tr>\n",
       "      <th>4</th>\n",
       "      <td>Airport West</td>\n",
       "      <td>92 Clydesdale Rd</td>\n",
       "      <td>2</td>\n",
       "      <td>h</td>\n",
       "      <td>670000.0</td>\n",
       "      <td>S</td>\n",
       "      <td>Nelson</td>\n",
       "      <td>2017-04-01</td>\n",
       "      <td>3042</td>\n",
       "      <td>Western Metropolitan</td>\n",
       "      <td>3464</td>\n",
       "      <td>10.4</td>\n",
       "      <td>Moonee Valley City Council</td>\n",
       "      <td>3.003236</td>\n",
       "      <td>0.665948</td>\n",
       "    </tr>\n",
       "  </tbody>\n",
       "</table>\n",
       "</div>"
      ],
      "text/plain": [
       "         Suburb           Address  Rooms Type      Price Method   SellerG  \\\n",
       "0    Abbotsford     49 Lithgow St      3    h  1490000.0      S    Jellis   \n",
       "1    Abbotsford     59A Turner St      3    h  1220000.0      S  Marshall   \n",
       "2    Abbotsford     119B Yarra St      3    h  1420000.0      S    Nelson   \n",
       "3    Aberfeldie        68 Vida St      3    h  1515000.0      S     Barry   \n",
       "4  Airport West  92 Clydesdale Rd      2    h   670000.0      S    Nelson   \n",
       "\n",
       "        Date Postcode             Regionname  Propertycount  Distance  \\\n",
       "0 2017-04-01     3067  Northern Metropolitan           4019       3.0   \n",
       "1 2017-04-01     3067  Northern Metropolitan           4019       3.0   \n",
       "2 2017-04-01     3067  Northern Metropolitan           4019       3.0   \n",
       "3 2017-04-01     3040   Western Metropolitan           1543       7.5   \n",
       "4 2017-04-01     3042   Western Metropolitan           3464      10.4   \n",
       "\n",
       "                  CouncilArea  Avg_room_num  Rel_room_num  \n",
       "0          Yarra City Council      2.346970      1.278244  \n",
       "1          Yarra City Council      2.346970      1.278244  \n",
       "2          Yarra City Council      2.346970      1.278244  \n",
       "3  Moonee Valley City Council      3.003236      0.998922  \n",
       "4  Moonee Valley City Council      3.003236      0.665948  "
      ]
     },
     "execution_count": 4,
     "metadata": {},
     "output_type": "execute_result"
    }
   ],
   "source": [
    "df = read_real_estate_data(datafile)\n",
    "df.head()"
   ]
  },
  {
   "cell_type": "markdown",
   "metadata": {},
   "source": [
    "<h1>Plotting data on google maps</h1>\n",
    "<H2>let's say we want to plot sold houses on a map </h2>\n",
    "<h2>gmplot library</h2>\n",
    "https://github.com/vgm64/gmplot"
   ]
  },
  {
   "cell_type": "code",
   "execution_count": 5,
   "metadata": {},
   "outputs": [
    {
     "name": "stdout",
     "output_type": "stream",
     "text": [
      "Requirement already satisfied: gmplot in c:\\users\\anatl\\anaconda3\\lib\\site-packages (1.4.1)\n",
      "Requirement already satisfied: requests in c:\\users\\anatl\\anaconda3\\lib\\site-packages (from gmplot) (2.26.0)\n",
      "Requirement already satisfied: certifi>=2017.4.17 in c:\\users\\anatl\\anaconda3\\lib\\site-packages (from requests->gmplot) (2021.10.8)\n",
      "Requirement already satisfied: idna<4,>=2.5 in c:\\users\\anatl\\anaconda3\\lib\\site-packages (from requests->gmplot) (3.2)\n",
      "Requirement already satisfied: charset-normalizer~=2.0.0 in c:\\users\\anatl\\anaconda3\\lib\\site-packages (from requests->gmplot) (2.0.4)\n",
      "Requirement already satisfied: urllib3<1.27,>=1.21.1 in c:\\users\\anatl\\anaconda3\\lib\\site-packages (from requests->gmplot) (1.26.7)\n"
     ]
    }
   ],
   "source": [
    "!pip install gmplot --upgrade\n",
    "# this is a library for google map plotting"
   ]
  },
  {
   "cell_type": "markdown",
   "metadata": {},
   "source": [
    "### Let's add to our dataframe latitudes and longitudes for each property\n",
    "#### We'll use the function we wrote in Lesson 3.2\n"
   ]
  },
  {
   "cell_type": "code",
   "execution_count": 8,
   "metadata": {},
   "outputs": [],
   "source": [
    "def get_lat_lng(address_string):\n",
    "    import requests\n",
    "    #python code goes here\n",
    "    url=\"https://maps.googleapis.com/maps/api/geocode/json?address=%s&key=%s\" % (address_string + \" Melbourne Australia\",api_key)\n",
    "\n",
    "    # Another approach:\n",
    "    # serviceurl=\"https://maps.googleapis.com/maps/api/geocode/json?\"\n",
    "    # parms = dict()\n",
    "    # parms['address'] = address_string\n",
    "    # parms['key'] = api_key\n",
    "    # url = serviceurl + urllib.parse.urlencode(parms)\n",
    "\n",
    "    try:\n",
    "        response = requests.get(url)\n",
    "        if not response.status_code == 200:\n",
    "            print(\"HTTP error\",response.status_code)\n",
    "        else:\n",
    "            try:\n",
    "                response_data = response.json()\n",
    "                return(response_data['results'][0]['geometry']['location'])\n",
    "            except:\n",
    "                print(\"Response not in valid JSON format\")\n",
    "    except:\n",
    "        print(\"Something went wrong with requests.get\")\n",
    "        \n"
   ]
  },
  {
   "cell_type": "code",
   "execution_count": 9,
   "metadata": {},
   "outputs": [
    {
     "data": {
      "text/plain": [
       "{'lat': -37.8136276, 'lng': 144.9630576}"
      ]
     },
     "execution_count": 9,
     "metadata": {},
     "output_type": "execute_result"
    }
   ],
   "source": [
    "(get_lat_lng(\"Ariel University, Ariel Israel\"))"
   ]
  },
  {
   "cell_type": "code",
   "execution_count": 10,
   "metadata": {},
   "outputs": [
    {
     "data": {
      "text/plain": [
       "(48432, 15)"
      ]
     },
     "execution_count": 10,
     "metadata": {},
     "output_type": "execute_result"
    }
   ],
   "source": [
    "df.shape"
   ]
  },
  {
   "cell_type": "markdown",
   "metadata": {},
   "source": [
    "### Adding lat / lng for each property:"
   ]
  },
  {
   "cell_type": "code",
   "execution_count": 11,
   "metadata": {
    "scrolled": false
   },
   "outputs": [
    {
     "name": "stderr",
     "output_type": "stream",
     "text": [
      "C:\\Users\\anatl\\AppData\\Local\\Temp/ipykernel_8764/1811335078.py:4: SettingWithCopyWarning: \n",
      "A value is trying to be set on a copy of a slice from a DataFrame.\n",
      "Try using .loc[row_indexer,col_indexer] = value instead\n",
      "\n",
      "See the caveats in the documentation: https://pandas.pydata.org/pandas-docs/stable/user_guide/indexing.html#returning-a-view-versus-a-copy\n",
      "  data['lat_long'] = data['Address'].apply(get_lat_lng)\n"
     ]
    }
   ],
   "source": [
    "# To save calls to the google Geo location Google api lets look at a subset of our dataset:\n",
    "data = df[0:500]\n",
    "data\n",
    "data['lat_long'] = data['Address'].apply(get_lat_lng)\n",
    "\n",
    "import json\n",
    "data['lat_long'] = data['lat_long'].apply(lambda x: json.loads(x.replace('\\'', '\\\"')) if pd.notnull(x) else np.nan)\n",
    "data['lat'] = data['lat_long'].apply(lambda x:  x['lat'] if pd.notnull(x) else 0)\n",
    "data['lng'] = data['lat_long'].apply(lambda x:  x['lng'] if pd.notnull(x) else 0)\n",
    "\n",
    "### if you do not want to run this code you can just read this file:\n",
    "#data = pd.read_csv(path+\"Melborne_real_estate_GEO.csv\")"
   ]
  },
  {
   "cell_type": "code",
   "execution_count": 24,
   "metadata": {},
   "outputs": [],
   "source": [
    "#Another way to do the same:\n",
    "def calcLat(geoDict):\n",
    "    if pd.notnull(geoDict):\n",
    "        return (geoDict['lat'])\n",
    "    else:\n",
    "        return (0)\n",
    "\n",
    "data['lat'] = data['lat_long'].apply(calcLat)"
   ]
  },
  {
   "cell_type": "code",
   "execution_count": 17,
   "metadata": {},
   "outputs": [
    {
     "data": {
      "text/plain": [
       "Unnamed: 0                                             0\n",
       "Unnamed: 0.1                                           0\n",
       "Suburb                                        Abbotsford\n",
       "Address                                    49 Lithgow St\n",
       "Rooms                                                  3\n",
       "Type                                                   h\n",
       "Price                                          1490000.0\n",
       "Method                                                 S\n",
       "SellerG                                           Jellis\n",
       "Date                                          2017-04-01\n",
       "Postcode                                            3067\n",
       "Regionname                         Northern Metropolitan\n",
       "Propertycount                                       4019\n",
       "Distance                                             3.0\n",
       "CouncilArea                           Yarra City Council\n",
       "Avg_room_num                                     2.34697\n",
       "Rel_room_num                                    1.278244\n",
       "lat_long         {'lat': 42.2901011, 'lng': -71.0688615}\n",
       "lat                                            42.290101\n",
       "lng                                           -71.068861\n",
       "Name: 0, dtype: object"
      ]
     },
     "execution_count": 17,
     "metadata": {},
     "output_type": "execute_result"
    }
   ],
   "source": [
    "data.iloc[0]"
   ]
  },
  {
   "cell_type": "code",
   "execution_count": 34,
   "metadata": {},
   "outputs": [],
   "source": [
    "data.to_csv(path+\"Melborne_real_estate_GEO.csv\")"
   ]
  },
  {
   "cell_type": "markdown",
   "metadata": {},
   "source": [
    "### Instead we can use a presaved dataset:"
   ]
  },
  {
   "cell_type": "code",
   "execution_count": 14,
   "metadata": {},
   "outputs": [
    {
     "data": {
      "text/html": [
       "<div>\n",
       "<style scoped>\n",
       "    .dataframe tbody tr th:only-of-type {\n",
       "        vertical-align: middle;\n",
       "    }\n",
       "\n",
       "    .dataframe tbody tr th {\n",
       "        vertical-align: top;\n",
       "    }\n",
       "\n",
       "    .dataframe thead th {\n",
       "        text-align: right;\n",
       "    }\n",
       "</style>\n",
       "<table border=\"1\" class=\"dataframe\">\n",
       "  <thead>\n",
       "    <tr style=\"text-align: right;\">\n",
       "      <th></th>\n",
       "      <th>Unnamed: 0</th>\n",
       "      <th>Unnamed: 0.1</th>\n",
       "      <th>Suburb</th>\n",
       "      <th>Address</th>\n",
       "      <th>Rooms</th>\n",
       "      <th>Type</th>\n",
       "      <th>Price</th>\n",
       "      <th>Method</th>\n",
       "      <th>SellerG</th>\n",
       "      <th>Date</th>\n",
       "      <th>Postcode</th>\n",
       "      <th>Regionname</th>\n",
       "      <th>Propertycount</th>\n",
       "      <th>Distance</th>\n",
       "      <th>CouncilArea</th>\n",
       "      <th>Avg_room_num</th>\n",
       "      <th>Rel_room_num</th>\n",
       "      <th>lat_long</th>\n",
       "      <th>lat</th>\n",
       "      <th>lng</th>\n",
       "    </tr>\n",
       "  </thead>\n",
       "  <tbody>\n",
       "    <tr>\n",
       "      <th>0</th>\n",
       "      <td>0</td>\n",
       "      <td>0</td>\n",
       "      <td>Abbotsford</td>\n",
       "      <td>49 Lithgow St</td>\n",
       "      <td>3</td>\n",
       "      <td>h</td>\n",
       "      <td>1490000.0</td>\n",
       "      <td>S</td>\n",
       "      <td>Jellis</td>\n",
       "      <td>2017-04-01</td>\n",
       "      <td>3067</td>\n",
       "      <td>Northern Metropolitan</td>\n",
       "      <td>4019</td>\n",
       "      <td>3.0</td>\n",
       "      <td>Yarra City Council</td>\n",
       "      <td>2.346970</td>\n",
       "      <td>1.278244</td>\n",
       "      <td>{'lat': 42.2901011, 'lng': -71.0688615}</td>\n",
       "      <td>42.290101</td>\n",
       "      <td>-71.068861</td>\n",
       "    </tr>\n",
       "    <tr>\n",
       "      <th>1</th>\n",
       "      <td>1</td>\n",
       "      <td>1</td>\n",
       "      <td>Abbotsford</td>\n",
       "      <td>59A Turner St</td>\n",
       "      <td>3</td>\n",
       "      <td>h</td>\n",
       "      <td>1220000.0</td>\n",
       "      <td>S</td>\n",
       "      <td>Marshall</td>\n",
       "      <td>2017-04-01</td>\n",
       "      <td>3067</td>\n",
       "      <td>Northern Metropolitan</td>\n",
       "      <td>4019</td>\n",
       "      <td>3.0</td>\n",
       "      <td>Yarra City Council</td>\n",
       "      <td>2.346970</td>\n",
       "      <td>1.278244</td>\n",
       "      <td>{'lat': -37.799492, 'lng': 144.99766}</td>\n",
       "      <td>-37.799492</td>\n",
       "      <td>144.997660</td>\n",
       "    </tr>\n",
       "    <tr>\n",
       "      <th>2</th>\n",
       "      <td>2</td>\n",
       "      <td>2</td>\n",
       "      <td>Abbotsford</td>\n",
       "      <td>119B Yarra St</td>\n",
       "      <td>3</td>\n",
       "      <td>h</td>\n",
       "      <td>1420000.0</td>\n",
       "      <td>S</td>\n",
       "      <td>Nelson</td>\n",
       "      <td>2017-04-01</td>\n",
       "      <td>3067</td>\n",
       "      <td>Northern Metropolitan</td>\n",
       "      <td>4019</td>\n",
       "      <td>3.0</td>\n",
       "      <td>Yarra City Council</td>\n",
       "      <td>2.346970</td>\n",
       "      <td>1.278244</td>\n",
       "      <td>{'lat': -37.8026507, 'lng': 144.9996482}</td>\n",
       "      <td>-37.802651</td>\n",
       "      <td>144.999648</td>\n",
       "    </tr>\n",
       "    <tr>\n",
       "      <th>3</th>\n",
       "      <td>3</td>\n",
       "      <td>3</td>\n",
       "      <td>Aberfeldie</td>\n",
       "      <td>68 Vida St</td>\n",
       "      <td>3</td>\n",
       "      <td>h</td>\n",
       "      <td>1515000.0</td>\n",
       "      <td>S</td>\n",
       "      <td>Barry</td>\n",
       "      <td>2017-04-01</td>\n",
       "      <td>3040</td>\n",
       "      <td>Western Metropolitan</td>\n",
       "      <td>1543</td>\n",
       "      <td>7.5</td>\n",
       "      <td>Moonee Valley City Council</td>\n",
       "      <td>3.003236</td>\n",
       "      <td>0.998922</td>\n",
       "      <td>NaN</td>\n",
       "      <td>0.000000</td>\n",
       "      <td>0.000000</td>\n",
       "    </tr>\n",
       "    <tr>\n",
       "      <th>4</th>\n",
       "      <td>4</td>\n",
       "      <td>4</td>\n",
       "      <td>Airport West</td>\n",
       "      <td>92 Clydesdale Rd</td>\n",
       "      <td>2</td>\n",
       "      <td>h</td>\n",
       "      <td>670000.0</td>\n",
       "      <td>S</td>\n",
       "      <td>Nelson</td>\n",
       "      <td>2017-04-01</td>\n",
       "      <td>3042</td>\n",
       "      <td>Western Metropolitan</td>\n",
       "      <td>3464</td>\n",
       "      <td>10.4</td>\n",
       "      <td>Moonee Valley City Council</td>\n",
       "      <td>3.003236</td>\n",
       "      <td>0.665948</td>\n",
       "      <td>{'lat': 40.6136589, 'lng': -74.3863904}</td>\n",
       "      <td>40.613659</td>\n",
       "      <td>-74.386390</td>\n",
       "    </tr>\n",
       "    <tr>\n",
       "      <th>...</th>\n",
       "      <td>...</td>\n",
       "      <td>...</td>\n",
       "      <td>...</td>\n",
       "      <td>...</td>\n",
       "      <td>...</td>\n",
       "      <td>...</td>\n",
       "      <td>...</td>\n",
       "      <td>...</td>\n",
       "      <td>...</td>\n",
       "      <td>...</td>\n",
       "      <td>...</td>\n",
       "      <td>...</td>\n",
       "      <td>...</td>\n",
       "      <td>...</td>\n",
       "      <td>...</td>\n",
       "      <td>...</td>\n",
       "      <td>...</td>\n",
       "      <td>...</td>\n",
       "      <td>...</td>\n",
       "      <td>...</td>\n",
       "    </tr>\n",
       "    <tr>\n",
       "      <th>495</th>\n",
       "      <td>495</td>\n",
       "      <td>635</td>\n",
       "      <td>Wantirna South</td>\n",
       "      <td>7 Talwood Cl</td>\n",
       "      <td>5</td>\n",
       "      <td>h</td>\n",
       "      <td>1390000.0</td>\n",
       "      <td>S</td>\n",
       "      <td>Ray</td>\n",
       "      <td>2017-04-01</td>\n",
       "      <td>3152</td>\n",
       "      <td>Eastern Metropolitan</td>\n",
       "      <td>7082</td>\n",
       "      <td>14.7</td>\n",
       "      <td>Knox City Council</td>\n",
       "      <td>3.613333</td>\n",
       "      <td>1.383764</td>\n",
       "      <td>{'lat': -37.8677326, 'lng': 145.2168801}</td>\n",
       "      <td>-37.867733</td>\n",
       "      <td>145.216880</td>\n",
       "    </tr>\n",
       "    <tr>\n",
       "      <th>496</th>\n",
       "      <td>496</td>\n",
       "      <td>637</td>\n",
       "      <td>Warrandyte</td>\n",
       "      <td>48 Yarra St</td>\n",
       "      <td>3</td>\n",
       "      <td>h</td>\n",
       "      <td>730000.0</td>\n",
       "      <td>S</td>\n",
       "      <td>Carter</td>\n",
       "      <td>2017-04-01</td>\n",
       "      <td>3113</td>\n",
       "      <td>Eastern Metropolitan</td>\n",
       "      <td>2003</td>\n",
       "      <td>21.1</td>\n",
       "      <td>Manningham City Council</td>\n",
       "      <td>3.617919</td>\n",
       "      <td>0.829206</td>\n",
       "      <td>{'lat': -37.741834, 'lng': 145.211861}</td>\n",
       "      <td>-37.741834</td>\n",
       "      <td>145.211861</td>\n",
       "    </tr>\n",
       "    <tr>\n",
       "      <th>497</th>\n",
       "      <td>497</td>\n",
       "      <td>638</td>\n",
       "      <td>Werribee</td>\n",
       "      <td>65 Market Rd</td>\n",
       "      <td>2</td>\n",
       "      <td>h</td>\n",
       "      <td>700000.0</td>\n",
       "      <td>S</td>\n",
       "      <td>Triwest</td>\n",
       "      <td>2017-04-01</td>\n",
       "      <td>3030</td>\n",
       "      <td>Western Metropolitan</td>\n",
       "      <td>16166</td>\n",
       "      <td>14.7</td>\n",
       "      <td>Wyndham City Council</td>\n",
       "      <td>3.401213</td>\n",
       "      <td>0.588025</td>\n",
       "      <td>{'lat': -37.895183, 'lng': 144.658371}</td>\n",
       "      <td>-37.895183</td>\n",
       "      <td>144.658371</td>\n",
       "    </tr>\n",
       "    <tr>\n",
       "      <th>498</th>\n",
       "      <td>498</td>\n",
       "      <td>639</td>\n",
       "      <td>Werribee</td>\n",
       "      <td>21 Parrakeet Rd</td>\n",
       "      <td>3</td>\n",
       "      <td>h</td>\n",
       "      <td>452000.0</td>\n",
       "      <td>S</td>\n",
       "      <td>hockingstuart</td>\n",
       "      <td>2017-04-01</td>\n",
       "      <td>3030</td>\n",
       "      <td>Western Metropolitan</td>\n",
       "      <td>16166</td>\n",
       "      <td>14.7</td>\n",
       "      <td>Wyndham City Council</td>\n",
       "      <td>3.401213</td>\n",
       "      <td>0.882038</td>\n",
       "      <td>{'lat': -37.8891739, 'lng': 144.6785173}</td>\n",
       "      <td>-37.889174</td>\n",
       "      <td>144.678517</td>\n",
       "    </tr>\n",
       "    <tr>\n",
       "      <th>499</th>\n",
       "      <td>499</td>\n",
       "      <td>641</td>\n",
       "      <td>Werribee</td>\n",
       "      <td>15 Raleigh Ct</td>\n",
       "      <td>3</td>\n",
       "      <td>h</td>\n",
       "      <td>430000.0</td>\n",
       "      <td>SP</td>\n",
       "      <td>YPA</td>\n",
       "      <td>2017-04-01</td>\n",
       "      <td>3030</td>\n",
       "      <td>Western Metropolitan</td>\n",
       "      <td>16166</td>\n",
       "      <td>14.7</td>\n",
       "      <td>Wyndham City Council</td>\n",
       "      <td>3.401213</td>\n",
       "      <td>0.882038</td>\n",
       "      <td>{'lat': 37.6504182, 'lng': -84.7445126}</td>\n",
       "      <td>37.650418</td>\n",
       "      <td>-84.744513</td>\n",
       "    </tr>\n",
       "  </tbody>\n",
       "</table>\n",
       "<p>500 rows × 20 columns</p>\n",
       "</div>"
      ],
      "text/plain": [
       "     Unnamed: 0  Unnamed: 0.1          Suburb           Address  Rooms Type  \\\n",
       "0             0             0      Abbotsford     49 Lithgow St      3    h   \n",
       "1             1             1      Abbotsford     59A Turner St      3    h   \n",
       "2             2             2      Abbotsford     119B Yarra St      3    h   \n",
       "3             3             3      Aberfeldie        68 Vida St      3    h   \n",
       "4             4             4    Airport West  92 Clydesdale Rd      2    h   \n",
       "..          ...           ...             ...               ...    ...  ...   \n",
       "495         495           635  Wantirna South      7 Talwood Cl      5    h   \n",
       "496         496           637      Warrandyte       48 Yarra St      3    h   \n",
       "497         497           638        Werribee      65 Market Rd      2    h   \n",
       "498         498           639        Werribee   21 Parrakeet Rd      3    h   \n",
       "499         499           641        Werribee     15 Raleigh Ct      3    h   \n",
       "\n",
       "         Price Method        SellerG        Date  Postcode  \\\n",
       "0    1490000.0      S         Jellis  2017-04-01      3067   \n",
       "1    1220000.0      S       Marshall  2017-04-01      3067   \n",
       "2    1420000.0      S         Nelson  2017-04-01      3067   \n",
       "3    1515000.0      S          Barry  2017-04-01      3040   \n",
       "4     670000.0      S         Nelson  2017-04-01      3042   \n",
       "..         ...    ...            ...         ...       ...   \n",
       "495  1390000.0      S            Ray  2017-04-01      3152   \n",
       "496   730000.0      S         Carter  2017-04-01      3113   \n",
       "497   700000.0      S        Triwest  2017-04-01      3030   \n",
       "498   452000.0      S  hockingstuart  2017-04-01      3030   \n",
       "499   430000.0     SP            YPA  2017-04-01      3030   \n",
       "\n",
       "                Regionname  Propertycount  Distance  \\\n",
       "0    Northern Metropolitan           4019       3.0   \n",
       "1    Northern Metropolitan           4019       3.0   \n",
       "2    Northern Metropolitan           4019       3.0   \n",
       "3     Western Metropolitan           1543       7.5   \n",
       "4     Western Metropolitan           3464      10.4   \n",
       "..                     ...            ...       ...   \n",
       "495   Eastern Metropolitan           7082      14.7   \n",
       "496   Eastern Metropolitan           2003      21.1   \n",
       "497   Western Metropolitan          16166      14.7   \n",
       "498   Western Metropolitan          16166      14.7   \n",
       "499   Western Metropolitan          16166      14.7   \n",
       "\n",
       "                    CouncilArea  Avg_room_num  Rel_room_num  \\\n",
       "0            Yarra City Council      2.346970      1.278244   \n",
       "1            Yarra City Council      2.346970      1.278244   \n",
       "2            Yarra City Council      2.346970      1.278244   \n",
       "3    Moonee Valley City Council      3.003236      0.998922   \n",
       "4    Moonee Valley City Council      3.003236      0.665948   \n",
       "..                          ...           ...           ...   \n",
       "495           Knox City Council      3.613333      1.383764   \n",
       "496     Manningham City Council      3.617919      0.829206   \n",
       "497        Wyndham City Council      3.401213      0.588025   \n",
       "498        Wyndham City Council      3.401213      0.882038   \n",
       "499        Wyndham City Council      3.401213      0.882038   \n",
       "\n",
       "                                     lat_long        lat         lng  \n",
       "0     {'lat': 42.2901011, 'lng': -71.0688615}  42.290101  -71.068861  \n",
       "1       {'lat': -37.799492, 'lng': 144.99766} -37.799492  144.997660  \n",
       "2    {'lat': -37.8026507, 'lng': 144.9996482} -37.802651  144.999648  \n",
       "3                                         NaN   0.000000    0.000000  \n",
       "4     {'lat': 40.6136589, 'lng': -74.3863904}  40.613659  -74.386390  \n",
       "..                                        ...        ...         ...  \n",
       "495  {'lat': -37.8677326, 'lng': 145.2168801} -37.867733  145.216880  \n",
       "496    {'lat': -37.741834, 'lng': 145.211861} -37.741834  145.211861  \n",
       "497    {'lat': -37.895183, 'lng': 144.658371} -37.895183  144.658371  \n",
       "498  {'lat': -37.8891739, 'lng': 144.6785173} -37.889174  144.678517  \n",
       "499   {'lat': 37.6504182, 'lng': -84.7445126}  37.650418  -84.744513  \n",
       "\n",
       "[500 rows x 20 columns]"
      ]
     },
     "execution_count": 14,
     "metadata": {},
     "output_type": "execute_result"
    }
   ],
   "source": [
    "### if you do not want to run the above code you can just read this file:\n",
    "data = pd.read_csv(geo_data_file)\n",
    "data"
   ]
  },
  {
   "cell_type": "markdown",
   "metadata": {},
   "source": [
    "<h3>Set up the map</h3>\n",
    "<h4>GoogleMapPlotter constructor</h4>\n",
    "<ul>\n",
    "<li>GoogleMapPlotter(center_lat, center_lng, zoom)\n",
    "<li>from_geocode(location_string,zoom) -- This currently doesnt work...\n"
   ]
  },
  {
   "cell_type": "code",
   "execution_count": 19,
   "metadata": {},
   "outputs": [],
   "source": [
    "import gmplot\n",
    "gmap = gmplot.GoogleMapPlotter(-37.808313,144.998459, 10)\n"
   ]
  },
  {
   "cell_type": "code",
   "execution_count": 20,
   "metadata": {},
   "outputs": [
    {
     "data": {
      "text/plain": [
       "<gmplot.gmplot.GoogleMapPlotter at 0x26fb361c280>"
      ]
     },
     "execution_count": 20,
     "metadata": {},
     "output_type": "execute_result"
    }
   ],
   "source": [
    "gmap"
   ]
  },
  {
   "cell_type": "markdown",
   "metadata": {},
   "source": [
    "<h3>Then generate the heatmap passing the two data series (latitude and longitude) to the function</h3>"
   ]
  },
  {
   "cell_type": "code",
   "execution_count": 22,
   "metadata": {},
   "outputs": [],
   "source": [
    "#Then generate a heatmap using the latitudes and longitudes\n",
    "gmap.heatmap(data['lat'], data['lng'])"
   ]
  },
  {
   "cell_type": "markdown",
   "metadata": {},
   "source": [
    "<h3>Save the heatmap to an html file</h3>\n",
    "<h4>The html file can be viewed, printed, or included in another html page</h4>"
   ]
  },
  {
   "cell_type": "code",
   "execution_count": 23,
   "metadata": {},
   "outputs": [
    {
     "data": {
      "text/html": [
       "\n",
       "        <iframe\n",
       "            width=\"990\"\n",
       "            height=\"500\"\n",
       "            src=\"houses2.html\"\n",
       "            frameborder=\"0\"\n",
       "            allowfullscreen\n",
       "            \n",
       "        ></iframe>\n",
       "        "
      ],
      "text/plain": [
       "<IPython.lib.display.IFrame at 0x26fa233d460>"
      ]
     },
     "execution_count": 23,
     "metadata": {},
     "output_type": "execute_result"
    }
   ],
   "source": [
    "gmap.draw('houses2.html')\n",
    "from IPython.display import IFrame\n",
    "IFrame(\"houses2.html\", width=990, height=500)"
   ]
  },
  {
   "cell_type": "markdown",
   "metadata": {},
   "source": [
    "<h1>Let's do some grouping operations</h1>"
   ]
  },
  {
   "cell_type": "code",
   "execution_count": 24,
   "metadata": {},
   "outputs": [],
   "source": [
    "%matplotlib inline  "
   ]
  },
  {
   "cell_type": "code",
   "execution_count": 32,
   "metadata": {},
   "outputs": [],
   "source": [
    "# this function that renders the figure in a notebook (instead of displaying a dump of the figure object)"
   ]
  },
  {
   "cell_type": "code",
   "execution_count": 25,
   "metadata": {
    "scrolled": true
   },
   "outputs": [
    {
     "data": {
      "text/html": [
       "<div>\n",
       "<style scoped>\n",
       "    .dataframe tbody tr th:only-of-type {\n",
       "        vertical-align: middle;\n",
       "    }\n",
       "\n",
       "    .dataframe tbody tr th {\n",
       "        vertical-align: top;\n",
       "    }\n",
       "\n",
       "    .dataframe thead th {\n",
       "        text-align: right;\n",
       "    }\n",
       "</style>\n",
       "<table border=\"1\" class=\"dataframe\">\n",
       "  <thead>\n",
       "    <tr style=\"text-align: right;\">\n",
       "      <th></th>\n",
       "      <th>Unnamed: 0</th>\n",
       "      <th>Unnamed: 0.1</th>\n",
       "      <th>Suburb</th>\n",
       "      <th>Address</th>\n",
       "      <th>Rooms</th>\n",
       "      <th>Type</th>\n",
       "      <th>Price</th>\n",
       "      <th>Method</th>\n",
       "      <th>SellerG</th>\n",
       "      <th>Date</th>\n",
       "      <th>Postcode</th>\n",
       "      <th>Regionname</th>\n",
       "      <th>Propertycount</th>\n",
       "      <th>Distance</th>\n",
       "      <th>CouncilArea</th>\n",
       "      <th>Avg_room_num</th>\n",
       "      <th>Rel_room_num</th>\n",
       "      <th>lat_long</th>\n",
       "      <th>lat</th>\n",
       "      <th>lng</th>\n",
       "    </tr>\n",
       "  </thead>\n",
       "  <tbody>\n",
       "    <tr>\n",
       "      <th>0</th>\n",
       "      <td>0</td>\n",
       "      <td>0</td>\n",
       "      <td>Abbotsford</td>\n",
       "      <td>49 Lithgow St</td>\n",
       "      <td>3</td>\n",
       "      <td>h</td>\n",
       "      <td>1490000.0</td>\n",
       "      <td>S</td>\n",
       "      <td>Jellis</td>\n",
       "      <td>2017-04-01</td>\n",
       "      <td>3067</td>\n",
       "      <td>Northern Metropolitan</td>\n",
       "      <td>4019</td>\n",
       "      <td>3.0</td>\n",
       "      <td>Yarra City Council</td>\n",
       "      <td>2.346970</td>\n",
       "      <td>1.278244</td>\n",
       "      <td>{'lat': 42.2901011, 'lng': -71.0688615}</td>\n",
       "      <td>42.290101</td>\n",
       "      <td>-71.068861</td>\n",
       "    </tr>\n",
       "    <tr>\n",
       "      <th>1</th>\n",
       "      <td>1</td>\n",
       "      <td>1</td>\n",
       "      <td>Abbotsford</td>\n",
       "      <td>59A Turner St</td>\n",
       "      <td>3</td>\n",
       "      <td>h</td>\n",
       "      <td>1220000.0</td>\n",
       "      <td>S</td>\n",
       "      <td>Marshall</td>\n",
       "      <td>2017-04-01</td>\n",
       "      <td>3067</td>\n",
       "      <td>Northern Metropolitan</td>\n",
       "      <td>4019</td>\n",
       "      <td>3.0</td>\n",
       "      <td>Yarra City Council</td>\n",
       "      <td>2.346970</td>\n",
       "      <td>1.278244</td>\n",
       "      <td>{'lat': -37.799492, 'lng': 144.99766}</td>\n",
       "      <td>-37.799492</td>\n",
       "      <td>144.997660</td>\n",
       "    </tr>\n",
       "    <tr>\n",
       "      <th>2</th>\n",
       "      <td>2</td>\n",
       "      <td>2</td>\n",
       "      <td>Abbotsford</td>\n",
       "      <td>119B Yarra St</td>\n",
       "      <td>3</td>\n",
       "      <td>h</td>\n",
       "      <td>1420000.0</td>\n",
       "      <td>S</td>\n",
       "      <td>Nelson</td>\n",
       "      <td>2017-04-01</td>\n",
       "      <td>3067</td>\n",
       "      <td>Northern Metropolitan</td>\n",
       "      <td>4019</td>\n",
       "      <td>3.0</td>\n",
       "      <td>Yarra City Council</td>\n",
       "      <td>2.346970</td>\n",
       "      <td>1.278244</td>\n",
       "      <td>{'lat': -37.8026507, 'lng': 144.9996482}</td>\n",
       "      <td>-37.802651</td>\n",
       "      <td>144.999648</td>\n",
       "    </tr>\n",
       "    <tr>\n",
       "      <th>3</th>\n",
       "      <td>3</td>\n",
       "      <td>3</td>\n",
       "      <td>Aberfeldie</td>\n",
       "      <td>68 Vida St</td>\n",
       "      <td>3</td>\n",
       "      <td>h</td>\n",
       "      <td>1515000.0</td>\n",
       "      <td>S</td>\n",
       "      <td>Barry</td>\n",
       "      <td>2017-04-01</td>\n",
       "      <td>3040</td>\n",
       "      <td>Western Metropolitan</td>\n",
       "      <td>1543</td>\n",
       "      <td>7.5</td>\n",
       "      <td>Moonee Valley City Council</td>\n",
       "      <td>3.003236</td>\n",
       "      <td>0.998922</td>\n",
       "      <td>NaN</td>\n",
       "      <td>0.000000</td>\n",
       "      <td>0.000000</td>\n",
       "    </tr>\n",
       "    <tr>\n",
       "      <th>4</th>\n",
       "      <td>4</td>\n",
       "      <td>4</td>\n",
       "      <td>Airport West</td>\n",
       "      <td>92 Clydesdale Rd</td>\n",
       "      <td>2</td>\n",
       "      <td>h</td>\n",
       "      <td>670000.0</td>\n",
       "      <td>S</td>\n",
       "      <td>Nelson</td>\n",
       "      <td>2017-04-01</td>\n",
       "      <td>3042</td>\n",
       "      <td>Western Metropolitan</td>\n",
       "      <td>3464</td>\n",
       "      <td>10.4</td>\n",
       "      <td>Moonee Valley City Council</td>\n",
       "      <td>3.003236</td>\n",
       "      <td>0.665948</td>\n",
       "      <td>{'lat': 40.6136589, 'lng': -74.3863904}</td>\n",
       "      <td>40.613659</td>\n",
       "      <td>-74.386390</td>\n",
       "    </tr>\n",
       "  </tbody>\n",
       "</table>\n",
       "</div>"
      ],
      "text/plain": [
       "   Unnamed: 0  Unnamed: 0.1        Suburb           Address  Rooms Type  \\\n",
       "0           0             0    Abbotsford     49 Lithgow St      3    h   \n",
       "1           1             1    Abbotsford     59A Turner St      3    h   \n",
       "2           2             2    Abbotsford     119B Yarra St      3    h   \n",
       "3           3             3    Aberfeldie        68 Vida St      3    h   \n",
       "4           4             4  Airport West  92 Clydesdale Rd      2    h   \n",
       "\n",
       "       Price Method   SellerG        Date  Postcode             Regionname  \\\n",
       "0  1490000.0      S    Jellis  2017-04-01      3067  Northern Metropolitan   \n",
       "1  1220000.0      S  Marshall  2017-04-01      3067  Northern Metropolitan   \n",
       "2  1420000.0      S    Nelson  2017-04-01      3067  Northern Metropolitan   \n",
       "3  1515000.0      S     Barry  2017-04-01      3040   Western Metropolitan   \n",
       "4   670000.0      S    Nelson  2017-04-01      3042   Western Metropolitan   \n",
       "\n",
       "   Propertycount  Distance                 CouncilArea  Avg_room_num  \\\n",
       "0           4019       3.0          Yarra City Council      2.346970   \n",
       "1           4019       3.0          Yarra City Council      2.346970   \n",
       "2           4019       3.0          Yarra City Council      2.346970   \n",
       "3           1543       7.5  Moonee Valley City Council      3.003236   \n",
       "4           3464      10.4  Moonee Valley City Council      3.003236   \n",
       "\n",
       "   Rel_room_num                                  lat_long        lat  \\\n",
       "0      1.278244   {'lat': 42.2901011, 'lng': -71.0688615}  42.290101   \n",
       "1      1.278244     {'lat': -37.799492, 'lng': 144.99766} -37.799492   \n",
       "2      1.278244  {'lat': -37.8026507, 'lng': 144.9996482} -37.802651   \n",
       "3      0.998922                                       NaN   0.000000   \n",
       "4      0.665948   {'lat': 40.6136589, 'lng': -74.3863904}  40.613659   \n",
       "\n",
       "          lng  \n",
       "0  -71.068861  \n",
       "1  144.997660  \n",
       "2  144.999648  \n",
       "3    0.000000  \n",
       "4  -74.386390  "
      ]
     },
     "execution_count": 25,
     "metadata": {},
     "output_type": "execute_result"
    }
   ],
   "source": [
    "data.head()"
   ]
  },
  {
   "cell_type": "markdown",
   "metadata": {},
   "source": [
    "<h2>Group data by property type and plot a bar chart of the sale count</h2>"
   ]
  },
  {
   "cell_type": "code",
   "execution_count": 27,
   "metadata": {},
   "outputs": [
    {
     "data": {
      "text/plain": [
       "<AxesSubplot:xlabel='Type'>"
      ]
     },
     "execution_count": 27,
     "metadata": {},
     "output_type": "execute_result"
    },
    {
     "data": {
      "image/png": "[encoded data removed]",
      "text/plain": [
       "<Figure size 432x288 with 1 Axes>"
      ]
     },
     "metadata": {
      "needs_background": "light"
     },
     "output_type": "display_data"
    }
   ],
   "source": [
    "type_group = data.groupby('Type')\n",
    "#type_group = data.groupby('CouncilArea')\n",
    "\n",
    "type_group.size().plot(kind='bar')\n",
    "\n",
    "#kind can be 'hist', 'scatter'"
   ]
  },
  {
   "cell_type": "markdown",
   "metadata": {},
   "source": [
    "<h1>Sales by Regionname</h1>"
   ]
  },
  {
   "cell_type": "code",
   "execution_count": 28,
   "metadata": {},
   "outputs": [
    {
     "data": {
      "text/plain": [
       "<AxesSubplot:xlabel='Regionname'>"
      ]
     },
     "execution_count": 28,
     "metadata": {},
     "output_type": "execute_result"
    },
    {
     "data": {
      "image/png": "[encoded data removed]",
      "text/plain": [
       "<Figure size 432x288 with 1 Axes>"
      ]
     },
     "metadata": {
      "needs_background": "light"
     },
     "output_type": "display_data"
    }
   ],
   "source": [
    "Regionname_group = data.groupby('Regionname')\n",
    "Regionname_group.size().plot(kind='bar')"
   ]
  },
  {
   "cell_type": "markdown",
   "metadata": {},
   "source": [
    "<h2>Let's combine the two in a single graph</h2>\n"
   ]
  },
  {
   "cell_type": "code",
   "execution_count": 27,
   "metadata": {},
   "outputs": [
    {
     "data": {
      "text/plain": [
       "<AxesSubplot:xlabel='Type,Regionname'>"
      ]
     },
     "execution_count": 27,
     "metadata": {},
     "output_type": "execute_result"
    },
    {
     "data": {
      "image/png": "[encoded data removed]",
      "text/plain": [
       "<Figure size 432x288 with 1 Axes>"
      ]
     },
     "metadata": {
      "needs_background": "light"
     },
     "output_type": "display_data"
    }
   ],
   "source": [
    "\n",
    "type_region = data.groupby(['Type','Regionname'])\n",
    "type_region.size().plot(kind='bar')\n"
   ]
  },
  {
   "cell_type": "code",
   "execution_count": 28,
   "metadata": {},
   "outputs": [
    {
     "data": {
      "text/plain": [
       "Type  Regionname                \n",
       "h     Eastern Metropolitan           75\n",
       "      Eastern Victoria                3\n",
       "      Northern Metropolitan         105\n",
       "      Northern Victoria               2\n",
       "      South-Eastern Metropolitan     38\n",
       "      Southern Metropolitan          68\n",
       "      Western Metropolitan           65\n",
       "      Western Victoria                1\n",
       "t     Eastern Metropolitan            8\n",
       "      Northern Metropolitan          15\n",
       "      South-Eastern Metropolitan      4\n",
       "      Southern Metropolitan          14\n",
       "      Western Metropolitan            7\n",
       "u     Eastern Metropolitan            7\n",
       "      Northern Metropolitan          29\n",
       "      South-Eastern Metropolitan      5\n",
       "      Southern Metropolitan          45\n",
       "      Western Metropolitan            9\n",
       "dtype: int64"
      ]
     },
     "execution_count": 28,
     "metadata": {},
     "output_type": "execute_result"
    }
   ],
   "source": [
    "type_region.size()\n",
    "\n",
    "# type_region.size().loc[\"h\"]\n"
   ]
  },
  {
   "cell_type": "code",
   "execution_count": 29,
   "metadata": {},
   "outputs": [
    {
     "data": {
      "text/html": [
       "<div>\n",
       "<style scoped>\n",
       "    .dataframe tbody tr th:only-of-type {\n",
       "        vertical-align: middle;\n",
       "    }\n",
       "\n",
       "    .dataframe tbody tr th {\n",
       "        vertical-align: top;\n",
       "    }\n",
       "\n",
       "    .dataframe thead th {\n",
       "        text-align: right;\n",
       "    }\n",
       "</style>\n",
       "<table border=\"1\" class=\"dataframe\">\n",
       "  <thead>\n",
       "    <tr style=\"text-align: right;\">\n",
       "      <th>Regionname</th>\n",
       "      <th>Eastern Metropolitan</th>\n",
       "      <th>Eastern Victoria</th>\n",
       "      <th>Northern Metropolitan</th>\n",
       "      <th>Northern Victoria</th>\n",
       "      <th>South-Eastern Metropolitan</th>\n",
       "      <th>Southern Metropolitan</th>\n",
       "      <th>Western Metropolitan</th>\n",
       "      <th>Western Victoria</th>\n",
       "    </tr>\n",
       "    <tr>\n",
       "      <th>Type</th>\n",
       "      <th></th>\n",
       "      <th></th>\n",
       "      <th></th>\n",
       "      <th></th>\n",
       "      <th></th>\n",
       "      <th></th>\n",
       "      <th></th>\n",
       "      <th></th>\n",
       "    </tr>\n",
       "  </thead>\n",
       "  <tbody>\n",
       "    <tr>\n",
       "      <th>h</th>\n",
       "      <td>75.0</td>\n",
       "      <td>3.0</td>\n",
       "      <td>105.0</td>\n",
       "      <td>2.0</td>\n",
       "      <td>38.0</td>\n",
       "      <td>68.0</td>\n",
       "      <td>65.0</td>\n",
       "      <td>1.0</td>\n",
       "    </tr>\n",
       "    <tr>\n",
       "      <th>t</th>\n",
       "      <td>8.0</td>\n",
       "      <td>NaN</td>\n",
       "      <td>15.0</td>\n",
       "      <td>NaN</td>\n",
       "      <td>4.0</td>\n",
       "      <td>14.0</td>\n",
       "      <td>7.0</td>\n",
       "      <td>NaN</td>\n",
       "    </tr>\n",
       "    <tr>\n",
       "      <th>u</th>\n",
       "      <td>7.0</td>\n",
       "      <td>NaN</td>\n",
       "      <td>29.0</td>\n",
       "      <td>NaN</td>\n",
       "      <td>5.0</td>\n",
       "      <td>45.0</td>\n",
       "      <td>9.0</td>\n",
       "      <td>NaN</td>\n",
       "    </tr>\n",
       "  </tbody>\n",
       "</table>\n",
       "</div>"
      ],
      "text/plain": [
       "Regionname  Eastern Metropolitan  Eastern Victoria  Northern Metropolitan  \\\n",
       "Type                                                                        \n",
       "h                           75.0               3.0                  105.0   \n",
       "t                            8.0               NaN                   15.0   \n",
       "u                            7.0               NaN                   29.0   \n",
       "\n",
       "Regionname  Northern Victoria  South-Eastern Metropolitan  \\\n",
       "Type                                                        \n",
       "h                         2.0                        38.0   \n",
       "t                         NaN                         4.0   \n",
       "u                         NaN                         5.0   \n",
       "\n",
       "Regionname  Southern Metropolitan  Western Metropolitan  Western Victoria  \n",
       "Type                                                                       \n",
       "h                            68.0                  65.0               1.0  \n",
       "t                            14.0                   7.0               NaN  \n",
       "u                            45.0                   9.0               NaN  "
      ]
     },
     "execution_count": 29,
     "metadata": {},
     "output_type": "execute_result"
    }
   ],
   "source": [
    "type_region.size().unstack()\n"
   ]
  },
  {
   "cell_type": "code",
   "execution_count": 30,
   "metadata": {},
   "outputs": [
    {
     "data": {
      "text/plain": [
       "pandas.core.frame.DataFrame"
      ]
     },
     "execution_count": 30,
     "metadata": {},
     "output_type": "execute_result"
    }
   ],
   "source": [
    "type(type_region.size().unstack())"
   ]
  },
  {
   "cell_type": "markdown",
   "metadata": {},
   "source": [
    "<h2>This is not that unreadable... </h2>"
   ]
  },
  {
   "cell_type": "markdown",
   "metadata": {},
   "source": [
    "<h3>We can unstack the groups so that we get region by type of property</h3>"
   ]
  },
  {
   "cell_type": "code",
   "execution_count": 31,
   "metadata": {},
   "outputs": [
    {
     "data": {
      "text/plain": [
       "<AxesSubplot:xlabel='Type'>"
      ]
     },
     "execution_count": 31,
     "metadata": {},
     "output_type": "execute_result"
    },
    {
     "data": {
      "image/png": "[encoded data removed]",
      "text/plain": [
       "<Figure size 432x288 with 1 Axes>"
      ]
     },
     "metadata": {
      "needs_background": "light"
     },
     "output_type": "display_data"
    }
   ],
   "source": [
    "type_region.size().unstack().plot(kind='bar')"
   ]
  },
  {
   "cell_type": "markdown",
   "metadata": {},
   "source": [
    "<h3>Increase the size of the image and add a title</h3>"
   ]
  },
  {
   "cell_type": "code",
   "execution_count": 32,
   "metadata": {},
   "outputs": [
    {
     "data": {
      "text/plain": [
       "<AxesSubplot:title={'center':'Sales in each region by type'}, xlabel='Type'>"
      ]
     },
     "execution_count": 32,
     "metadata": {},
     "output_type": "execute_result"
    },
    {
     "data": {
      "image/png": "[encoded data removed]",
      "text/plain": [
       "<Figure size 1080x1080 with 1 Axes>"
      ]
     },
     "metadata": {
      "needs_background": "light"
     },
     "output_type": "display_data"
    }
   ],
   "source": [
    "\n",
    "Type_region = data.groupby(['Type','Regionname'])\n",
    "Type_region.size().unstack().plot(kind='bar',title=\"Sales in each region by type\",figsize=(15,15))\n"
   ]
  },
  {
   "cell_type": "markdown",
   "metadata": {},
   "source": [
    "<h1>Digression: The pandas groupby function</h1>"
   ]
  },
  {
   "cell_type": "markdown",
   "metadata": {},
   "source": [
    "<h4>You can use functions to group data</h4>"
   ]
  },
  {
   "cell_type": "code",
   "execution_count": 33,
   "metadata": {},
   "outputs": [],
   "source": [
    "import pandas as pd\n",
    "writers = pd.DataFrame({'Author':['George Orwell','John Steinbeck',\n",
    "                                  'Pearl Buck','Agatha Christie'],\n",
    "                        'Country':['UK','USA','USA','UK'],\n",
    "                        'Gender':['M','M','F','F'],\n",
    "                        'Age':[46,66,80,85]})\n",
    "                        \n"
   ]
  },
  {
   "cell_type": "code",
   "execution_count": 34,
   "metadata": {},
   "outputs": [
    {
     "data": {
      "text/html": [
       "<div>\n",
       "<style scoped>\n",
       "    .dataframe tbody tr th:only-of-type {\n",
       "        vertical-align: middle;\n",
       "    }\n",
       "\n",
       "    .dataframe tbody tr th {\n",
       "        vertical-align: top;\n",
       "    }\n",
       "\n",
       "    .dataframe thead th {\n",
       "        text-align: right;\n",
       "    }\n",
       "</style>\n",
       "<table border=\"1\" class=\"dataframe\">\n",
       "  <thead>\n",
       "    <tr style=\"text-align: right;\">\n",
       "      <th></th>\n",
       "      <th>Author</th>\n",
       "      <th>Country</th>\n",
       "      <th>Gender</th>\n",
       "      <th>Age</th>\n",
       "    </tr>\n",
       "  </thead>\n",
       "  <tbody>\n",
       "    <tr>\n",
       "      <th>0</th>\n",
       "      <td>George Orwell</td>\n",
       "      <td>UK</td>\n",
       "      <td>M</td>\n",
       "      <td>46</td>\n",
       "    </tr>\n",
       "    <tr>\n",
       "      <th>1</th>\n",
       "      <td>John Steinbeck</td>\n",
       "      <td>USA</td>\n",
       "      <td>M</td>\n",
       "      <td>66</td>\n",
       "    </tr>\n",
       "    <tr>\n",
       "      <th>2</th>\n",
       "      <td>Pearl Buck</td>\n",
       "      <td>USA</td>\n",
       "      <td>F</td>\n",
       "      <td>80</td>\n",
       "    </tr>\n",
       "    <tr>\n",
       "      <th>3</th>\n",
       "      <td>Agatha Christie</td>\n",
       "      <td>UK</td>\n",
       "      <td>F</td>\n",
       "      <td>85</td>\n",
       "    </tr>\n",
       "  </tbody>\n",
       "</table>\n",
       "</div>"
      ],
      "text/plain": [
       "            Author Country Gender  Age\n",
       "0    George Orwell      UK      M   46\n",
       "1   John Steinbeck     USA      M   66\n",
       "2       Pearl Buck     USA      F   80\n",
       "3  Agatha Christie      UK      F   85"
      ]
     },
     "execution_count": 34,
     "metadata": {},
     "output_type": "execute_result"
    }
   ],
   "source": [
    "writers"
   ]
  },
  {
   "cell_type": "markdown",
   "metadata": {},
   "source": [
    "<h4>Group by country</h4>"
   ]
  },
  {
   "cell_type": "code",
   "execution_count": 35,
   "metadata": {},
   "outputs": [
    {
     "data": {
      "text/plain": [
       "pandas.core.groupby.generic.DataFrameGroupBy"
      ]
     },
     "execution_count": 35,
     "metadata": {},
     "output_type": "execute_result"
    }
   ],
   "source": [
    "grouped = writers.groupby('Country')\n",
    "\n",
    "type(grouped)"
   ]
  },
  {
   "cell_type": "code",
   "execution_count": 36,
   "metadata": {},
   "outputs": [
    {
     "data": {
      "text/html": [
       "<div>\n",
       "<style scoped>\n",
       "    .dataframe tbody tr th:only-of-type {\n",
       "        vertical-align: middle;\n",
       "    }\n",
       "\n",
       "    .dataframe tbody tr th {\n",
       "        vertical-align: top;\n",
       "    }\n",
       "\n",
       "    .dataframe thead th {\n",
       "        text-align: right;\n",
       "    }\n",
       "</style>\n",
       "<table border=\"1\" class=\"dataframe\">\n",
       "  <thead>\n",
       "    <tr style=\"text-align: right;\">\n",
       "      <th></th>\n",
       "      <th>Author</th>\n",
       "      <th>Gender</th>\n",
       "      <th>Age</th>\n",
       "    </tr>\n",
       "    <tr>\n",
       "      <th>Country</th>\n",
       "      <th></th>\n",
       "      <th></th>\n",
       "      <th></th>\n",
       "    </tr>\n",
       "  </thead>\n",
       "  <tbody>\n",
       "    <tr>\n",
       "      <th>UK</th>\n",
       "      <td>George Orwell</td>\n",
       "      <td>M</td>\n",
       "      <td>46</td>\n",
       "    </tr>\n",
       "    <tr>\n",
       "      <th>USA</th>\n",
       "      <td>John Steinbeck</td>\n",
       "      <td>M</td>\n",
       "      <td>66</td>\n",
       "    </tr>\n",
       "  </tbody>\n",
       "</table>\n",
       "</div>"
      ],
      "text/plain": [
       "                 Author Gender  Age\n",
       "Country                            \n",
       "UK        George Orwell      M   46\n",
       "USA      John Steinbeck      M   66"
      ]
     },
     "execution_count": 36,
     "metadata": {},
     "output_type": "execute_result"
    }
   ],
   "source": [
    "grouped.first()\n"
   ]
  },
  {
   "cell_type": "code",
   "execution_count": 37,
   "metadata": {},
   "outputs": [
    {
     "data": {
      "text/html": [
       "<div>\n",
       "<style scoped>\n",
       "    .dataframe tbody tr th:only-of-type {\n",
       "        vertical-align: middle;\n",
       "    }\n",
       "\n",
       "    .dataframe tbody tr th {\n",
       "        vertical-align: top;\n",
       "    }\n",
       "\n",
       "    .dataframe thead th {\n",
       "        text-align: right;\n",
       "    }\n",
       "</style>\n",
       "<table border=\"1\" class=\"dataframe\">\n",
       "  <thead>\n",
       "    <tr style=\"text-align: right;\">\n",
       "      <th></th>\n",
       "      <th>Author</th>\n",
       "      <th>Gender</th>\n",
       "      <th>Age</th>\n",
       "    </tr>\n",
       "    <tr>\n",
       "      <th>Country</th>\n",
       "      <th></th>\n",
       "      <th></th>\n",
       "      <th></th>\n",
       "    </tr>\n",
       "  </thead>\n",
       "  <tbody>\n",
       "    <tr>\n",
       "      <th>UK</th>\n",
       "      <td>Agatha Christie</td>\n",
       "      <td>F</td>\n",
       "      <td>85</td>\n",
       "    </tr>\n",
       "    <tr>\n",
       "      <th>USA</th>\n",
       "      <td>Pearl Buck</td>\n",
       "      <td>F</td>\n",
       "      <td>80</td>\n",
       "    </tr>\n",
       "  </tbody>\n",
       "</table>\n",
       "</div>"
      ],
      "text/plain": [
       "                  Author Gender  Age\n",
       "Country                             \n",
       "UK       Agatha Christie      F   85\n",
       "USA           Pearl Buck      F   80"
      ]
     },
     "execution_count": 37,
     "metadata": {},
     "output_type": "execute_result"
    }
   ],
   "source": [
    "grouped.last()\n"
   ]
  },
  {
   "cell_type": "code",
   "execution_count": 38,
   "metadata": {},
   "outputs": [
    {
     "data": {
      "text/html": [
       "<div>\n",
       "<style scoped>\n",
       "    .dataframe tbody tr th:only-of-type {\n",
       "        vertical-align: middle;\n",
       "    }\n",
       "\n",
       "    .dataframe tbody tr th {\n",
       "        vertical-align: top;\n",
       "    }\n",
       "\n",
       "    .dataframe thead th {\n",
       "        text-align: right;\n",
       "    }\n",
       "</style>\n",
       "<table border=\"1\" class=\"dataframe\">\n",
       "  <thead>\n",
       "    <tr style=\"text-align: right;\">\n",
       "      <th></th>\n",
       "      <th>Age</th>\n",
       "    </tr>\n",
       "    <tr>\n",
       "      <th>Country</th>\n",
       "      <th></th>\n",
       "    </tr>\n",
       "  </thead>\n",
       "  <tbody>\n",
       "    <tr>\n",
       "      <th>UK</th>\n",
       "      <td>131</td>\n",
       "    </tr>\n",
       "    <tr>\n",
       "      <th>USA</th>\n",
       "      <td>146</td>\n",
       "    </tr>\n",
       "  </tbody>\n",
       "</table>\n",
       "</div>"
      ],
      "text/plain": [
       "         Age\n",
       "Country     \n",
       "UK       131\n",
       "USA      146"
      ]
     },
     "execution_count": 38,
     "metadata": {},
     "output_type": "execute_result"
    }
   ],
   "source": [
    " grouped.sum()\n",
    "# grouped.mean()"
   ]
  },
  {
   "cell_type": "code",
   "execution_count": 39,
   "metadata": {},
   "outputs": [
    {
     "data": {
      "text/html": [
       "<div>\n",
       "<style scoped>\n",
       "    .dataframe tbody tr th:only-of-type {\n",
       "        vertical-align: middle;\n",
       "    }\n",
       "\n",
       "    .dataframe tbody tr th {\n",
       "        vertical-align: top;\n",
       "    }\n",
       "\n",
       "    .dataframe thead th {\n",
       "        text-align: right;\n",
       "    }\n",
       "</style>\n",
       "<table border=\"1\" class=\"dataframe\">\n",
       "  <thead>\n",
       "    <tr style=\"text-align: right;\">\n",
       "      <th></th>\n",
       "      <th>Author</th>\n",
       "      <th>Country</th>\n",
       "      <th>Gender</th>\n",
       "      <th>Age</th>\n",
       "    </tr>\n",
       "    <tr>\n",
       "      <th>Country</th>\n",
       "      <th></th>\n",
       "      <th></th>\n",
       "      <th></th>\n",
       "      <th></th>\n",
       "    </tr>\n",
       "  </thead>\n",
       "  <tbody>\n",
       "    <tr>\n",
       "      <th>UK</th>\n",
       "      <td>George OrwellAgatha Christie</td>\n",
       "      <td>UKUK</td>\n",
       "      <td>MF</td>\n",
       "      <td>131</td>\n",
       "    </tr>\n",
       "    <tr>\n",
       "      <th>USA</th>\n",
       "      <td>John SteinbeckPearl Buck</td>\n",
       "      <td>USAUSA</td>\n",
       "      <td>MF</td>\n",
       "      <td>146</td>\n",
       "    </tr>\n",
       "  </tbody>\n",
       "</table>\n",
       "</div>"
      ],
      "text/plain": [
       "                               Author Country Gender  Age\n",
       "Country                                                  \n",
       "UK       George OrwellAgatha Christie    UKUK     MF  131\n",
       "USA          John SteinbeckPearl Buck  USAUSA     MF  146"
      ]
     },
     "execution_count": 39,
     "metadata": {},
     "output_type": "execute_result"
    }
   ],
   "source": [
    "grouped.apply(sum)"
   ]
  },
  {
   "cell_type": "code",
   "execution_count": 40,
   "metadata": {},
   "outputs": [
    {
     "data": {
      "text/plain": [
       "{'UK': [0, 3], 'USA': [1, 2]}"
      ]
     },
     "execution_count": 40,
     "metadata": {},
     "output_type": "execute_result"
    }
   ],
   "source": [
    "(grouped.groups)"
   ]
  },
  {
   "cell_type": "markdown",
   "metadata": {},
   "source": [
    "<h4>Group by multiple columns</h4>"
   ]
  },
  {
   "cell_type": "code",
   "execution_count": 60,
   "metadata": {},
   "outputs": [
    {
     "data": {
      "text/plain": [
       "{('UK', 'F'): [3], ('UK', 'M'): [0], ('USA', 'F'): [2], ('USA', 'M'): [1]}"
      ]
     },
     "execution_count": 60,
     "metadata": {},
     "output_type": "execute_result"
    }
   ],
   "source": [
    "grouped = writers.groupby(['Country','Gender'])\n",
    "grouped.groups"
   ]
  },
  {
   "cell_type": "markdown",
   "metadata": {},
   "source": [
    "<h2>Grouping by the values in a column</h2>\n",
    "<h3>For example, grouping the data by values in a column that are greater than or less than zero</h3>"
   ]
  },
  {
   "cell_type": "code",
   "execution_count": 42,
   "metadata": {},
   "outputs": [
    {
     "data": {
      "text/html": [
       "<div>\n",
       "<style scoped>\n",
       "    .dataframe tbody tr th:only-of-type {\n",
       "        vertical-align: middle;\n",
       "    }\n",
       "\n",
       "    .dataframe tbody tr th {\n",
       "        vertical-align: top;\n",
       "    }\n",
       "\n",
       "    .dataframe thead th {\n",
       "        text-align: right;\n",
       "    }\n",
       "</style>\n",
       "<table border=\"1\" class=\"dataframe\">\n",
       "  <thead>\n",
       "    <tr style=\"text-align: right;\">\n",
       "      <th></th>\n",
       "      <th>a</th>\n",
       "      <th>b</th>\n",
       "      <th>c</th>\n",
       "      <th>d</th>\n",
       "      <th>e</th>\n",
       "    </tr>\n",
       "  </thead>\n",
       "  <tbody>\n",
       "    <tr>\n",
       "      <th>Joe</th>\n",
       "      <td>-1.081466</td>\n",
       "      <td>-0.170923</td>\n",
       "      <td>0.562470</td>\n",
       "      <td>-0.176624</td>\n",
       "      <td>-0.972171</td>\n",
       "    </tr>\n",
       "    <tr>\n",
       "      <th>Steve</th>\n",
       "      <td>1.541241</td>\n",
       "      <td>-0.461059</td>\n",
       "      <td>-0.664048</td>\n",
       "      <td>0.604503</td>\n",
       "      <td>2.501433</td>\n",
       "    </tr>\n",
       "    <tr>\n",
       "      <th>Wes</th>\n",
       "      <td>-1.351407</td>\n",
       "      <td>-0.877176</td>\n",
       "      <td>0.734008</td>\n",
       "      <td>-1.465529</td>\n",
       "      <td>-0.085221</td>\n",
       "    </tr>\n",
       "    <tr>\n",
       "      <th>Jim</th>\n",
       "      <td>0.275389</td>\n",
       "      <td>0.120855</td>\n",
       "      <td>0.351002</td>\n",
       "      <td>-0.851645</td>\n",
       "      <td>-1.264274</td>\n",
       "    </tr>\n",
       "    <tr>\n",
       "      <th>Travis</th>\n",
       "      <td>-0.037308</td>\n",
       "      <td>0.201714</td>\n",
       "      <td>2.189403</td>\n",
       "      <td>0.006058</td>\n",
       "      <td>-1.386643</td>\n",
       "    </tr>\n",
       "  </tbody>\n",
       "</table>\n",
       "</div>"
      ],
      "text/plain": [
       "               a         b         c         d         e\n",
       "Joe    -1.081466 -0.170923  0.562470 -0.176624 -0.972171\n",
       "Steve   1.541241 -0.461059 -0.664048  0.604503  2.501433\n",
       "Wes    -1.351407 -0.877176  0.734008 -1.465529 -0.085221\n",
       "Jim     0.275389  0.120855  0.351002 -0.851645 -1.264274\n",
       "Travis -0.037308  0.201714  2.189403  0.006058 -1.386643"
      ]
     },
     "execution_count": 42,
     "metadata": {},
     "output_type": "execute_result"
    }
   ],
   "source": [
    "import numpy as np\n",
    "people = pd.DataFrame(np.random.randn(5, 5), columns=['a', 'b', 'c', 'd', 'e'], index=['Joe', 'Steve', 'Wes', 'Jim', 'Travis'])\n",
    "people"
   ]
  },
  {
   "cell_type": "code",
   "execution_count": 44,
   "metadata": {},
   "outputs": [
    {
     "data": {
      "text/html": [
       "<div>\n",
       "<style scoped>\n",
       "    .dataframe tbody tr th:only-of-type {\n",
       "        vertical-align: middle;\n",
       "    }\n",
       "\n",
       "    .dataframe tbody tr th {\n",
       "        vertical-align: top;\n",
       "    }\n",
       "\n",
       "    .dataframe thead th {\n",
       "        text-align: right;\n",
       "    }\n",
       "</style>\n",
       "<table border=\"1\" class=\"dataframe\">\n",
       "  <thead>\n",
       "    <tr style=\"text-align: right;\">\n",
       "      <th></th>\n",
       "      <th>a</th>\n",
       "      <th>b</th>\n",
       "      <th>c</th>\n",
       "      <th>d</th>\n",
       "      <th>e</th>\n",
       "      <th>grp</th>\n",
       "    </tr>\n",
       "  </thead>\n",
       "  <tbody>\n",
       "    <tr>\n",
       "      <th>Joe</th>\n",
       "      <td>-1.081466</td>\n",
       "      <td>-0.170923</td>\n",
       "      <td>0.562470</td>\n",
       "      <td>-0.176624</td>\n",
       "      <td>-0.972171</td>\n",
       "      <td>Group2</td>\n",
       "    </tr>\n",
       "    <tr>\n",
       "      <th>Steve</th>\n",
       "      <td>1.541241</td>\n",
       "      <td>-0.461059</td>\n",
       "      <td>-0.664048</td>\n",
       "      <td>0.604503</td>\n",
       "      <td>2.501433</td>\n",
       "      <td>Group1</td>\n",
       "    </tr>\n",
       "    <tr>\n",
       "      <th>Wes</th>\n",
       "      <td>-1.351407</td>\n",
       "      <td>-0.877176</td>\n",
       "      <td>0.734008</td>\n",
       "      <td>-1.465529</td>\n",
       "      <td>-0.085221</td>\n",
       "      <td>Group2</td>\n",
       "    </tr>\n",
       "    <tr>\n",
       "      <th>Jim</th>\n",
       "      <td>0.275389</td>\n",
       "      <td>0.120855</td>\n",
       "      <td>0.351002</td>\n",
       "      <td>-0.851645</td>\n",
       "      <td>-1.264274</td>\n",
       "      <td>Group1</td>\n",
       "    </tr>\n",
       "    <tr>\n",
       "      <th>Travis</th>\n",
       "      <td>-0.037308</td>\n",
       "      <td>0.201714</td>\n",
       "      <td>2.189403</td>\n",
       "      <td>0.006058</td>\n",
       "      <td>-1.386643</td>\n",
       "      <td>Group2</td>\n",
       "    </tr>\n",
       "  </tbody>\n",
       "</table>\n",
       "</div>"
      ],
      "text/plain": [
       "               a         b         c         d         e     grp\n",
       "Joe    -1.081466 -0.170923  0.562470 -0.176624 -0.972171  Group2\n",
       "Steve   1.541241 -0.461059 -0.664048  0.604503  2.501433  Group1\n",
       "Wes    -1.351407 -0.877176  0.734008 -1.465529 -0.085221  Group2\n",
       "Jim     0.275389  0.120855  0.351002 -0.851645 -1.264274  Group1\n",
       "Travis -0.037308  0.201714  2.189403  0.006058 -1.386643  Group2"
      ]
     },
     "execution_count": 44,
     "metadata": {},
     "output_type": "execute_result"
    }
   ],
   "source": [
    "people['grp'] = people['a'].apply(lambda x: 'Group1' if x>0 else 'Group2')\n",
    "people"
   ]
  },
  {
   "cell_type": "markdown",
   "metadata": {},
   "source": [
    "<h3>Write a function that takes three arguments - a dataframe, an index, and a column name and returns the grouping for that row</h3>"
   ]
  },
  {
   "cell_type": "code",
   "execution_count": 127,
   "metadata": {},
   "outputs": [],
   "source": [
    "# def GroupColFunc(df, ind, col):\n",
    "#     if df[col].loc[ind] > 0:\n",
    "#         return 'Group1'\n",
    "#     else:\n",
    "#         return 'Group2'\n",
    "    \n",
    "# people.groupby(lambda x: GroupColFunc(people, x, 'a')).groups"
   ]
  },
  {
   "cell_type": "code",
   "execution_count": 45,
   "metadata": {},
   "outputs": [
    {
     "data": {
      "text/plain": [
       "{'Group1': ['Steve', 'Jim'], 'Group2': ['Joe', 'Wes', 'Travis']}"
      ]
     },
     "execution_count": 45,
     "metadata": {},
     "output_type": "execute_result"
    }
   ],
   "source": [
    "people.groupby('grp').groups"
   ]
  },
  {
   "cell_type": "markdown",
   "metadata": {},
   "source": [
    "<h2>Now we can compute stats on these groups</h2>"
   ]
  },
  {
   "cell_type": "code",
   "execution_count": 46,
   "metadata": {
    "scrolled": true
   },
   "outputs": [
    {
     "name": "stdout",
     "output_type": "stream",
     "text": [
      "               a         b         c         d         e\n",
      "grp                                                     \n",
      "Group1  0.908315 -0.170102 -0.156523 -0.123571  0.618580\n",
      "Group2 -0.823394 -0.282128  1.161960 -0.545365 -0.814678\n"
     ]
    }
   ],
   "source": [
    "print(people.groupby('grp').mean())\n"
   ]
  },
  {
   "cell_type": "code",
   "execution_count": 47,
   "metadata": {},
   "outputs": [
    {
     "name": "stdout",
     "output_type": "stream",
     "text": [
      "               a         b         c         d         e\n",
      "grp                                                     \n",
      "Group1  0.895093  0.411475  0.717749  1.029652  2.662757\n",
      "Group2  0.694021  0.547974  0.893916  0.802103  0.664852\n"
     ]
    }
   ],
   "source": [
    "print(people.groupby('grp').std())"
   ]
  },
  {
   "cell_type": "markdown",
   "metadata": {},
   "source": [
    "## Handling Time"
   ]
  },
  {
   "cell_type": "markdown",
   "metadata": {},
   "source": [
    "<h3>We'll start by creating a new date field yyyymm"
   ]
  },
  {
   "cell_type": "code",
   "execution_count": 48,
   "metadata": {},
   "outputs": [
    {
     "data": {
      "text/html": [
       "<div>\n",
       "<style scoped>\n",
       "    .dataframe tbody tr th:only-of-type {\n",
       "        vertical-align: middle;\n",
       "    }\n",
       "\n",
       "    .dataframe tbody tr th {\n",
       "        vertical-align: top;\n",
       "    }\n",
       "\n",
       "    .dataframe thead th {\n",
       "        text-align: right;\n",
       "    }\n",
       "</style>\n",
       "<table border=\"1\" class=\"dataframe\">\n",
       "  <thead>\n",
       "    <tr style=\"text-align: right;\">\n",
       "      <th></th>\n",
       "      <th>Suburb</th>\n",
       "      <th>Address</th>\n",
       "      <th>Rooms</th>\n",
       "      <th>Type</th>\n",
       "      <th>Price</th>\n",
       "      <th>Method</th>\n",
       "      <th>SellerG</th>\n",
       "      <th>Date</th>\n",
       "      <th>Postcode</th>\n",
       "      <th>Regionname</th>\n",
       "      <th>Propertycount</th>\n",
       "      <th>Distance</th>\n",
       "      <th>CouncilArea</th>\n",
       "      <th>Avg_room_num</th>\n",
       "      <th>Rel_room_num</th>\n",
       "    </tr>\n",
       "  </thead>\n",
       "  <tbody>\n",
       "    <tr>\n",
       "      <th>0</th>\n",
       "      <td>Abbotsford</td>\n",
       "      <td>49 Lithgow St</td>\n",
       "      <td>3</td>\n",
       "      <td>h</td>\n",
       "      <td>1490000.0</td>\n",
       "      <td>S</td>\n",
       "      <td>Jellis</td>\n",
       "      <td>2017-04-01</td>\n",
       "      <td>3067</td>\n",
       "      <td>Northern Metropolitan</td>\n",
       "      <td>4019</td>\n",
       "      <td>3.0</td>\n",
       "      <td>Yarra City Council</td>\n",
       "      <td>2.346970</td>\n",
       "      <td>1.278244</td>\n",
       "    </tr>\n",
       "    <tr>\n",
       "      <th>1</th>\n",
       "      <td>Abbotsford</td>\n",
       "      <td>59A Turner St</td>\n",
       "      <td>3</td>\n",
       "      <td>h</td>\n",
       "      <td>1220000.0</td>\n",
       "      <td>S</td>\n",
       "      <td>Marshall</td>\n",
       "      <td>2017-04-01</td>\n",
       "      <td>3067</td>\n",
       "      <td>Northern Metropolitan</td>\n",
       "      <td>4019</td>\n",
       "      <td>3.0</td>\n",
       "      <td>Yarra City Council</td>\n",
       "      <td>2.346970</td>\n",
       "      <td>1.278244</td>\n",
       "    </tr>\n",
       "    <tr>\n",
       "      <th>2</th>\n",
       "      <td>Abbotsford</td>\n",
       "      <td>119B Yarra St</td>\n",
       "      <td>3</td>\n",
       "      <td>h</td>\n",
       "      <td>1420000.0</td>\n",
       "      <td>S</td>\n",
       "      <td>Nelson</td>\n",
       "      <td>2017-04-01</td>\n",
       "      <td>3067</td>\n",
       "      <td>Northern Metropolitan</td>\n",
       "      <td>4019</td>\n",
       "      <td>3.0</td>\n",
       "      <td>Yarra City Council</td>\n",
       "      <td>2.346970</td>\n",
       "      <td>1.278244</td>\n",
       "    </tr>\n",
       "    <tr>\n",
       "      <th>3</th>\n",
       "      <td>Aberfeldie</td>\n",
       "      <td>68 Vida St</td>\n",
       "      <td>3</td>\n",
       "      <td>h</td>\n",
       "      <td>1515000.0</td>\n",
       "      <td>S</td>\n",
       "      <td>Barry</td>\n",
       "      <td>2017-04-01</td>\n",
       "      <td>3040</td>\n",
       "      <td>Western Metropolitan</td>\n",
       "      <td>1543</td>\n",
       "      <td>7.5</td>\n",
       "      <td>Moonee Valley City Council</td>\n",
       "      <td>3.003236</td>\n",
       "      <td>0.998922</td>\n",
       "    </tr>\n",
       "    <tr>\n",
       "      <th>4</th>\n",
       "      <td>Airport West</td>\n",
       "      <td>92 Clydesdale Rd</td>\n",
       "      <td>2</td>\n",
       "      <td>h</td>\n",
       "      <td>670000.0</td>\n",
       "      <td>S</td>\n",
       "      <td>Nelson</td>\n",
       "      <td>2017-04-01</td>\n",
       "      <td>3042</td>\n",
       "      <td>Western Metropolitan</td>\n",
       "      <td>3464</td>\n",
       "      <td>10.4</td>\n",
       "      <td>Moonee Valley City Council</td>\n",
       "      <td>3.003236</td>\n",
       "      <td>0.665948</td>\n",
       "    </tr>\n",
       "    <tr>\n",
       "      <th>...</th>\n",
       "      <td>...</td>\n",
       "      <td>...</td>\n",
       "      <td>...</td>\n",
       "      <td>...</td>\n",
       "      <td>...</td>\n",
       "      <td>...</td>\n",
       "      <td>...</td>\n",
       "      <td>...</td>\n",
       "      <td>...</td>\n",
       "      <td>...</td>\n",
       "      <td>...</td>\n",
       "      <td>...</td>\n",
       "      <td>...</td>\n",
       "      <td>...</td>\n",
       "      <td>...</td>\n",
       "    </tr>\n",
       "    <tr>\n",
       "      <th>63016</th>\n",
       "      <td>Frankston</td>\n",
       "      <td>4/34 Petrie St</td>\n",
       "      <td>2</td>\n",
       "      <td>u</td>\n",
       "      <td>347700.0</td>\n",
       "      <td>SP</td>\n",
       "      <td>Aquire</td>\n",
       "      <td>2018-03-31</td>\n",
       "      <td>3199</td>\n",
       "      <td>South-Eastern Metropolitan</td>\n",
       "      <td>17055</td>\n",
       "      <td>38.0</td>\n",
       "      <td>Frankston City Council</td>\n",
       "      <td>3.257622</td>\n",
       "      <td>0.613945</td>\n",
       "    </tr>\n",
       "    <tr>\n",
       "      <th>63017</th>\n",
       "      <td>Preston</td>\n",
       "      <td>229 Murray Rd</td>\n",
       "      <td>3</td>\n",
       "      <td>h</td>\n",
       "      <td>808000.0</td>\n",
       "      <td>S</td>\n",
       "      <td>RW</td>\n",
       "      <td>2018-03-31</td>\n",
       "      <td>3072</td>\n",
       "      <td>Northern Metropolitan</td>\n",
       "      <td>14577</td>\n",
       "      <td>8.4</td>\n",
       "      <td>Darebin City Council</td>\n",
       "      <td>2.781051</td>\n",
       "      <td>1.078729</td>\n",
       "    </tr>\n",
       "    <tr>\n",
       "      <th>63018</th>\n",
       "      <td>Roxburgh Park</td>\n",
       "      <td>3 Carr Pl</td>\n",
       "      <td>3</td>\n",
       "      <td>h</td>\n",
       "      <td>566000.0</td>\n",
       "      <td>S</td>\n",
       "      <td>Raine</td>\n",
       "      <td>2018-03-31</td>\n",
       "      <td>3064</td>\n",
       "      <td>Northern Metropolitan</td>\n",
       "      <td>5833</td>\n",
       "      <td>20.6</td>\n",
       "      <td>Hume City Council</td>\n",
       "      <td>3.386431</td>\n",
       "      <td>0.885889</td>\n",
       "    </tr>\n",
       "    <tr>\n",
       "      <th>63019</th>\n",
       "      <td>Roxburgh Park</td>\n",
       "      <td>9 Parker Ct</td>\n",
       "      <td>3</td>\n",
       "      <td>h</td>\n",
       "      <td>500000.0</td>\n",
       "      <td>S</td>\n",
       "      <td>Raine</td>\n",
       "      <td>2018-03-31</td>\n",
       "      <td>3064</td>\n",
       "      <td>Northern Metropolitan</td>\n",
       "      <td>5833</td>\n",
       "      <td>20.6</td>\n",
       "      <td>Hume City Council</td>\n",
       "      <td>3.386431</td>\n",
       "      <td>0.885889</td>\n",
       "    </tr>\n",
       "    <tr>\n",
       "      <th>63020</th>\n",
       "      <td>Roxburgh Park</td>\n",
       "      <td>5 Parkinson Wy</td>\n",
       "      <td>3</td>\n",
       "      <td>h</td>\n",
       "      <td>545000.0</td>\n",
       "      <td>S</td>\n",
       "      <td>Raine</td>\n",
       "      <td>2018-03-31</td>\n",
       "      <td>3064</td>\n",
       "      <td>Northern Metropolitan</td>\n",
       "      <td>5833</td>\n",
       "      <td>20.6</td>\n",
       "      <td>Hume City Council</td>\n",
       "      <td>3.386431</td>\n",
       "      <td>0.885889</td>\n",
       "    </tr>\n",
       "  </tbody>\n",
       "</table>\n",
       "<p>48432 rows × 15 columns</p>\n",
       "</div>"
      ],
      "text/plain": [
       "              Suburb           Address  Rooms Type      Price Method  \\\n",
       "0         Abbotsford     49 Lithgow St      3    h  1490000.0      S   \n",
       "1         Abbotsford     59A Turner St      3    h  1220000.0      S   \n",
       "2         Abbotsford     119B Yarra St      3    h  1420000.0      S   \n",
       "3         Aberfeldie        68 Vida St      3    h  1515000.0      S   \n",
       "4       Airport West  92 Clydesdale Rd      2    h   670000.0      S   \n",
       "...              ...               ...    ...  ...        ...    ...   \n",
       "63016      Frankston    4/34 Petrie St      2    u   347700.0     SP   \n",
       "63017        Preston     229 Murray Rd      3    h   808000.0      S   \n",
       "63018  Roxburgh Park         3 Carr Pl      3    h   566000.0      S   \n",
       "63019  Roxburgh Park       9 Parker Ct      3    h   500000.0      S   \n",
       "63020  Roxburgh Park    5 Parkinson Wy      3    h   545000.0      S   \n",
       "\n",
       "        SellerG       Date Postcode                  Regionname  \\\n",
       "0        Jellis 2017-04-01     3067       Northern Metropolitan   \n",
       "1      Marshall 2017-04-01     3067       Northern Metropolitan   \n",
       "2        Nelson 2017-04-01     3067       Northern Metropolitan   \n",
       "3         Barry 2017-04-01     3040        Western Metropolitan   \n",
       "4        Nelson 2017-04-01     3042        Western Metropolitan   \n",
       "...         ...        ...      ...                         ...   \n",
       "63016    Aquire 2018-03-31     3199  South-Eastern Metropolitan   \n",
       "63017        RW 2018-03-31     3072       Northern Metropolitan   \n",
       "63018     Raine 2018-03-31     3064       Northern Metropolitan   \n",
       "63019     Raine 2018-03-31     3064       Northern Metropolitan   \n",
       "63020     Raine 2018-03-31     3064       Northern Metropolitan   \n",
       "\n",
       "       Propertycount  Distance                 CouncilArea  Avg_room_num  \\\n",
       "0               4019       3.0          Yarra City Council      2.346970   \n",
       "1               4019       3.0          Yarra City Council      2.346970   \n",
       "2               4019       3.0          Yarra City Council      2.346970   \n",
       "3               1543       7.5  Moonee Valley City Council      3.003236   \n",
       "4               3464      10.4  Moonee Valley City Council      3.003236   \n",
       "...              ...       ...                         ...           ...   \n",
       "63016          17055      38.0      Frankston City Council      3.257622   \n",
       "63017          14577       8.4        Darebin City Council      2.781051   \n",
       "63018           5833      20.6           Hume City Council      3.386431   \n",
       "63019           5833      20.6           Hume City Council      3.386431   \n",
       "63020           5833      20.6           Hume City Council      3.386431   \n",
       "\n",
       "       Rel_room_num  \n",
       "0          1.278244  \n",
       "1          1.278244  \n",
       "2          1.278244  \n",
       "3          0.998922  \n",
       "4          0.665948  \n",
       "...             ...  \n",
       "63016      0.613945  \n",
       "63017      1.078729  \n",
       "63018      0.885889  \n",
       "63019      0.885889  \n",
       "63020      0.885889  \n",
       "\n",
       "[48432 rows x 15 columns]"
      ]
     },
     "execution_count": 48,
     "metadata": {},
     "output_type": "execute_result"
    }
   ],
   "source": [
    "df"
   ]
  },
  {
   "cell_type": "code",
   "execution_count": 49,
   "metadata": {},
   "outputs": [],
   "source": [
    "import datetime\n",
    "df['yyyymmdd'] = df['Date'].apply(lambda x:datetime.datetime.strftime(x,'%Y%m%d'))"
   ]
  },
  {
   "cell_type": "code",
   "execution_count": 50,
   "metadata": {},
   "outputs": [
    {
     "data": {
      "text/plain": [
       "0        20170401\n",
       "1        20170401\n",
       "2        20170401\n",
       "3        20170401\n",
       "4        20170401\n",
       "           ...   \n",
       "63016    20180331\n",
       "63017    20180331\n",
       "63018    20180331\n",
       "63019    20180331\n",
       "63020    20180331\n",
       "Name: yyyymmdd, Length: 48432, dtype: object"
      ]
     },
     "execution_count": 50,
     "metadata": {},
     "output_type": "execute_result"
    }
   ],
   "source": [
    "(df['yyyymmdd'])"
   ]
  },
  {
   "cell_type": "code",
   "execution_count": 78,
   "metadata": {},
   "outputs": [
    {
     "data": {
      "text/plain": [
       "str"
      ]
     },
     "execution_count": 78,
     "metadata": {},
     "output_type": "execute_result"
    }
   ],
   "source": [
    "a = df.iloc[1]['yyyymmdd']\n",
    "type(a)"
   ]
  },
  {
   "cell_type": "code",
   "execution_count": 57,
   "metadata": {},
   "outputs": [
    {
     "data": {
      "text/plain": [
       "yyyymmdd  SellerG   \n",
       "20160204  Daniel        1\n",
       "          Harcourts     1\n",
       "          Ray           1\n",
       "20160416  Mason         1\n",
       "20160423  Mason         1\n",
       "                       ..\n",
       "20181006  Ray           1\n",
       "20181013  Buckingham    1\n",
       "          FN            1\n",
       "          Mason         1\n",
       "          Raine         3\n",
       "Length: 347, dtype: int64"
      ]
     },
     "execution_count": 57,
     "metadata": {},
     "output_type": "execute_result"
    }
   ],
   "source": [
    "date_seller = df[df['Regionname']== \"Northern Victoria\"].groupby(['yyyymmdd','SellerG'])\n",
    "date_seller.size()"
   ]
  },
  {
   "cell_type": "code",
   "execution_count": 58,
   "metadata": {},
   "outputs": [
    {
     "data": {
      "text/html": [
       "<div>\n",
       "<style scoped>\n",
       "    .dataframe tbody tr th:only-of-type {\n",
       "        vertical-align: middle;\n",
       "    }\n",
       "\n",
       "    .dataframe tbody tr th {\n",
       "        vertical-align: top;\n",
       "    }\n",
       "\n",
       "    .dataframe thead th {\n",
       "        text-align: right;\n",
       "    }\n",
       "</style>\n",
       "<table border=\"1\" class=\"dataframe\">\n",
       "  <thead>\n",
       "    <tr style=\"text-align: right;\">\n",
       "      <th>SellerG</th>\n",
       "      <th>Barry</th>\n",
       "      <th>Bell</th>\n",
       "      <th>Brad</th>\n",
       "      <th>Buckingham</th>\n",
       "      <th>Coventry</th>\n",
       "      <th>Daniel</th>\n",
       "      <th>Darren</th>\n",
       "      <th>Emerson</th>\n",
       "      <th>Eric</th>\n",
       "      <th>Eview</th>\n",
       "      <th>...</th>\n",
       "      <th>Ray</th>\n",
       "      <th>Reliance</th>\n",
       "      <th>Ruralco</th>\n",
       "      <th>Ryder</th>\n",
       "      <th>Stockdale</th>\n",
       "      <th>Sweeney</th>\n",
       "      <th>The</th>\n",
       "      <th>YPA</th>\n",
       "      <th>hockingstuart</th>\n",
       "      <th>hockingstuart/hockingstuart</th>\n",
       "    </tr>\n",
       "    <tr>\n",
       "      <th>yyyymmdd</th>\n",
       "      <th></th>\n",
       "      <th></th>\n",
       "      <th></th>\n",
       "      <th></th>\n",
       "      <th></th>\n",
       "      <th></th>\n",
       "      <th></th>\n",
       "      <th></th>\n",
       "      <th></th>\n",
       "      <th></th>\n",
       "      <th></th>\n",
       "      <th></th>\n",
       "      <th></th>\n",
       "      <th></th>\n",
       "      <th></th>\n",
       "      <th></th>\n",
       "      <th></th>\n",
       "      <th></th>\n",
       "      <th></th>\n",
       "      <th></th>\n",
       "      <th></th>\n",
       "    </tr>\n",
       "  </thead>\n",
       "  <tbody>\n",
       "    <tr>\n",
       "      <th>20160204</th>\n",
       "      <td>NaN</td>\n",
       "      <td>NaN</td>\n",
       "      <td>NaN</td>\n",
       "      <td>NaN</td>\n",
       "      <td>NaN</td>\n",
       "      <td>1.0</td>\n",
       "      <td>NaN</td>\n",
       "      <td>NaN</td>\n",
       "      <td>NaN</td>\n",
       "      <td>NaN</td>\n",
       "      <td>...</td>\n",
       "      <td>1.0</td>\n",
       "      <td>NaN</td>\n",
       "      <td>NaN</td>\n",
       "      <td>NaN</td>\n",
       "      <td>NaN</td>\n",
       "      <td>NaN</td>\n",
       "      <td>NaN</td>\n",
       "      <td>NaN</td>\n",
       "      <td>NaN</td>\n",
       "      <td>NaN</td>\n",
       "    </tr>\n",
       "    <tr>\n",
       "      <th>20160416</th>\n",
       "      <td>NaN</td>\n",
       "      <td>NaN</td>\n",
       "      <td>NaN</td>\n",
       "      <td>NaN</td>\n",
       "      <td>NaN</td>\n",
       "      <td>NaN</td>\n",
       "      <td>NaN</td>\n",
       "      <td>NaN</td>\n",
       "      <td>NaN</td>\n",
       "      <td>NaN</td>\n",
       "      <td>...</td>\n",
       "      <td>NaN</td>\n",
       "      <td>NaN</td>\n",
       "      <td>NaN</td>\n",
       "      <td>NaN</td>\n",
       "      <td>NaN</td>\n",
       "      <td>NaN</td>\n",
       "      <td>NaN</td>\n",
       "      <td>NaN</td>\n",
       "      <td>NaN</td>\n",
       "      <td>NaN</td>\n",
       "    </tr>\n",
       "    <tr>\n",
       "      <th>20160423</th>\n",
       "      <td>NaN</td>\n",
       "      <td>NaN</td>\n",
       "      <td>NaN</td>\n",
       "      <td>NaN</td>\n",
       "      <td>NaN</td>\n",
       "      <td>NaN</td>\n",
       "      <td>NaN</td>\n",
       "      <td>NaN</td>\n",
       "      <td>NaN</td>\n",
       "      <td>NaN</td>\n",
       "      <td>...</td>\n",
       "      <td>NaN</td>\n",
       "      <td>NaN</td>\n",
       "      <td>NaN</td>\n",
       "      <td>NaN</td>\n",
       "      <td>NaN</td>\n",
       "      <td>NaN</td>\n",
       "      <td>NaN</td>\n",
       "      <td>NaN</td>\n",
       "      <td>NaN</td>\n",
       "      <td>NaN</td>\n",
       "    </tr>\n",
       "    <tr>\n",
       "      <th>20160507</th>\n",
       "      <td>NaN</td>\n",
       "      <td>NaN</td>\n",
       "      <td>NaN</td>\n",
       "      <td>NaN</td>\n",
       "      <td>NaN</td>\n",
       "      <td>NaN</td>\n",
       "      <td>NaN</td>\n",
       "      <td>NaN</td>\n",
       "      <td>NaN</td>\n",
       "      <td>NaN</td>\n",
       "      <td>...</td>\n",
       "      <td>1.0</td>\n",
       "      <td>NaN</td>\n",
       "      <td>NaN</td>\n",
       "      <td>NaN</td>\n",
       "      <td>NaN</td>\n",
       "      <td>NaN</td>\n",
       "      <td>NaN</td>\n",
       "      <td>NaN</td>\n",
       "      <td>NaN</td>\n",
       "      <td>NaN</td>\n",
       "    </tr>\n",
       "    <tr>\n",
       "      <th>20160522</th>\n",
       "      <td>NaN</td>\n",
       "      <td>NaN</td>\n",
       "      <td>NaN</td>\n",
       "      <td>NaN</td>\n",
       "      <td>NaN</td>\n",
       "      <td>NaN</td>\n",
       "      <td>NaN</td>\n",
       "      <td>NaN</td>\n",
       "      <td>NaN</td>\n",
       "      <td>NaN</td>\n",
       "      <td>...</td>\n",
       "      <td>NaN</td>\n",
       "      <td>NaN</td>\n",
       "      <td>NaN</td>\n",
       "      <td>NaN</td>\n",
       "      <td>NaN</td>\n",
       "      <td>NaN</td>\n",
       "      <td>NaN</td>\n",
       "      <td>NaN</td>\n",
       "      <td>NaN</td>\n",
       "      <td>NaN</td>\n",
       "    </tr>\n",
       "    <tr>\n",
       "      <th>...</th>\n",
       "      <td>...</td>\n",
       "      <td>...</td>\n",
       "      <td>...</td>\n",
       "      <td>...</td>\n",
       "      <td>...</td>\n",
       "      <td>...</td>\n",
       "      <td>...</td>\n",
       "      <td>...</td>\n",
       "      <td>...</td>\n",
       "      <td>...</td>\n",
       "      <td>...</td>\n",
       "      <td>...</td>\n",
       "      <td>...</td>\n",
       "      <td>...</td>\n",
       "      <td>...</td>\n",
       "      <td>...</td>\n",
       "      <td>...</td>\n",
       "      <td>...</td>\n",
       "      <td>...</td>\n",
       "      <td>...</td>\n",
       "      <td>...</td>\n",
       "    </tr>\n",
       "    <tr>\n",
       "      <th>20180908</th>\n",
       "      <td>NaN</td>\n",
       "      <td>NaN</td>\n",
       "      <td>NaN</td>\n",
       "      <td>NaN</td>\n",
       "      <td>NaN</td>\n",
       "      <td>NaN</td>\n",
       "      <td>NaN</td>\n",
       "      <td>NaN</td>\n",
       "      <td>NaN</td>\n",
       "      <td>1.0</td>\n",
       "      <td>...</td>\n",
       "      <td>NaN</td>\n",
       "      <td>NaN</td>\n",
       "      <td>NaN</td>\n",
       "      <td>NaN</td>\n",
       "      <td>NaN</td>\n",
       "      <td>NaN</td>\n",
       "      <td>NaN</td>\n",
       "      <td>NaN</td>\n",
       "      <td>NaN</td>\n",
       "      <td>NaN</td>\n",
       "    </tr>\n",
       "    <tr>\n",
       "      <th>20180915</th>\n",
       "      <td>NaN</td>\n",
       "      <td>NaN</td>\n",
       "      <td>NaN</td>\n",
       "      <td>NaN</td>\n",
       "      <td>NaN</td>\n",
       "      <td>NaN</td>\n",
       "      <td>NaN</td>\n",
       "      <td>NaN</td>\n",
       "      <td>NaN</td>\n",
       "      <td>NaN</td>\n",
       "      <td>...</td>\n",
       "      <td>NaN</td>\n",
       "      <td>NaN</td>\n",
       "      <td>NaN</td>\n",
       "      <td>NaN</td>\n",
       "      <td>NaN</td>\n",
       "      <td>NaN</td>\n",
       "      <td>NaN</td>\n",
       "      <td>1.0</td>\n",
       "      <td>NaN</td>\n",
       "      <td>NaN</td>\n",
       "    </tr>\n",
       "    <tr>\n",
       "      <th>20180922</th>\n",
       "      <td>NaN</td>\n",
       "      <td>NaN</td>\n",
       "      <td>NaN</td>\n",
       "      <td>NaN</td>\n",
       "      <td>NaN</td>\n",
       "      <td>NaN</td>\n",
       "      <td>NaN</td>\n",
       "      <td>NaN</td>\n",
       "      <td>NaN</td>\n",
       "      <td>NaN</td>\n",
       "      <td>...</td>\n",
       "      <td>1.0</td>\n",
       "      <td>NaN</td>\n",
       "      <td>NaN</td>\n",
       "      <td>NaN</td>\n",
       "      <td>NaN</td>\n",
       "      <td>NaN</td>\n",
       "      <td>NaN</td>\n",
       "      <td>NaN</td>\n",
       "      <td>NaN</td>\n",
       "      <td>NaN</td>\n",
       "    </tr>\n",
       "    <tr>\n",
       "      <th>20181006</th>\n",
       "      <td>1.0</td>\n",
       "      <td>NaN</td>\n",
       "      <td>NaN</td>\n",
       "      <td>NaN</td>\n",
       "      <td>NaN</td>\n",
       "      <td>NaN</td>\n",
       "      <td>NaN</td>\n",
       "      <td>NaN</td>\n",
       "      <td>NaN</td>\n",
       "      <td>NaN</td>\n",
       "      <td>...</td>\n",
       "      <td>1.0</td>\n",
       "      <td>NaN</td>\n",
       "      <td>NaN</td>\n",
       "      <td>NaN</td>\n",
       "      <td>NaN</td>\n",
       "      <td>NaN</td>\n",
       "      <td>NaN</td>\n",
       "      <td>NaN</td>\n",
       "      <td>NaN</td>\n",
       "      <td>NaN</td>\n",
       "    </tr>\n",
       "    <tr>\n",
       "      <th>20181013</th>\n",
       "      <td>NaN</td>\n",
       "      <td>NaN</td>\n",
       "      <td>NaN</td>\n",
       "      <td>1.0</td>\n",
       "      <td>NaN</td>\n",
       "      <td>NaN</td>\n",
       "      <td>NaN</td>\n",
       "      <td>NaN</td>\n",
       "      <td>NaN</td>\n",
       "      <td>NaN</td>\n",
       "      <td>...</td>\n",
       "      <td>NaN</td>\n",
       "      <td>NaN</td>\n",
       "      <td>NaN</td>\n",
       "      <td>NaN</td>\n",
       "      <td>NaN</td>\n",
       "      <td>NaN</td>\n",
       "      <td>NaN</td>\n",
       "      <td>NaN</td>\n",
       "      <td>NaN</td>\n",
       "      <td>NaN</td>\n",
       "    </tr>\n",
       "  </tbody>\n",
       "</table>\n",
       "<p>99 rows × 49 columns</p>\n",
       "</div>"
      ],
      "text/plain": [
       "SellerG   Barry  Bell  Brad  Buckingham  Coventry  Daniel  Darren  Emerson  \\\n",
       "yyyymmdd                                                                     \n",
       "20160204    NaN   NaN   NaN         NaN       NaN     1.0     NaN      NaN   \n",
       "20160416    NaN   NaN   NaN         NaN       NaN     NaN     NaN      NaN   \n",
       "20160423    NaN   NaN   NaN         NaN       NaN     NaN     NaN      NaN   \n",
       "20160507    NaN   NaN   NaN         NaN       NaN     NaN     NaN      NaN   \n",
       "20160522    NaN   NaN   NaN         NaN       NaN     NaN     NaN      NaN   \n",
       "...         ...   ...   ...         ...       ...     ...     ...      ...   \n",
       "20180908    NaN   NaN   NaN         NaN       NaN     NaN     NaN      NaN   \n",
       "20180915    NaN   NaN   NaN         NaN       NaN     NaN     NaN      NaN   \n",
       "20180922    NaN   NaN   NaN         NaN       NaN     NaN     NaN      NaN   \n",
       "20181006    1.0   NaN   NaN         NaN       NaN     NaN     NaN      NaN   \n",
       "20181013    NaN   NaN   NaN         1.0       NaN     NaN     NaN      NaN   \n",
       "\n",
       "SellerG   Eric  Eview  ...  Ray  Reliance  Ruralco  Ryder  Stockdale  Sweeney  \\\n",
       "yyyymmdd               ...                                                      \n",
       "20160204   NaN    NaN  ...  1.0       NaN      NaN    NaN        NaN      NaN   \n",
       "20160416   NaN    NaN  ...  NaN       NaN      NaN    NaN        NaN      NaN   \n",
       "20160423   NaN    NaN  ...  NaN       NaN      NaN    NaN        NaN      NaN   \n",
       "20160507   NaN    NaN  ...  1.0       NaN      NaN    NaN        NaN      NaN   \n",
       "20160522   NaN    NaN  ...  NaN       NaN      NaN    NaN        NaN      NaN   \n",
       "...        ...    ...  ...  ...       ...      ...    ...        ...      ...   \n",
       "20180908   NaN    1.0  ...  NaN       NaN      NaN    NaN        NaN      NaN   \n",
       "20180915   NaN    NaN  ...  NaN       NaN      NaN    NaN        NaN      NaN   \n",
       "20180922   NaN    NaN  ...  1.0       NaN      NaN    NaN        NaN      NaN   \n",
       "20181006   NaN    NaN  ...  1.0       NaN      NaN    NaN        NaN      NaN   \n",
       "20181013   NaN    NaN  ...  NaN       NaN      NaN    NaN        NaN      NaN   \n",
       "\n",
       "SellerG   The  YPA  hockingstuart  hockingstuart/hockingstuart  \n",
       "yyyymmdd                                                        \n",
       "20160204  NaN  NaN            NaN                          NaN  \n",
       "20160416  NaN  NaN            NaN                          NaN  \n",
       "20160423  NaN  NaN            NaN                          NaN  \n",
       "20160507  NaN  NaN            NaN                          NaN  \n",
       "20160522  NaN  NaN            NaN                          NaN  \n",
       "...       ...  ...            ...                          ...  \n",
       "20180908  NaN  NaN            NaN                          NaN  \n",
       "20180915  NaN  1.0            NaN                          NaN  \n",
       "20180922  NaN  NaN            NaN                          NaN  \n",
       "20181006  NaN  NaN            NaN                          NaN  \n",
       "20181013  NaN  NaN            NaN                          NaN  \n",
       "\n",
       "[99 rows x 49 columns]"
      ]
     },
     "execution_count": 58,
     "metadata": {},
     "output_type": "execute_result"
    }
   ],
   "source": [
    "date_seller.size().unstack()"
   ]
  },
  {
   "cell_type": "code",
   "execution_count": 84,
   "metadata": {},
   "outputs": [
    {
     "data": {
      "text/plain": [
       "<AxesSubplot:xlabel='yyyymmdd'>"
      ]
     },
     "execution_count": 84,
     "metadata": {},
     "output_type": "execute_result"
    },
    {
     "data": {
      "image/png": "[encoded data removed]",
      "text/plain": [
       "<Figure size 1080x1080 with 1 Axes>"
      ]
     },
     "metadata": {
      "needs_background": "light"
     },
     "output_type": "display_data"
    }
   ],
   "source": [
    "date_seller.size().unstack().plot(kind='bar',figsize=(15,15))\n"
   ]
  },
  {
   "cell_type": "code",
   "execution_count": null,
   "metadata": {},
   "outputs": [],
   "source": [
    "df['Regionname']"
   ]
  },
  {
   "cell_type": "markdown",
   "metadata": {},
   "source": [
    "<h1>Examining Sales</h1>"
   ]
  },
  {
   "cell_type": "markdown",
   "metadata": {},
   "source": [
    "<h2>We'll look at the frequency by agency and report the top 5 values</h2>"
   ]
  },
  {
   "cell_type": "code",
   "execution_count": 59,
   "metadata": {},
   "outputs": [
    {
     "data": {
      "text/plain": [
       "Regionname\n",
       "Northern Metropolitan         13598\n",
       "Southern Metropolitan         12548\n",
       "Western Metropolitan           9680\n",
       "Eastern Metropolitan           7585\n",
       "South-Eastern Metropolitan     4010\n",
       "Northern Victoria               455\n",
       "Eastern Victoria                374\n",
       "Western Victoria                182\n",
       "dtype: int64"
      ]
     },
     "execution_count": 59,
     "metadata": {},
     "output_type": "execute_result"
    }
   ],
   "source": [
    "df.groupby('Regionname').size().sort_values(ascending=False)"
   ]
  },
  {
   "cell_type": "code",
   "execution_count": 60,
   "metadata": {},
   "outputs": [
    {
     "data": {
      "text/plain": [
       "<AxesSubplot:xlabel='Regionname'>"
      ]
     },
     "execution_count": 60,
     "metadata": {},
     "output_type": "execute_result"
    },
    {
     "data": {
      "image/png": "[encoded data removed]",
      "text/plain": [
       "<Figure size 1440x288 with 1 Axes>"
      ]
     },
     "metadata": {
      "needs_background": "light"
     },
     "output_type": "display_data"
    }
   ],
   "source": [
    "data.groupby('Regionname').size().sort_values(ascending=False).plot(kind='bar', figsize=(20,4))"
   ]
  },
  {
   "cell_type": "markdown",
   "metadata": {},
   "source": [
    "<h3>We can drill down into sales by seller and by region</h3>"
   ]
  },
  {
   "cell_type": "code",
   "execution_count": 61,
   "metadata": {},
   "outputs": [],
   "source": [
    "seller_region = df.groupby(['SellerG', 'Regionname']).size().unstack()"
   ]
  },
  {
   "cell_type": "code",
   "execution_count": 62,
   "metadata": {
    "scrolled": true
   },
   "outputs": [
    {
     "data": {
      "text/html": [
       "<div>\n",
       "<style scoped>\n",
       "    .dataframe tbody tr th:only-of-type {\n",
       "        vertical-align: middle;\n",
       "    }\n",
       "\n",
       "    .dataframe tbody tr th {\n",
       "        vertical-align: top;\n",
       "    }\n",
       "\n",
       "    .dataframe thead th {\n",
       "        text-align: right;\n",
       "    }\n",
       "</style>\n",
       "<table border=\"1\" class=\"dataframe\">\n",
       "  <thead>\n",
       "    <tr style=\"text-align: right;\">\n",
       "      <th>Regionname</th>\n",
       "      <th>Eastern Metropolitan</th>\n",
       "      <th>Eastern Victoria</th>\n",
       "      <th>Northern Metropolitan</th>\n",
       "      <th>Northern Victoria</th>\n",
       "      <th>South-Eastern Metropolitan</th>\n",
       "      <th>Southern Metropolitan</th>\n",
       "      <th>Western Metropolitan</th>\n",
       "      <th>Western Victoria</th>\n",
       "    </tr>\n",
       "    <tr>\n",
       "      <th>SellerG</th>\n",
       "      <th></th>\n",
       "      <th></th>\n",
       "      <th></th>\n",
       "      <th></th>\n",
       "      <th></th>\n",
       "      <th></th>\n",
       "      <th></th>\n",
       "      <th></th>\n",
       "    </tr>\n",
       "  </thead>\n",
       "  <tbody>\n",
       "    <tr>\n",
       "      <th>@Realty</th>\n",
       "      <td>5.0</td>\n",
       "      <td>NaN</td>\n",
       "      <td>14.0</td>\n",
       "      <td>NaN</td>\n",
       "      <td>1.0</td>\n",
       "      <td>NaN</td>\n",
       "      <td>1.0</td>\n",
       "      <td>NaN</td>\n",
       "    </tr>\n",
       "    <tr>\n",
       "      <th>A</th>\n",
       "      <td>NaN</td>\n",
       "      <td>NaN</td>\n",
       "      <td>6.0</td>\n",
       "      <td>NaN</td>\n",
       "      <td>NaN</td>\n",
       "      <td>NaN</td>\n",
       "      <td>NaN</td>\n",
       "      <td>NaN</td>\n",
       "    </tr>\n",
       "    <tr>\n",
       "      <th>AIME</th>\n",
       "      <td>NaN</td>\n",
       "      <td>NaN</td>\n",
       "      <td>NaN</td>\n",
       "      <td>NaN</td>\n",
       "      <td>NaN</td>\n",
       "      <td>1.0</td>\n",
       "      <td>NaN</td>\n",
       "      <td>NaN</td>\n",
       "    </tr>\n",
       "    <tr>\n",
       "      <th>ASL</th>\n",
       "      <td>7.0</td>\n",
       "      <td>NaN</td>\n",
       "      <td>3.0</td>\n",
       "      <td>NaN</td>\n",
       "      <td>NaN</td>\n",
       "      <td>NaN</td>\n",
       "      <td>NaN</td>\n",
       "      <td>NaN</td>\n",
       "    </tr>\n",
       "    <tr>\n",
       "      <th>Abercromby's</th>\n",
       "      <td>1.0</td>\n",
       "      <td>NaN</td>\n",
       "      <td>7.0</td>\n",
       "      <td>NaN</td>\n",
       "      <td>NaN</td>\n",
       "      <td>34.0</td>\n",
       "      <td>NaN</td>\n",
       "      <td>NaN</td>\n",
       "    </tr>\n",
       "    <tr>\n",
       "      <th>...</th>\n",
       "      <td>...</td>\n",
       "      <td>...</td>\n",
       "      <td>...</td>\n",
       "      <td>...</td>\n",
       "      <td>...</td>\n",
       "      <td>...</td>\n",
       "      <td>...</td>\n",
       "      <td>...</td>\n",
       "    </tr>\n",
       "    <tr>\n",
       "      <th>iOne</th>\n",
       "      <td>NaN</td>\n",
       "      <td>NaN</td>\n",
       "      <td>NaN</td>\n",
       "      <td>NaN</td>\n",
       "      <td>NaN</td>\n",
       "      <td>NaN</td>\n",
       "      <td>1.0</td>\n",
       "      <td>NaN</td>\n",
       "    </tr>\n",
       "    <tr>\n",
       "      <th>iProperty</th>\n",
       "      <td>1.0</td>\n",
       "      <td>NaN</td>\n",
       "      <td>NaN</td>\n",
       "      <td>NaN</td>\n",
       "      <td>NaN</td>\n",
       "      <td>NaN</td>\n",
       "      <td>NaN</td>\n",
       "      <td>NaN</td>\n",
       "    </tr>\n",
       "    <tr>\n",
       "      <th>iSell</th>\n",
       "      <td>NaN</td>\n",
       "      <td>NaN</td>\n",
       "      <td>NaN</td>\n",
       "      <td>NaN</td>\n",
       "      <td>98.0</td>\n",
       "      <td>1.0</td>\n",
       "      <td>NaN</td>\n",
       "      <td>NaN</td>\n",
       "    </tr>\n",
       "    <tr>\n",
       "      <th>iTRAK</th>\n",
       "      <td>58.0</td>\n",
       "      <td>8.0</td>\n",
       "      <td>1.0</td>\n",
       "      <td>NaN</td>\n",
       "      <td>3.0</td>\n",
       "      <td>NaN</td>\n",
       "      <td>NaN</td>\n",
       "      <td>NaN</td>\n",
       "    </tr>\n",
       "    <tr>\n",
       "      <th>voglwalpole</th>\n",
       "      <td>2.0</td>\n",
       "      <td>NaN</td>\n",
       "      <td>NaN</td>\n",
       "      <td>NaN</td>\n",
       "      <td>NaN</td>\n",
       "      <td>NaN</td>\n",
       "      <td>NaN</td>\n",
       "      <td>NaN</td>\n",
       "    </tr>\n",
       "  </tbody>\n",
       "</table>\n",
       "<p>422 rows × 8 columns</p>\n",
       "</div>"
      ],
      "text/plain": [
       "Regionname    Eastern Metropolitan  Eastern Victoria  Northern Metropolitan  \\\n",
       "SellerG                                                                       \n",
       "@Realty                        5.0               NaN                   14.0   \n",
       "A                              NaN               NaN                    6.0   \n",
       "AIME                           NaN               NaN                    NaN   \n",
       "ASL                            7.0               NaN                    3.0   \n",
       "Abercromby's                   1.0               NaN                    7.0   \n",
       "...                            ...               ...                    ...   \n",
       "iOne                           NaN               NaN                    NaN   \n",
       "iProperty                      1.0               NaN                    NaN   \n",
       "iSell                          NaN               NaN                    NaN   \n",
       "iTRAK                         58.0               8.0                    1.0   \n",
       "voglwalpole                    2.0               NaN                    NaN   \n",
       "\n",
       "Regionname    Northern Victoria  South-Eastern Metropolitan  \\\n",
       "SellerG                                                       \n",
       "@Realty                     NaN                         1.0   \n",
       "A                           NaN                         NaN   \n",
       "AIME                        NaN                         NaN   \n",
       "ASL                         NaN                         NaN   \n",
       "Abercromby's                NaN                         NaN   \n",
       "...                         ...                         ...   \n",
       "iOne                        NaN                         NaN   \n",
       "iProperty                   NaN                         NaN   \n",
       "iSell                       NaN                        98.0   \n",
       "iTRAK                       NaN                         3.0   \n",
       "voglwalpole                 NaN                         NaN   \n",
       "\n",
       "Regionname    Southern Metropolitan  Western Metropolitan  Western Victoria  \n",
       "SellerG                                                                      \n",
       "@Realty                         NaN                   1.0               NaN  \n",
       "A                               NaN                   NaN               NaN  \n",
       "AIME                            1.0                   NaN               NaN  \n",
       "ASL                             NaN                   NaN               NaN  \n",
       "Abercromby's                   34.0                   NaN               NaN  \n",
       "...                             ...                   ...               ...  \n",
       "iOne                            NaN                   1.0               NaN  \n",
       "iProperty                       NaN                   NaN               NaN  \n",
       "iSell                           1.0                   NaN               NaN  \n",
       "iTRAK                           NaN                   NaN               NaN  \n",
       "voglwalpole                     NaN                   NaN               NaN  \n",
       "\n",
       "[422 rows x 8 columns]"
      ]
     },
     "execution_count": 62,
     "metadata": {},
     "output_type": "execute_result"
    }
   ],
   "source": [
    "seller_region"
   ]
  },
  {
   "cell_type": "code",
   "execution_count": 64,
   "metadata": {},
   "outputs": [
    {
     "name": "stdout",
     "output_type": "stream",
     "text": [
      "Eastern Metropolitan SellerG\n",
      "@Realty          5.0\n",
      "A                NaN\n",
      "AIME             NaN\n",
      "ASL              7.0\n",
      "Abercromby's     1.0\n",
      "                ... \n",
      "iOne             NaN\n",
      "iProperty        1.0\n",
      "iSell            NaN\n",
      "iTRAK           58.0\n",
      "voglwalpole      2.0\n",
      "Name: Eastern Metropolitan, Length: 422, dtype: float64\n",
      "Eastern Victoria SellerG\n",
      "@Realty         NaN\n",
      "A               NaN\n",
      "AIME            NaN\n",
      "ASL             NaN\n",
      "Abercromby's    NaN\n",
      "               ... \n",
      "iOne            NaN\n",
      "iProperty       NaN\n",
      "iSell           NaN\n",
      "iTRAK           8.0\n",
      "voglwalpole     NaN\n",
      "Name: Eastern Victoria, Length: 422, dtype: float64\n",
      "Northern Metropolitan SellerG\n",
      "@Realty         14.0\n",
      "A                6.0\n",
      "AIME             NaN\n",
      "ASL              3.0\n",
      "Abercromby's     7.0\n",
      "                ... \n",
      "iOne             NaN\n",
      "iProperty        NaN\n",
      "iSell            NaN\n",
      "iTRAK            1.0\n",
      "voglwalpole      NaN\n",
      "Name: Northern Metropolitan, Length: 422, dtype: float64\n",
      "Northern Victoria SellerG\n",
      "@Realty        NaN\n",
      "A              NaN\n",
      "AIME           NaN\n",
      "ASL            NaN\n",
      "Abercromby's   NaN\n",
      "                ..\n",
      "iOne           NaN\n",
      "iProperty      NaN\n",
      "iSell          NaN\n",
      "iTRAK          NaN\n",
      "voglwalpole    NaN\n",
      "Name: Northern Victoria, Length: 422, dtype: float64\n",
      "South-Eastern Metropolitan SellerG\n",
      "@Realty          1.0\n",
      "A                NaN\n",
      "AIME             NaN\n",
      "ASL              NaN\n",
      "Abercromby's     NaN\n",
      "                ... \n",
      "iOne             NaN\n",
      "iProperty        NaN\n",
      "iSell           98.0\n",
      "iTRAK            3.0\n",
      "voglwalpole      NaN\n",
      "Name: South-Eastern Metropolitan, Length: 422, dtype: float64\n",
      "Southern Metropolitan SellerG\n",
      "@Realty          NaN\n",
      "A                NaN\n",
      "AIME             1.0\n",
      "ASL              NaN\n",
      "Abercromby's    34.0\n",
      "                ... \n",
      "iOne             NaN\n",
      "iProperty        NaN\n",
      "iSell            1.0\n",
      "iTRAK            NaN\n",
      "voglwalpole      NaN\n",
      "Name: Southern Metropolitan, Length: 422, dtype: float64\n",
      "Western Metropolitan SellerG\n",
      "@Realty         1.0\n",
      "A               NaN\n",
      "AIME            NaN\n",
      "ASL             NaN\n",
      "Abercromby's    NaN\n",
      "               ... \n",
      "iOne            1.0\n",
      "iProperty       NaN\n",
      "iSell           NaN\n",
      "iTRAK           NaN\n",
      "voglwalpole     NaN\n",
      "Name: Western Metropolitan, Length: 422, dtype: float64\n",
      "Western Victoria SellerG\n",
      "@Realty        NaN\n",
      "A              NaN\n",
      "AIME           NaN\n",
      "ASL            NaN\n",
      "Abercromby's   NaN\n",
      "                ..\n",
      "iOne           NaN\n",
      "iProperty      NaN\n",
      "iSell          NaN\n",
      "iTRAK          NaN\n",
      "voglwalpole    NaN\n",
      "Name: Western Victoria, Length: 422, dtype: float64\n"
     ]
    }
   ],
   "source": [
    "for (label,col) in seller_region.iteritems():\n",
    "    print(label,col)"
   ]
  },
  {
   "cell_type": "markdown",
   "metadata": {},
   "source": [
    "<h3>We can create 'top 5 sellers' subplots for each region</h3>"
   ]
  },
  {
   "cell_type": "code",
   "execution_count": 20,
   "metadata": {},
   "outputs": [
    {
     "data": {
      "image/png": "[encoded data removed]",
      "text/plain": [
       "<Figure size 864x864 with 8 Axes>"
      ]
     },
     "metadata": {
      "needs_background": "light"
     },
     "output_type": "display_data"
    }
   ],
   "source": [
    "#We'll arrange the subplots in two rows and four columns. \n",
    "COL_NUM = 2\n",
    "ROW_NUM = 4\n",
    "import matplotlib.pyplot as plt\n",
    "fig, axes = plt.subplots(ROW_NUM, COL_NUM, figsize=(12,12))  #we create 4*2 subplots\n",
    "\n",
    "for i, (label, col) in enumerate(seller_region.iteritems()): \n",
    "    ax = axes[int(i/COL_NUM), i%COL_NUM] #for each i (region)- where the plot is located\n",
    "    col = col.sort_values(ascending=False)[:5] # sorting the size values for each seller (at each region) and selecting the top 5\n",
    "    col.plot(kind='barh', ax=ax) #ploting the top 5 in a horizontal bar chart in the ax location\n",
    "    ax.set_title(label) #setting the region name as the title of the particular location in the figure\n",
    "\n",
    "plt.tight_layout()  #automatically adjusts subplot params so that the subplot(s) fits in to the figure area"
   ]
  },
  {
   "cell_type": "code",
   "execution_count": 14,
   "metadata": {},
   "outputs": [
    {
     "data": {
      "text/plain": [
       "array([[<matplotlib.axes._subplots.AxesSubplot object at 0x00000218557D1D88>,\n",
       "        <matplotlib.axes._subplots.AxesSubplot object at 0x00000218540541C8>],\n",
       "       [<matplotlib.axes._subplots.AxesSubplot object at 0x0000021855A90608>,\n",
       "        <matplotlib.axes._subplots.AxesSubplot object at 0x0000021855AC5DC8>],\n",
       "       [<matplotlib.axes._subplots.AxesSubplot object at 0x0000021855AF8248>,\n",
       "        <matplotlib.axes._subplots.AxesSubplot object at 0x0000021855B31148>],\n",
       "       [<matplotlib.axes._subplots.AxesSubplot object at 0x0000021855B6D188>,\n",
       "        <matplotlib.axes._subplots.AxesSubplot object at 0x0000021855BA60C8>]],\n",
       "      dtype=object)"
      ]
     },
     "execution_count": 14,
     "metadata": {},
     "output_type": "execute_result"
    }
   ],
   "source": [
    "axes"
   ]
  },
  {
   "cell_type": "code",
   "execution_count": null,
   "metadata": {},
   "outputs": [],
   "source": []
  },
  {
   "cell_type": "code",
   "execution_count": 83,
   "metadata": {},
   "outputs": [
    {
     "name": "stdout",
     "output_type": "stream",
     "text": [
      "0 Eastern Metropolitan SellerG\n",
      "@Realty          5.0\n",
      "A                NaN\n",
      "AIME             NaN\n",
      "ASL              7.0\n",
      "Abercromby's     1.0\n",
      "                ... \n",
      "iOne             NaN\n",
      "iProperty        1.0\n",
      "iSell            NaN\n",
      "iTRAK           58.0\n",
      "voglwalpole      2.0\n",
      "Name: Eastern Metropolitan, Length: 422, dtype: float64\n",
      "1 Eastern Victoria SellerG\n",
      "@Realty         NaN\n",
      "A               NaN\n",
      "AIME            NaN\n",
      "ASL             NaN\n",
      "Abercromby's    NaN\n",
      "               ... \n",
      "iOne            NaN\n",
      "iProperty       NaN\n",
      "iSell           NaN\n",
      "iTRAK           8.0\n",
      "voglwalpole     NaN\n",
      "Name: Eastern Victoria, Length: 422, dtype: float64\n",
      "2 Northern Metropolitan SellerG\n",
      "@Realty         14.0\n",
      "A                6.0\n",
      "AIME             NaN\n",
      "ASL              3.0\n",
      "Abercromby's     7.0\n",
      "                ... \n",
      "iOne             NaN\n",
      "iProperty        NaN\n",
      "iSell            NaN\n",
      "iTRAK            1.0\n",
      "voglwalpole      NaN\n",
      "Name: Northern Metropolitan, Length: 422, dtype: float64\n",
      "3 Northern Victoria SellerG\n",
      "@Realty        NaN\n",
      "A              NaN\n",
      "AIME           NaN\n",
      "ASL            NaN\n",
      "Abercromby's   NaN\n",
      "                ..\n",
      "iOne           NaN\n",
      "iProperty      NaN\n",
      "iSell          NaN\n",
      "iTRAK          NaN\n",
      "voglwalpole    NaN\n",
      "Name: Northern Victoria, Length: 422, dtype: float64\n",
      "4 South-Eastern Metropolitan SellerG\n",
      "@Realty          1.0\n",
      "A                NaN\n",
      "AIME             NaN\n",
      "ASL              NaN\n",
      "Abercromby's     NaN\n",
      "                ... \n",
      "iOne             NaN\n",
      "iProperty        NaN\n",
      "iSell           98.0\n",
      "iTRAK            3.0\n",
      "voglwalpole      NaN\n",
      "Name: South-Eastern Metropolitan, Length: 422, dtype: float64\n",
      "5 Southern Metropolitan SellerG\n",
      "@Realty          NaN\n",
      "A                NaN\n",
      "AIME             1.0\n",
      "ASL              NaN\n",
      "Abercromby's    34.0\n",
      "                ... \n",
      "iOne             NaN\n",
      "iProperty        NaN\n",
      "iSell            1.0\n",
      "iTRAK            NaN\n",
      "voglwalpole      NaN\n",
      "Name: Southern Metropolitan, Length: 422, dtype: float64\n",
      "6 Western Metropolitan SellerG\n",
      "@Realty         1.0\n",
      "A               NaN\n",
      "AIME            NaN\n",
      "ASL             NaN\n",
      "Abercromby's    NaN\n",
      "               ... \n",
      "iOne            1.0\n",
      "iProperty       NaN\n",
      "iSell           NaN\n",
      "iTRAK           NaN\n",
      "voglwalpole     NaN\n",
      "Name: Western Metropolitan, Length: 422, dtype: float64\n",
      "7 Western Victoria SellerG\n",
      "@Realty        NaN\n",
      "A              NaN\n",
      "AIME           NaN\n",
      "ASL            NaN\n",
      "Abercromby's   NaN\n",
      "                ..\n",
      "iOne           NaN\n",
      "iProperty      NaN\n",
      "iSell          NaN\n",
      "iTRAK          NaN\n",
      "voglwalpole    NaN\n",
      "Name: Western Victoria, Length: 422, dtype: float64\n"
     ]
    }
   ],
   "source": [
    "for i, (label, col) in enumerate(seller_region.iteritems()): \n",
    "    print(i,label,col)"
   ]
  },
  {
   "cell_type": "markdown",
   "metadata": {},
   "source": [
    "<h1>Pricing </h1>\n",
    "<h2>We can compute simple statistics</h2>"
   ]
  },
  {
   "cell_type": "code",
   "execution_count": 65,
   "metadata": {},
   "outputs": [
    {
     "data": {
      "text/plain": [
       "Index(['Unnamed: 0', 'Unnamed: 0.1', 'Suburb', 'Address', 'Rooms', 'Type',\n",
       "       'Price', 'Method', 'SellerG', 'Date', 'Postcode', 'Regionname',\n",
       "       'Propertycount', 'Distance', 'CouncilArea', 'Avg_room_num',\n",
       "       'Rel_room_num', 'lat_long', 'lat', 'lng'],\n",
       "      dtype='object')"
      ]
     },
     "execution_count": 65,
     "metadata": {},
     "output_type": "execute_result"
    }
   ],
   "source": [
    "data.columns"
   ]
  },
  {
   "cell_type": "code",
   "execution_count": 66,
   "metadata": {},
   "outputs": [],
   "source": [
    "grouped = data[['Price','Regionname']].groupby('Regionname')"
   ]
  },
  {
   "cell_type": "code",
   "execution_count": 67,
   "metadata": {},
   "outputs": [
    {
     "data": {
      "text/html": [
       "<div>\n",
       "<style scoped>\n",
       "    .dataframe tbody tr th:only-of-type {\n",
       "        vertical-align: middle;\n",
       "    }\n",
       "\n",
       "    .dataframe tbody tr th {\n",
       "        vertical-align: top;\n",
       "    }\n",
       "\n",
       "    .dataframe thead tr th {\n",
       "        text-align: left;\n",
       "    }\n",
       "\n",
       "    .dataframe thead tr:last-of-type th {\n",
       "        text-align: right;\n",
       "    }\n",
       "</style>\n",
       "<table border=\"1\" class=\"dataframe\">\n",
       "  <thead>\n",
       "    <tr>\n",
       "      <th></th>\n",
       "      <th colspan=\"8\" halign=\"left\">Price</th>\n",
       "    </tr>\n",
       "    <tr>\n",
       "      <th></th>\n",
       "      <th>count</th>\n",
       "      <th>mean</th>\n",
       "      <th>std</th>\n",
       "      <th>min</th>\n",
       "      <th>25%</th>\n",
       "      <th>50%</th>\n",
       "      <th>75%</th>\n",
       "      <th>max</th>\n",
       "    </tr>\n",
       "    <tr>\n",
       "      <th>Regionname</th>\n",
       "      <th></th>\n",
       "      <th></th>\n",
       "      <th></th>\n",
       "      <th></th>\n",
       "      <th></th>\n",
       "      <th></th>\n",
       "      <th></th>\n",
       "      <th></th>\n",
       "    </tr>\n",
       "  </thead>\n",
       "  <tbody>\n",
       "    <tr>\n",
       "      <th>Eastern Metropolitan</th>\n",
       "      <td>90.0</td>\n",
       "      <td>1.147026e+06</td>\n",
       "      <td>421684.026862</td>\n",
       "      <td>420000.0</td>\n",
       "      <td>816250.0</td>\n",
       "      <td>1100040.0</td>\n",
       "      <td>1375000.0</td>\n",
       "      <td>3105000.0</td>\n",
       "    </tr>\n",
       "    <tr>\n",
       "      <th>Eastern Victoria</th>\n",
       "      <td>3.0</td>\n",
       "      <td>5.353333e+05</td>\n",
       "      <td>213216.634748</td>\n",
       "      <td>378000.0</td>\n",
       "      <td>414000.0</td>\n",
       "      <td>450000.0</td>\n",
       "      <td>614000.0</td>\n",
       "      <td>778000.0</td>\n",
       "    </tr>\n",
       "    <tr>\n",
       "      <th>Northern Metropolitan</th>\n",
       "      <td>149.0</td>\n",
       "      <td>8.781585e+05</td>\n",
       "      <td>526282.532205</td>\n",
       "      <td>325000.0</td>\n",
       "      <td>542000.0</td>\n",
       "      <td>725000.0</td>\n",
       "      <td>1070000.0</td>\n",
       "      <td>4150000.0</td>\n",
       "    </tr>\n",
       "    <tr>\n",
       "      <th>Northern Victoria</th>\n",
       "      <td>2.0</td>\n",
       "      <td>5.700000e+05</td>\n",
       "      <td>226274.169980</td>\n",
       "      <td>410000.0</td>\n",
       "      <td>490000.0</td>\n",
       "      <td>570000.0</td>\n",
       "      <td>650000.0</td>\n",
       "      <td>730000.0</td>\n",
       "    </tr>\n",
       "    <tr>\n",
       "      <th>South-Eastern Metropolitan</th>\n",
       "      <td>47.0</td>\n",
       "      <td>8.827564e+05</td>\n",
       "      <td>532843.576098</td>\n",
       "      <td>307000.0</td>\n",
       "      <td>637500.0</td>\n",
       "      <td>825000.0</td>\n",
       "      <td>955000.0</td>\n",
       "      <td>4000000.0</td>\n",
       "    </tr>\n",
       "    <tr>\n",
       "      <th>Southern Metropolitan</th>\n",
       "      <td>127.0</td>\n",
       "      <td>1.344648e+06</td>\n",
       "      <td>772814.404900</td>\n",
       "      <td>295000.0</td>\n",
       "      <td>800000.0</td>\n",
       "      <td>1270000.0</td>\n",
       "      <td>1610000.0</td>\n",
       "      <td>5000000.0</td>\n",
       "    </tr>\n",
       "    <tr>\n",
       "      <th>Western Metropolitan</th>\n",
       "      <td>81.0</td>\n",
       "      <td>8.077519e+05</td>\n",
       "      <td>341756.189816</td>\n",
       "      <td>330000.0</td>\n",
       "      <td>593000.0</td>\n",
       "      <td>715000.0</td>\n",
       "      <td>910000.0</td>\n",
       "      <td>2000000.0</td>\n",
       "    </tr>\n",
       "    <tr>\n",
       "      <th>Western Victoria</th>\n",
       "      <td>1.0</td>\n",
       "      <td>4.310000e+05</td>\n",
       "      <td>NaN</td>\n",
       "      <td>431000.0</td>\n",
       "      <td>431000.0</td>\n",
       "      <td>431000.0</td>\n",
       "      <td>431000.0</td>\n",
       "      <td>431000.0</td>\n",
       "    </tr>\n",
       "  </tbody>\n",
       "</table>\n",
       "</div>"
      ],
      "text/plain": [
       "                            Price                                         \\\n",
       "                            count          mean            std       min   \n",
       "Regionname                                                                 \n",
       "Eastern Metropolitan         90.0  1.147026e+06  421684.026862  420000.0   \n",
       "Eastern Victoria              3.0  5.353333e+05  213216.634748  378000.0   \n",
       "Northern Metropolitan       149.0  8.781585e+05  526282.532205  325000.0   \n",
       "Northern Victoria             2.0  5.700000e+05  226274.169980  410000.0   \n",
       "South-Eastern Metropolitan   47.0  8.827564e+05  532843.576098  307000.0   \n",
       "Southern Metropolitan       127.0  1.344648e+06  772814.404900  295000.0   \n",
       "Western Metropolitan         81.0  8.077519e+05  341756.189816  330000.0   \n",
       "Western Victoria              1.0  4.310000e+05            NaN  431000.0   \n",
       "\n",
       "                                                                       \n",
       "                                 25%        50%        75%        max  \n",
       "Regionname                                                             \n",
       "Eastern Metropolitan        816250.0  1100040.0  1375000.0  3105000.0  \n",
       "Eastern Victoria            414000.0   450000.0   614000.0   778000.0  \n",
       "Northern Metropolitan       542000.0   725000.0  1070000.0  4150000.0  \n",
       "Northern Victoria           490000.0   570000.0   650000.0   730000.0  \n",
       "South-Eastern Metropolitan  637500.0   825000.0   955000.0  4000000.0  \n",
       "Southern Metropolitan       800000.0  1270000.0  1610000.0  5000000.0  \n",
       "Western Metropolitan        593000.0   715000.0   910000.0  2000000.0  \n",
       "Western Victoria            431000.0   431000.0   431000.0   431000.0  "
      ]
     },
     "execution_count": 67,
     "metadata": {},
     "output_type": "execute_result"
    }
   ],
   "source": [
    "grouped.describe()"
   ]
  },
  {
   "cell_type": "markdown",
   "metadata": {},
   "source": [
    "<h2>Let's order regions by mean price in a decreasing order</h2>"
   ]
  },
  {
   "cell_type": "code",
   "execution_count": 68,
   "metadata": {},
   "outputs": [
    {
     "data": {
      "text/plain": [
       "<AxesSubplot:xlabel='Regionname'>"
      ]
     },
     "execution_count": 68,
     "metadata": {},
     "output_type": "execute_result"
    },
    {
     "data": {
      "image/png": "[encoded data removed]",
      "text/plain": [
       "<Figure size 432x288 with 1 Axes>"
      ]
     },
     "metadata": {
      "needs_background": "light"
     },
     "output_type": "display_data"
    }
   ],
   "source": [
    "grouped.mean().sort_values('Price',ascending=False).plot(kind=\"bar\")"
   ]
  },
  {
   "cell_type": "code",
   "execution_count": 69,
   "metadata": {
    "scrolled": true
   },
   "outputs": [
    {
     "data": {
      "text/plain": [
       "<AxesSubplot:>"
      ]
     },
     "execution_count": 69,
     "metadata": {},
     "output_type": "execute_result"
    },
    {
     "data": {
      "image/png": "[encoded data removed]",
      "text/plain": [
       "<Figure size 432x288 with 1 Axes>"
      ]
     },
     "metadata": {
      "needs_background": "light"
     },
     "output_type": "display_data"
    }
   ],
   "source": [
    "data['Price'].hist(bins=50)"
   ]
  },
  {
   "cell_type": "code",
   "execution_count": 70,
   "metadata": {},
   "outputs": [
    {
     "data": {
      "text/plain": [
       "<AxesSubplot:>"
      ]
     },
     "execution_count": 70,
     "metadata": {},
     "output_type": "execute_result"
    },
    {
     "data": {
      "image/png": "[encoded data removed]",
      "text/plain": [
       "<Figure size 432x288 with 1 Axes>"
      ]
     },
     "metadata": {
      "needs_background": "light"
     },
     "output_type": "display_data"
    }
   ],
   "source": [
    "data['Price'].hist(bins=10)"
   ]
  },
  {
   "cell_type": "markdown",
   "metadata": {
    "collapsed": true
   },
   "source": [
    "<h1>Other useful visualization libraries</h1>\n",
    "<h2>seaborn: https://seaborn.pydata.org/</h2>\n",
    "<h2>bokeh: http://bokeh.pydata.org/en/latest/</h2>\n",
    "<h2>plotly: https://plot.ly/</h2>\n"
   ]
  }
 ],
 "metadata": {
  "anaconda-cloud": {},
  "kernelspec": {
   "display_name": "Python 3 (ipykernel)",
   "language": "python",
   "name": "python3"
  },
  "language_info": {
   "codemirror_mode": {
    "name": "ipython",
    "version": 3
   },
   "file_extension": ".py",
   "mimetype": "text/x-python",
   "name": "python",
   "nbconvert_exporter": "python",
   "pygments_lexer": "ipython3",
   "version": "3.9.7"
  }
 },
 "nbformat": 4,
 "nbformat_minor": 1
}
